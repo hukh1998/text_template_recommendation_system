{
 "cells": [
  {
   "cell_type": "markdown",
   "id": "a1c0eb1c-d9ec-42ed-a0cb-159525e3038b",
   "metadata": {
    "tags": []
   },
   "source": [
    "## Environment Setting"
   ]
  },
  {
   "cell_type": "code",
   "execution_count": 1,
   "id": "fc67983f-d9d3-4d41-a8cb-81dd0fd07c7b",
   "metadata": {},
   "outputs": [],
   "source": [
    "#!pip install sentence-transformers"
   ]
  },
  {
   "cell_type": "code",
   "execution_count": 2,
   "id": "6070588f-de5c-4805-ad41-a95c3f78e756",
   "metadata": {},
   "outputs": [],
   "source": [
    "#!pip install xgboost"
   ]
  },
  {
   "cell_type": "code",
   "execution_count": 3,
   "id": "cce1f638-fdc6-4c0d-82b3-43620b27849b",
   "metadata": {},
   "outputs": [],
   "source": [
    "#!pip install imbalanced-learn"
   ]
  },
  {
   "cell_type": "code",
   "execution_count": 4,
   "id": "6993ee1c-a7bb-4365-8524-80c9c83b2bc0",
   "metadata": {},
   "outputs": [],
   "source": [
    "#!pip install tensorflow"
   ]
  },
  {
   "cell_type": "code",
   "execution_count": 50,
   "id": "17e342f7",
   "metadata": {},
   "outputs": [],
   "source": [
    "import pandas as pd\n",
    "import numpy as np\n",
    "from sklearn.metrics.pairwise import cosine_similarity\n",
    "from sklearn.linear_model import LogisticRegression\n",
    "from sklearn.metrics import accuracy_score\n",
    "from sklearn.model_selection import train_test_split\n",
    "from sklearn.metrics import confusion_matrix\n",
    "import tensorflow\n",
    "from tensorflow import keras\n",
    "from sentence_transformers import SentenceTransformer\n",
    "import xgboost as xgb\n",
    "from sklearn.metrics import classification_report, confusion_matrix, accuracy_score\n",
    "# from sentence_transformers import SentenceTransformer\n",
    "from tqdm import tqdm"
   ]
  },
  {
   "cell_type": "markdown",
   "id": "f386769a-3327-4533-8455-b99359fd6771",
   "metadata": {
    "tags": []
   },
   "source": [
    "## Pipeline Construction"
   ]
  },
  {
   "cell_type": "code",
   "execution_count": null,
   "metadata": {},
   "outputs": [],
   "source": []
  },
  {
   "cell_type": "code",
   "execution_count": 51,
   "id": "d0b63e7a",
   "metadata": {},
   "outputs": [],
   "source": [
    "def collaborative_filtering_w(templates,cases):\n",
    "    temp = templates.reset_index(drop = True)\n",
    "    case = cases.reset_index(drop = True)\n",
    "    # temp = templates\n",
    "    # case = cases\n",
    "    n = len(temp)\n",
    "    m = len(case)\n",
    "    #print('Number of template for district ',Corp, ' is ',n)\n",
    "    #print('Number of cases for this district is ',m)\n",
    "    \n",
    "    mat = [[0 for _ in range(n)] for __ in range(m)]\n",
    "    \n",
    "    temp_list = list(temp.TemplateId)\n",
    "    \n",
    "    df = pd.DataFrame(mat, columns = temp_list)\n",
    "    \n",
    "    for i in tqdm(range(m-1)):\n",
    "        similarities = []\n",
    "        for j in range(m-1):\n",
    "            if i != j:\n",
    "                similarity = np.dot(case.qq_embeddings.values[i],case.qq_embeddings.values[j].T).item()\n",
    "                similarities.append((j,similarity))\n",
    "        similarities.sort(key = lambda X:X[1],reverse = True)\n",
    "        similarities = similarities[:10]\n",
    "        for pair in similarities:\n",
    "            if not np.isnan(case.TemplateId[pair[0]]):\n",
    "                df.loc[i,case.TemplateId[pair[0]]] += pair[1]\n",
    "    \n",
    "    \n",
    "    return df"
   ]
  },
  {
   "cell_type": "code",
   "execution_count": 52,
   "id": "73a6838e-24b5-4bac-ba4e-492e2d3417a4",
   "metadata": {},
   "outputs": [],
   "source": [
    "def collaborative_filtering_w_corp(templates,cases,Corp):\n",
    "    temp = templates[templates.MainCorpNo == Corp].reset_index(drop = True)\n",
    "    case = cases[cases.CorpNo == Corp].reset_index(drop = True)\n",
    "    n = len(temp)\n",
    "    m = len(case)\n",
    "    #print('Number of template for district ',Corp, ' is ',n)\n",
    "    #print('Number of cases for this district is ',m)\n",
    "    \n",
    "    mat = [[0 for _ in range(n)] for __ in range(m)]\n",
    "    \n",
    "    temp_list = list(temp.TemplateId)\n",
    "    \n",
    "    df = pd.DataFrame( mat, columns = temp_list)\n",
    "    \n",
    "    for i in tqdm(range(m-1)):\n",
    "        similarities = []\n",
    "        for j in range(m-1):\n",
    "            if i != j:\n",
    "                similarity = np.dot(case.qq_embeddings.values[i],case.qq_embeddings.values[j].T).item()\n",
    "                similarities.append((j,similarity))\n",
    "        similarities.sort(key = lambda X:X[1],reverse = True)\n",
    "        similarities = similarities[:10]\n",
    "        for pair in similarities:\n",
    "            if not np.isnan(case.TemplateId[pair[0]]):\n",
    "                df.loc[i,case.TemplateId[pair[0]]] += pair[1]\n",
    "    \n",
    "    \n",
    "    return df"
   ]
  },
  {
   "cell_type": "code",
   "execution_count": 53,
   "id": "46455da5",
   "metadata": {},
   "outputs": [],
   "source": [
    "def jaccard_similarity_sentence(sentence1, sentence2):\n",
    "    # Tokenize the sentences into words\n",
    "    words1 = set(sentence1.split())\n",
    "    words2 = set(sentence2.split())\n",
    "\n",
    "    # Compute the intersection and union\n",
    "    intersection = words1.intersection(words2)\n",
    "    union = words1.union(words2)\n",
    "\n",
    "    # Calculate Jaccard Similarity\n",
    "    similarity = len(intersection) / len(union)\n",
    "    \n",
    "    return similarity"
   ]
  },
  {
   "cell_type": "code",
   "execution_count": 54,
   "id": "772d1175-44aa-4406-9a17-b7d9660816af",
   "metadata": {},
   "outputs": [],
   "source": [
    "def jaccard_matrix(templates, cases):\n",
    "    #temp = templates[templates.MainCorpNo == Corp].reset_index(drop = True)\n",
    "    #case = cases[cases.CorpNo == Corp].reset_index(drop = True)\n",
    "    temp = templates\n",
    "    case = cases\n",
    "    n = len(temp)\n",
    "    m = len(case)\n",
    "    \n",
    "    mat = [[0 for _ in range(n)] for __ in range(m)]\n",
    "    \n",
    "    temp_list = list(temp.TemplateId)\n",
    "    \n",
    "    similarity_matrix = pd.DataFrame( mat, columns = temp_list)\n",
    "    for case_id, case_body in tqdm(zip(case.index, case['cleaned_description'])):\n",
    "        for template_id, template_body in zip(temp['TemplateId'], temp['cleaned_MessageBody']):\n",
    "            similarity = jaccard_similarity_sentence(case_body, template_body)\n",
    "            similarity_matrix.loc[case_id, template_id] = similarity\n",
    "    return similarity_matrix"
   ]
  },
  {
   "cell_type": "code",
   "execution_count": 55,
   "id": "9ca005e8-7d92-485e-bf64-b2d30ce10a86",
   "metadata": {},
   "outputs": [],
   "source": [
    "def jaccard_matrix_corp(templates, cases, Corp):\n",
    "    temp = templates[templates.MainCorpNo == Corp].reset_index(drop = True)\n",
    "    case = cases[cases.CorpNo == Corp].reset_index(drop = True)\n",
    "    \n",
    "    n = len(temp)\n",
    "    m = len(case)\n",
    "    \n",
    "    mat = [[0 for _ in range(n)] for __ in range(m)]\n",
    "    \n",
    "    temp_list = list(temp.TemplateId)\n",
    "    \n",
    "    similarity_matrix = pd.DataFrame( mat, columns = temp_list)\n",
    "    for case_id, case_body in tqdm(zip(case.index, case['cleaned_description'])):\n",
    "        for template_id, template_body in zip(temp['TemplateId'], temp['cleaned_MessageBody']):\n",
    "            similarity = jaccard_similarity_sentence(case_body, template_body)\n",
    "            similarity_matrix.loc[case_id, template_id] = similarity\n",
    "    return similarity_matrix"
   ]
  },
  {
   "cell_type": "code",
   "execution_count": 56,
   "id": "f7ec6e6d",
   "metadata": {},
   "outputs": [],
   "source": [
    "def compute_similarity_matrix(templates, cases):\n",
    "\n",
    "    #temp = templates[templates.MainCorpNo == Corp].reset_index(drop = True)\n",
    "    #case = cases[cases.CorpNo == Corp].reset_index(drop = True)\n",
    "    \n",
    "    temp = templates\n",
    "    case = cases\n",
    "    n = len(temp)\n",
    "    m = len(case)\n",
    "    \n",
    "    mat = [[0 for _ in range(n)] for __ in range(m)]\n",
    "    \n",
    "    temp_list = list(temp.TemplateId)\n",
    "    \n",
    "    similarity_matrix = pd.DataFrame( mat, columns = temp_list)\n",
    "    for case_id, case_embedding in tqdm(zip(case.index, case['qa_embeddings'])):\n",
    "        for template_id, template_embedding in zip(temp['TemplateId'], temp['embeddings']):\n",
    "            similarity = np.dot(case_embedding, template_embedding.T).item()\n",
    "            similarity_matrix.loc[case_id, template_id] = similarity\n",
    "    return similarity_matrix"
   ]
  },
  {
   "cell_type": "code",
   "execution_count": 57,
   "id": "70d2701a-a6df-4913-a2f4-2bf2dd61f0a5",
   "metadata": {},
   "outputs": [],
   "source": [
    "def compute_similarity_matrix_corp(templates, cases,Corp):\n",
    "\n",
    "    temp = templates[templates.MainCorpNo == Corp].reset_index(drop = True)\n",
    "    case = cases[cases.CorpNo == Corp].reset_index(drop = True)\n",
    "    n = len(temp)\n",
    "    m = len(case)\n",
    "    \n",
    "    mat = [[0 for _ in range(n)] for __ in range(m)]\n",
    "    \n",
    "    temp_list = list(temp.TemplateId)\n",
    "    \n",
    "    similarity_matrix = pd.DataFrame( mat, columns = temp_list)\n",
    "    for case_id, case_embedding in tqdm(zip(case.index, case['qa_embeddings'])):\n",
    "        for template_id, template_embedding in zip(temp['TemplateId'], temp['embeddings']):\n",
    "            similarity = np.dot(case_embedding, template_embedding.T).item()\n",
    "            similarity_matrix.loc[case_id, template_id] = similarity\n",
    "    return similarity_matrix"
   ]
  },
  {
   "cell_type": "code",
   "execution_count": 58,
   "id": "571675e0",
   "metadata": {},
   "outputs": [],
   "source": [
    "def classification_df(templates,cases):\n",
    "    #temp = templates[templates.MainCorpNo == Corp].reset_index(drop = True)\n",
    "    #case = cases[cases.CorpNo == Corp].reset_index(drop = True)\n",
    "    temp = templates\n",
    "    case = cases\n",
    "    \n",
    "    similarity_df = compute_similarity_matrix(temp, case)\n",
    "    collaborative_df = collaborative_filtering_w(temp,case)\n",
    "    jaccard_df = jaccard_matrix(temp,case)\n",
    "    \n",
    "    n = len(temp)\n",
    "    m = len(case)\n",
    "    temp_list = list(temp.TemplateId)\n",
    "    \n",
    "    mat = [[0 for _ in range(4)] for __ in range(m*n)]\n",
    "    \n",
    "    df = pd.DataFrame(mat,columns = ['similarity_score','collaborative_score','jaccard_score','match'])\n",
    "    \n",
    "    cnt = 0\n",
    "    \n",
    "    for i in tqdm(range(m)):\n",
    "        for temp in temp_list:\n",
    "            df.loc[cnt,'similarity_score'] = similarity_df.loc[i,temp]\n",
    "            df.loc[cnt,'collaborative_score'] = collaborative_df.loc[i,temp]\n",
    "            df.loc[cnt,'jaccard_score'] = jaccard_df.loc[i,temp]\n",
    "            if (not np.isnan(case.TemplateId[i])) and case.TemplateId[i] == temp:\n",
    "                df.loc[cnt,'match'] = 1\n",
    "            cnt += 1\n",
    "    return df"
   ]
  },
  {
   "cell_type": "code",
   "execution_count": 59,
   "id": "053f3845-a880-4972-a571-8ea712a25737",
   "metadata": {},
   "outputs": [],
   "source": [
    "def classification_df_corp(templates,cases,Corp):\n",
    "    temp = templates[templates.MainCorpNo == Corp].reset_index(drop = True)\n",
    "    case = cases[cases.CorpNo == Corp].reset_index(drop = True)\n",
    "    \n",
    "    similarity_df = compute_similarity_matrix_corp(temp, case, Corp)\n",
    "    collaborative_df = collaborative_filtering_w_corp(temp,case,Corp)\n",
    "    jaccard_df = jaccard_matrix_corp(temp,case,Corp)\n",
    "    \n",
    "    n = len(temp)\n",
    "    m = len(case)\n",
    "    temp_list = list(temp.TemplateId)\n",
    "    \n",
    "    mat = [[0 for _ in range(4)] for __ in range(m*n)]\n",
    "    \n",
    "    df = pd.DataFrame(mat,columns = ['similarity_score','collaborative_score','jaccard_score','match'])\n",
    "    \n",
    "    cnt = 0\n",
    "    \n",
    "    for i in tqdm(range(m)):\n",
    "        for temp in temp_list:\n",
    "            df.loc[cnt,'similarity_score'] = similarity_df.loc[i,temp]\n",
    "            df.loc[cnt,'collaborative_score'] = collaborative_df.loc[i,temp]\n",
    "            df.loc[cnt,'jaccard_score'] = jaccard_df.loc[i,temp]\n",
    "            if (not np.isnan(case.TemplateId[i])) and case.TemplateId[i] == temp:\n",
    "                df.loc[cnt,'match'] = 1\n",
    "            cnt += 1\n",
    "    return df"
   ]
  },
  {
   "cell_type": "code",
   "execution_count": 60,
   "id": "884244aa-d66a-4cfc-a1f4-0c32b85558d3",
   "metadata": {},
   "outputs": [],
   "source": [
    "def xgboost_performance(templates_train,templates_matched,cases_train,cases_test,corp):\n",
    "    res_df_train = classification_df(templates_train, cases_train)\n",
    "    X_train = res_df_train[['similarity_score', 'collaborative_score', 'jaccard_score']]\n",
    "    y_train = res_df_train['match']\n",
    "    res_df_test = classification_df_corp(templates_matched,cases_test,corp)\n",
    "    X_test = res_df_test[['similarity_score', 'collaborative_score', 'jaccard_score']]\n",
    "    y_test = res_df_test['match']\n",
    "    \n",
    "    scale_pos_weight_value = sum(y_train == 0) / sum(y_train == 1)\n",
    "    \n",
    "    model = xgb.XGBClassifier(objective='binary:logistic', \n",
    "                        use_label_encoder=False, \n",
    "                        eval_metric='logloss',\n",
    "                        scale_pos_weight=scale_pos_weight_value)\n",
    "    model.fit(X_train, y_train)\n",
    "    probabilities = model.predict_proba(X_test)\n",
    "    \n",
    "    \n",
    "    threshold = 0.5\n",
    "    y_pred = (probabilities[:, 1] > threshold).astype(int)\n",
    "    \n",
    "    acc = accuracy_score(y_test, y_pred)\n",
    "    conf_mat = confusion_matrix(y_test, y_pred)\n",
    "    class_report = classification_report(y_test, y_pred)\n",
    "   \n",
    "    print(f'The accuracy of recommendation for district {corp} is {acc}')\n",
    "    print('Confusion matrix is', conf_mat)\n",
    "    print('Classification report:', class_report)\n",
    "    \n",
    "    save_model(model,'xgb_finetune.joblib')\n",
    "    return acc, conf_mat, class_report,  model"
   ]
  },
  {
   "cell_type": "code",
   "execution_count": 61,
   "id": "32635ad8-419d-4ac0-b1c7-33b16496c4e1",
   "metadata": {},
   "outputs": [],
   "source": [
    "from joblib import dump, load\n",
    "def save_model(model, filename):\n",
    "    dump(model, filename)"
   ]
  },
  {
   "cell_type": "markdown",
   "id": "c88d3502-edd6-496f-bf1d-875ed03a6dad",
   "metadata": {
    "tags": []
   },
   "source": [
    "## Dataset Split"
   ]
  },
  {
   "cell_type": "markdown",
   "id": "8dce3573-a671-4e62-b042-e616b1edcc75",
   "metadata": {},
   "source": [
    "#### Matched"
   ]
  },
  {
   "cell_type": "code",
   "execution_count": 85,
   "id": "127b54ef-663b-47cb-8b8f-2af1d63dbde8",
   "metadata": {},
   "outputs": [],
   "source": [
    "template_matched = pd.read_parquet('template_matched_original_embeds.parquet')\n",
    "case_matched = pd.read_parquet('case_matched_original_embeds.parquet')"
   ]
  },
  {
   "cell_type": "code",
   "execution_count": 86,
   "id": "a331dd7d-de48-44fb-930f-21104c2f5a2e",
   "metadata": {},
   "outputs": [],
   "source": [
    "comm = pd.read_csv('comm_clean.csv', encoding='ISO-8859-1')"
   ]
  },
  {
   "cell_type": "code",
   "execution_count": 87,
   "id": "9f875419-9b4c-4ace-a942-ecde69b913fa",
   "metadata": {},
   "outputs": [
    {
     "data": {
      "text/html": [
       "<div>\n",
       "<style scoped>\n",
       "    .dataframe tbody tr th:only-of-type {\n",
       "        vertical-align: middle;\n",
       "    }\n",
       "\n",
       "    .dataframe tbody tr th {\n",
       "        vertical-align: top;\n",
       "    }\n",
       "\n",
       "    .dataframe thead th {\n",
       "        text-align: right;\n",
       "    }\n",
       "</style>\n",
       "<table border=\"1\" class=\"dataframe\">\n",
       "  <thead>\n",
       "    <tr style=\"text-align: right;\">\n",
       "      <th></th>\n",
       "      <th>CaseID</th>\n",
       "      <th>CorpNo</th>\n",
       "      <th>cleaned_description</th>\n",
       "      <th>TemplateId</th>\n",
       "      <th>cleaned_message</th>\n",
       "      <th>qa_embeddings</th>\n",
       "      <th>qq_embeddings</th>\n",
       "    </tr>\n",
       "  </thead>\n",
       "  <tbody>\n",
       "    <tr>\n",
       "      <th>45354</th>\n",
       "      <td>2988576.0</td>\n",
       "      <td>87168.0</td>\n",
       "      <td>My sons chrome book is missing screws at the b...</td>\n",
       "      <td>5580.0</td>\n",
       "      <td>Hello Amber sloan,Thank you for contacting YCS...</td>\n",
       "      <td>[0.1945439, -0.3965842, -0.3225592, 0.06263387...</td>\n",
       "      <td>[0.041880794, -0.03763687, 0.0007626698, -0.00...</td>\n",
       "    </tr>\n",
       "    <tr>\n",
       "      <th>46883</th>\n",
       "      <td>3101356.0</td>\n",
       "      <td>87168.0</td>\n",
       "      <td>It be giving me a blue error code bruh</td>\n",
       "      <td>5579.0</td>\n",
       "      <td>Thank you for contacting YCSD IT. To best serv...</td>\n",
       "      <td>[-0.18941243, -0.7439538, -0.28012222, 0.15651...</td>\n",
       "      <td>[-0.04435112, -0.106237836, 0.025605367, -0.02...</td>\n",
       "    </tr>\n",
       "    <tr>\n",
       "      <th>52783</th>\n",
       "      <td>3639244.0</td>\n",
       "      <td>87168.0</td>\n",
       "      <td>My name is Matthew (Wally) Atkins, and I am an...</td>\n",
       "      <td>5578.0</td>\n",
       "      <td>Hello Wally Atkins,Thank you for contacting YC...</td>\n",
       "      <td>[0.15315941, -0.042141236, -0.02796632, 0.4381...</td>\n",
       "      <td>[0.024075689, 0.06203446, 0.0034855173, 0.0605...</td>\n",
       "    </tr>\n",
       "    <tr>\n",
       "      <th>53600</th>\n",
       "      <td>3660236.0</td>\n",
       "      <td>87168.0</td>\n",
       "      <td>From: Gary Porter Sent: Wednesday, November 2...</td>\n",
       "      <td>6908.0</td>\n",
       "      <td>The division is in receipt of your Freedom of ...</td>\n",
       "      <td>[0.24029946, 0.13375609, 0.041198798, 0.214174...</td>\n",
       "      <td>[0.055929154, 0.065867625, 0.016963314, 0.0649...</td>\n",
       "    </tr>\n",
       "    <tr>\n",
       "      <th>55373</th>\n",
       "      <td>3786777.0</td>\n",
       "      <td>87168.0</td>\n",
       "      <td>Get From: C H Wednesday, January 18, 2023 1:18...</td>\n",
       "      <td>6908.0</td>\n",
       "      <td>Good afternoon,The York County School Division...</td>\n",
       "      <td>[0.19229299, 0.37751985, -0.012165331, 0.29312...</td>\n",
       "      <td>[0.037749015, 0.09961883, 0.018189006, 0.05003...</td>\n",
       "    </tr>\n",
       "    <tr>\n",
       "      <th>55711</th>\n",
       "      <td>3822414.0</td>\n",
       "      <td>87168.0</td>\n",
       "      <td>I am looking for any and all records pertainin...</td>\n",
       "      <td>6816.0</td>\n",
       "      <td>The division is in receipt of your Freedom of ...</td>\n",
       "      <td>[0.28585905, 0.40384594, -0.0006786055, 0.2979...</td>\n",
       "      <td>[0.033634655, 0.1014754, 0.04145168, 0.0747476...</td>\n",
       "    </tr>\n",
       "    <tr>\n",
       "      <th>55826</th>\n",
       "      <td>3827391.0</td>\n",
       "      <td>87168.0</td>\n",
       "      <td>From: Shandor, Victor Sent: Monday, January 3...</td>\n",
       "      <td>6816.0</td>\n",
       "      <td>The division is in receipt of your Freedom of ...</td>\n",
       "      <td>[0.23029499, 0.18329237, -0.14902958, 0.434772...</td>\n",
       "      <td>[0.021085978, 0.08477149, 0.025610175, 0.09052...</td>\n",
       "    </tr>\n",
       "    <tr>\n",
       "      <th>56876</th>\n",
       "      <td>3892148.0</td>\n",
       "      <td>87168.0</td>\n",
       "      <td>From: Sean McGoey Wednesday, March 01, 2023 1...</td>\n",
       "      <td>6816.0</td>\n",
       "      <td>Good afternoon,The division is in receipt of y...</td>\n",
       "      <td>[0.16681203, 0.5552059, -0.07922218, 0.2313684...</td>\n",
       "      <td>[0.04442308, 0.10246484, 0.013235976, 0.016555...</td>\n",
       "    </tr>\n",
       "  </tbody>\n",
       "</table>\n",
       "</div>"
      ],
      "text/plain": [
       "          CaseID   CorpNo                                cleaned_description   \n",
       "45354  2988576.0  87168.0  My sons chrome book is missing screws at the b...  \\\n",
       "46883  3101356.0  87168.0            It be giving me a blue error code bruh    \n",
       "52783  3639244.0  87168.0  My name is Matthew (Wally) Atkins, and I am an...   \n",
       "53600  3660236.0  87168.0   From: Gary Porter Sent: Wednesday, November 2...   \n",
       "55373  3786777.0  87168.0  Get From: C H Wednesday, January 18, 2023 1:18...   \n",
       "55711  3822414.0  87168.0  I am looking for any and all records pertainin...   \n",
       "55826  3827391.0  87168.0   From: Shandor, Victor Sent: Monday, January 3...   \n",
       "56876  3892148.0  87168.0   From: Sean McGoey Wednesday, March 01, 2023 1...   \n",
       "\n",
       "       TemplateId                                    cleaned_message   \n",
       "45354      5580.0  Hello Amber sloan,Thank you for contacting YCS...  \\\n",
       "46883      5579.0  Thank you for contacting YCSD IT. To best serv...   \n",
       "52783      5578.0  Hello Wally Atkins,Thank you for contacting YC...   \n",
       "53600      6908.0  The division is in receipt of your Freedom of ...   \n",
       "55373      6908.0  Good afternoon,The York County School Division...   \n",
       "55711      6816.0  The division is in receipt of your Freedom of ...   \n",
       "55826      6816.0  The division is in receipt of your Freedom of ...   \n",
       "56876      6816.0  Good afternoon,The division is in receipt of y...   \n",
       "\n",
       "                                           qa_embeddings   \n",
       "45354  [0.1945439, -0.3965842, -0.3225592, 0.06263387...  \\\n",
       "46883  [-0.18941243, -0.7439538, -0.28012222, 0.15651...   \n",
       "52783  [0.15315941, -0.042141236, -0.02796632, 0.4381...   \n",
       "53600  [0.24029946, 0.13375609, 0.041198798, 0.214174...   \n",
       "55373  [0.19229299, 0.37751985, -0.012165331, 0.29312...   \n",
       "55711  [0.28585905, 0.40384594, -0.0006786055, 0.2979...   \n",
       "55826  [0.23029499, 0.18329237, -0.14902958, 0.434772...   \n",
       "56876  [0.16681203, 0.5552059, -0.07922218, 0.2313684...   \n",
       "\n",
       "                                           qq_embeddings  \n",
       "45354  [0.041880794, -0.03763687, 0.0007626698, -0.00...  \n",
       "46883  [-0.04435112, -0.106237836, 0.025605367, -0.02...  \n",
       "52783  [0.024075689, 0.06203446, 0.0034855173, 0.0605...  \n",
       "53600  [0.055929154, 0.065867625, 0.016963314, 0.0649...  \n",
       "55373  [0.037749015, 0.09961883, 0.018189006, 0.05003...  \n",
       "55711  [0.033634655, 0.1014754, 0.04145168, 0.0747476...  \n",
       "55826  [0.021085978, 0.08477149, 0.025610175, 0.09052...  \n",
       "56876  [0.04442308, 0.10246484, 0.013235976, 0.016555...  "
      ]
     },
     "execution_count": 87,
     "metadata": {},
     "output_type": "execute_result"
    }
   ],
   "source": [
    "case_matched[case_matched['CorpNo'] == 87168]"
   ]
  },
  {
   "cell_type": "code",
   "execution_count": 88,
   "id": "c6c75453-0ed7-46c9-9b17-efb92fad998d",
   "metadata": {},
   "outputs": [],
   "source": [
    "#template_matched, case_matched = filter_data(*read_data(templates, comm, cases))"
   ]
  },
  {
   "cell_type": "code",
   "execution_count": 89,
   "id": "224baf2f-dd06-4cae-81da-3d8fc329977e",
   "metadata": {},
   "outputs": [
    {
     "data": {
      "text/plain": [
       "(5971, 5)"
      ]
     },
     "execution_count": 89,
     "metadata": {},
     "output_type": "execute_result"
    }
   ],
   "source": [
    "template_matched.shape"
   ]
  },
  {
   "cell_type": "code",
   "execution_count": 90,
   "id": "ee75dd47-1c37-473e-a856-051cb2b4d856",
   "metadata": {},
   "outputs": [
    {
     "data": {
      "text/plain": [
       "(57257, 7)"
      ]
     },
     "execution_count": 90,
     "metadata": {},
     "output_type": "execute_result"
    }
   ],
   "source": [
    "case_matched.shape"
   ]
  },
  {
   "cell_type": "code",
   "execution_count": 91,
   "id": "8e97c4cc-60e8-45f1-aaf5-9f45f292cca9",
   "metadata": {},
   "outputs": [
    {
     "data": {
      "text/html": [
       "<div>\n",
       "<style scoped>\n",
       "    .dataframe tbody tr th:only-of-type {\n",
       "        vertical-align: middle;\n",
       "    }\n",
       "\n",
       "    .dataframe tbody tr th {\n",
       "        vertical-align: top;\n",
       "    }\n",
       "\n",
       "    .dataframe thead th {\n",
       "        text-align: right;\n",
       "    }\n",
       "</style>\n",
       "<table border=\"1\" class=\"dataframe\">\n",
       "  <thead>\n",
       "    <tr style=\"text-align: right;\">\n",
       "      <th></th>\n",
       "      <th>TemplateId</th>\n",
       "      <th>Name</th>\n",
       "      <th>MainCorpNo</th>\n",
       "      <th>cleaned_MessageBody</th>\n",
       "      <th>embeddings</th>\n",
       "    </tr>\n",
       "  </thead>\n",
       "  <tbody>\n",
       "    <tr>\n",
       "      <th>0</th>\n",
       "      <td>1</td>\n",
       "      <td>title</td>\n",
       "      <td>11918</td>\n",
       "      <td>[[Click here]]Login into account hello whats u...</td>\n",
       "      <td>[0.05928093, -0.40406442, -0.20824255, 0.23555...</td>\n",
       "    </tr>\n",
       "    <tr>\n",
       "      <th>1</th>\n",
       "      <td>3</td>\n",
       "      <td>ipsum pulvinar sit amet. Nulla tortor augue, ...</td>\n",
       "      <td>11918</td>\n",
       "      <td>Login in to account [[Click here]] Sed consect...</td>\n",
       "      <td>[-0.044206396, -0.018609809, -0.3228146, 0.162...</td>\n",
       "    </tr>\n",
       "    <tr>\n",
       "      <th>2</th>\n",
       "      <td>4</td>\n",
       "      <td>Generated 150 paragraphsffffffffffffffffffffff...</td>\n",
       "      <td>11918</td>\n",
       "      <td>ndimentum turpis urna, eu facilisis leo rutru...</td>\n",
       "      <td>[0.12639701, -0.15336296, -0.2961759, 0.098391...</td>\n",
       "    </tr>\n",
       "  </tbody>\n",
       "</table>\n",
       "</div>"
      ],
      "text/plain": [
       "   TemplateId                                               Name  MainCorpNo   \n",
       "0           1                                             title        11918  \\\n",
       "1           3   ipsum pulvinar sit amet. Nulla tortor augue, ...       11918   \n",
       "2           4  Generated 150 paragraphsffffffffffffffffffffff...       11918   \n",
       "\n",
       "                                 cleaned_MessageBody   \n",
       "0  [[Click here]]Login into account hello whats u...  \\\n",
       "1  Login in to account [[Click here]] Sed consect...   \n",
       "2   ndimentum turpis urna, eu facilisis leo rutru...   \n",
       "\n",
       "                                          embeddings  \n",
       "0  [0.05928093, -0.40406442, -0.20824255, 0.23555...  \n",
       "1  [-0.044206396, -0.018609809, -0.3228146, 0.162...  \n",
       "2  [0.12639701, -0.15336296, -0.2961759, 0.098391...  "
      ]
     },
     "execution_count": 91,
     "metadata": {},
     "output_type": "execute_result"
    }
   ],
   "source": [
    "template_matched.head(3)"
   ]
  },
  {
   "cell_type": "code",
   "execution_count": 92,
   "id": "b8214ccc-0836-48b6-ae7e-4c7394881cb4",
   "metadata": {},
   "outputs": [
    {
     "data": {
      "text/plain": [
       "266"
      ]
     },
     "execution_count": 92,
     "metadata": {},
     "output_type": "execute_result"
    }
   ],
   "source": [
    "def select_top_10_percent(df):  \n",
    "    sorted_df = df['TemplateId'].value_counts().reset_index()\n",
    "    sorted_df.columns = ['TemplateId', 'count']\n",
    "    top_10_percent = sorted_df.head(round(0.1 * len(sorted_df)))\n",
    "    return top_10_percent['TemplateId'].tolist()\n",
    "\n",
    "# Group by corpno and apply the function to each district\n",
    "corp_case_num = case_matched.groupby('CorpNo')['CaseID'].count().reset_index()\n",
    "corp_case_num = corp_case_num.rename(columns={'CaseID': 'CaseID_count'})\n",
    "corp_case_num = corp_case_num.sort_values(by='CaseID_count', ascending=False)\n",
    "big_district = corp_case_num[corp_case_num.CaseID_count>=100]['CorpNo']\n",
    "case_matched_f = case_matched[case_matched['CorpNo'].isin(big_district)]\n",
    "\n",
    "selected_templates = case_matched_f.groupby('CorpNo').apply(select_top_10_percent)\n",
    "\n",
    "template_id_select = [template_id for template_ids in selected_templates for template_id in template_ids]\n",
    "len(template_id_select)"
   ]
  },
  {
   "cell_type": "code",
   "execution_count": 93,
   "id": "77665816-fd81-4b56-bce1-c3f31402977e",
   "metadata": {},
   "outputs": [],
   "source": [
    "template_train = template_matched[template_matched['TemplateId'].isin(template_id_select)].reset_index(drop=True)"
   ]
  },
  {
   "cell_type": "code",
   "execution_count": 94,
   "id": "427ab528-e0b9-4d18-9b12-d656bb68a4bb",
   "metadata": {},
   "outputs": [
    {
     "data": {
      "text/plain": [
       "(266, 5)"
      ]
     },
     "execution_count": 94,
     "metadata": {},
     "output_type": "execute_result"
    }
   ],
   "source": [
    "template_train.shape"
   ]
  },
  {
   "cell_type": "code",
   "execution_count": 95,
   "id": "3174e7bc-ecb9-4d73-b3c9-d608fbfbd992",
   "metadata": {},
   "outputs": [
    {
     "data": {
      "text/html": [
       "<div>\n",
       "<style scoped>\n",
       "    .dataframe tbody tr th:only-of-type {\n",
       "        vertical-align: middle;\n",
       "    }\n",
       "\n",
       "    .dataframe tbody tr th {\n",
       "        vertical-align: top;\n",
       "    }\n",
       "\n",
       "    .dataframe thead th {\n",
       "        text-align: right;\n",
       "    }\n",
       "</style>\n",
       "<table border=\"1\" class=\"dataframe\">\n",
       "  <thead>\n",
       "    <tr style=\"text-align: right;\">\n",
       "      <th></th>\n",
       "      <th>Unnamed: 0</th>\n",
       "      <th>CaseID</th>\n",
       "      <th>CaseCommunicationId</th>\n",
       "      <th>TemplateId</th>\n",
       "      <th>cleaned_message</th>\n",
       "    </tr>\n",
       "  </thead>\n",
       "  <tbody>\n",
       "    <tr>\n",
       "      <th>25</th>\n",
       "      <td>2113624</td>\n",
       "      <td>725075.0</td>\n",
       "      <td>742288.0</td>\n",
       "      <td>1213.0</td>\n",
       "      <td>Hello marchello minter, Thank you for taking t...</td>\n",
       "    </tr>\n",
       "    <tr>\n",
       "      <th>37</th>\n",
       "      <td>2113644</td>\n",
       "      <td>725100.0</td>\n",
       "      <td>741621.0</td>\n",
       "      <td>1083.0</td>\n",
       "      <td>Hello Carly,To prevent students from incidenta...</td>\n",
       "    </tr>\n",
       "    <tr>\n",
       "      <th>59</th>\n",
       "      <td>2113690</td>\n",
       "      <td>725156.0</td>\n",
       "      <td>741788.0</td>\n",
       "      <td>1244.0</td>\n",
       "      <td>You've just received your first Splash Card an...</td>\n",
       "    </tr>\n",
       "    <tr>\n",
       "      <th>60</th>\n",
       "      <td>2113691</td>\n",
       "      <td>725157.0</td>\n",
       "      <td>741772.0</td>\n",
       "      <td>1244.0</td>\n",
       "      <td>You've just received your first Splash Card an...</td>\n",
       "    </tr>\n",
       "    <tr>\n",
       "      <th>122</th>\n",
       "      <td>2113783</td>\n",
       "      <td>725274.0</td>\n",
       "      <td>743237.0</td>\n",
       "      <td>1358.0</td>\n",
       "      <td>Thank you for contacting the Transportation De...</td>\n",
       "    </tr>\n",
       "  </tbody>\n",
       "</table>\n",
       "</div>"
      ],
      "text/plain": [
       "     Unnamed: 0    CaseID  CaseCommunicationId  TemplateId   \n",
       "25      2113624  725075.0             742288.0      1213.0  \\\n",
       "37      2113644  725100.0             741621.0      1083.0   \n",
       "59      2113690  725156.0             741788.0      1244.0   \n",
       "60      2113691  725157.0             741772.0      1244.0   \n",
       "122     2113783  725274.0             743237.0      1358.0   \n",
       "\n",
       "                                       cleaned_message  \n",
       "25   Hello marchello minter, Thank you for taking t...  \n",
       "37   Hello Carly,To prevent students from incidenta...  \n",
       "59   You've just received your first Splash Card an...  \n",
       "60   You've just received your first Splash Card an...  \n",
       "122  Thank you for contacting the Transportation De...  "
      ]
     },
     "execution_count": 95,
     "metadata": {},
     "output_type": "execute_result"
    }
   ],
   "source": [
    "comm_filter= comm[comm['TemplateId'].isin(template_id_select)]\n",
    "comm_filter.head(5)"
   ]
  },
  {
   "cell_type": "code",
   "execution_count": 96,
   "id": "cb25b55e-bf76-4d09-a528-354e0b4c0b59",
   "metadata": {},
   "outputs": [],
   "source": [
    "case_id_select = comm_filter['CaseID'].tolist()"
   ]
  },
  {
   "cell_type": "code",
   "execution_count": 97,
   "id": "7f3e8969-051f-4c17-b828-4350ee29649a",
   "metadata": {},
   "outputs": [],
   "source": [
    "case_test = case_matched[~case_matched['CaseID'].isin(case_id_select)].reset_index(drop=True)"
   ]
  },
  {
   "cell_type": "code",
   "execution_count": 98,
   "id": "f7a42e84-a38c-456d-a6dd-9243f7b1b1bc",
   "metadata": {},
   "outputs": [
    {
     "data": {
      "text/plain": [
       "(35744, 7)"
      ]
     },
     "execution_count": 98,
     "metadata": {},
     "output_type": "execute_result"
    }
   ],
   "source": [
    "case_train = case_matched[case_matched['CaseID'].isin(case_id_select)].reset_index(drop=True)\n",
    "case_train.shape"
   ]
  },
  {
   "cell_type": "code",
   "execution_count": 99,
   "id": "dffc90fd-f085-48bd-82fd-7c17f32c0f7d",
   "metadata": {},
   "outputs": [
    {
     "data": {
      "text/html": [
       "<div>\n",
       "<style scoped>\n",
       "    .dataframe tbody tr th:only-of-type {\n",
       "        vertical-align: middle;\n",
       "    }\n",
       "\n",
       "    .dataframe tbody tr th {\n",
       "        vertical-align: top;\n",
       "    }\n",
       "\n",
       "    .dataframe thead th {\n",
       "        text-align: right;\n",
       "    }\n",
       "</style>\n",
       "<table border=\"1\" class=\"dataframe\">\n",
       "  <thead>\n",
       "    <tr style=\"text-align: right;\">\n",
       "      <th></th>\n",
       "      <th>CaseID</th>\n",
       "      <th>CorpNo</th>\n",
       "      <th>cleaned_description</th>\n",
       "      <th>TemplateId</th>\n",
       "      <th>cleaned_message</th>\n",
       "      <th>qa_embeddings</th>\n",
       "      <th>qq_embeddings</th>\n",
       "    </tr>\n",
       "  </thead>\n",
       "  <tbody>\n",
       "    <tr>\n",
       "      <th>0</th>\n",
       "      <td>725075.0</td>\n",
       "      <td>47139.0</td>\n",
       "      <td>My name is marchello minter and I'm interested...</td>\n",
       "      <td>1213.0</td>\n",
       "      <td>Hello marchello minter, Thank you for taking t...</td>\n",
       "      <td>[-0.17718153, -0.04370393, -0.1578665, -0.0286...</td>\n",
       "      <td>[-0.052830666, -0.0030610943, 0.019983372, -0....</td>\n",
       "    </tr>\n",
       "    <tr>\n",
       "      <th>1</th>\n",
       "      <td>725100.0</td>\n",
       "      <td>41272.0</td>\n",
       "      <td>Request to join Classroom Teachers Group.</td>\n",
       "      <td>1083.0</td>\n",
       "      <td>Hello Carly,To prevent students from incidenta...</td>\n",
       "      <td>[-0.04608875, -0.017934788, -0.34587896, 0.024...</td>\n",
       "      <td>[0.06652652, 0.033666395, -0.031127302, 0.0591...</td>\n",
       "    </tr>\n",
       "    <tr>\n",
       "      <th>2</th>\n",
       "      <td>725156.0</td>\n",
       "      <td>44070.0</td>\n",
       "      <td>Preferred first name:Student ID:Building:Build...</td>\n",
       "      <td>1244.0</td>\n",
       "      <td>You've just received your first Splash Card an...</td>\n",
       "      <td>[-0.07711973, -0.0409059, -0.2779362, -0.00663...</td>\n",
       "      <td>[0.0118431235, 0.02057332, -0.020808859, 0.000...</td>\n",
       "    </tr>\n",
       "  </tbody>\n",
       "</table>\n",
       "</div>"
      ],
      "text/plain": [
       "     CaseID   CorpNo                                cleaned_description   \n",
       "0  725075.0  47139.0  My name is marchello minter and I'm interested...  \\\n",
       "1  725100.0  41272.0         Request to join Classroom Teachers Group.    \n",
       "2  725156.0  44070.0  Preferred first name:Student ID:Building:Build...   \n",
       "\n",
       "   TemplateId                                    cleaned_message   \n",
       "0      1213.0  Hello marchello minter, Thank you for taking t...  \\\n",
       "1      1083.0  Hello Carly,To prevent students from incidenta...   \n",
       "2      1244.0  You've just received your first Splash Card an...   \n",
       "\n",
       "                                       qa_embeddings   \n",
       "0  [-0.17718153, -0.04370393, -0.1578665, -0.0286...  \\\n",
       "1  [-0.04608875, -0.017934788, -0.34587896, 0.024...   \n",
       "2  [-0.07711973, -0.0409059, -0.2779362, -0.00663...   \n",
       "\n",
       "                                       qq_embeddings  \n",
       "0  [-0.052830666, -0.0030610943, 0.019983372, -0....  \n",
       "1  [0.06652652, 0.033666395, -0.031127302, 0.0591...  \n",
       "2  [0.0118431235, 0.02057332, -0.020808859, 0.000...  "
      ]
     },
     "execution_count": 99,
     "metadata": {},
     "output_type": "execute_result"
    }
   ],
   "source": [
    "case_train.head(3)"
   ]
  },
  {
   "cell_type": "code",
   "execution_count": 100,
   "id": "d28259f1-0b59-423c-8682-3a2aef1d13e2",
   "metadata": {},
   "outputs": [
    {
     "data": {
      "text/plain": [
       "(21513, 7)"
      ]
     },
     "execution_count": 100,
     "metadata": {},
     "output_type": "execute_result"
    }
   ],
   "source": [
    "case_test.shape"
   ]
  },
  {
   "cell_type": "code",
   "execution_count": 101,
   "metadata": {},
   "outputs": [
    {
     "name": "stderr",
     "output_type": "stream",
     "text": [
      "1457it [00:17, 85.25it/s]\n",
      "100%|██████████| 1456/1456 [00:16<00:00, 90.60it/s]\n",
      "1457it [00:29, 49.48it/s]\n",
      "100%|██████████| 1457/1457 [01:01<00:00, 23.58it/s]\n"
     ]
    }
   ],
   "source": [
    "# train classification df\n",
    "#res_df = classification_df(template_train, case_train) \n",
    "\n",
    "# test classification df \n",
    "res_df = classification_df_corp(template_matched,case_test, 45671)"
   ]
  },
  {
   "cell_type": "code",
   "execution_count": 103,
   "metadata": {},
   "outputs": [],
   "source": [
    "res_df.to_parquet('classification_df_test_raw.parquet')"
   ]
  },
  {
   "cell_type": "code",
   "execution_count": 102,
   "metadata": {},
   "outputs": [
    {
     "data": {
      "text/plain": [
       "(734328, 4)"
      ]
     },
     "execution_count": 102,
     "metadata": {},
     "output_type": "execute_result"
    }
   ],
   "source": [
    "res_df.shape"
   ]
  },
  {
   "cell_type": "markdown",
   "id": "d1a140ed-33c7-4891-8889-36e7f31d04c1",
   "metadata": {
    "tags": []
   },
   "source": [
    "#### Unmatched dataset"
   ]
  },
  {
   "cell_type": "code",
   "execution_count": 53,
   "id": "4f8b417e-70bb-4a32-9330-e08ee64e26e0",
   "metadata": {},
   "outputs": [],
   "source": [
    "template_unmatched, case_unmatched = na_data(*read_data(templates, comm, cases))"
   ]
  },
  {
   "cell_type": "code",
   "execution_count": 169,
   "id": "5ec4e07b-5d44-4785-b225-902fee55f8ac",
   "metadata": {},
   "outputs": [
    {
     "data": {
      "text/plain": [
       "(1190155, 7)"
      ]
     },
     "execution_count": 169,
     "metadata": {},
     "output_type": "execute_result"
    }
   ],
   "source": [
    "case_unmatched.shape"
   ]
  },
  {
   "cell_type": "code",
   "execution_count": 170,
   "id": "eef8d32b-1140-4b83-b817-6856cbfab4e8",
   "metadata": {},
   "outputs": [
    {
     "data": {
      "text/plain": [
       "(5971, 5)"
      ]
     },
     "execution_count": 170,
     "metadata": {},
     "output_type": "execute_result"
    }
   ],
   "source": [
    "template_unmatched.shape"
   ]
  },
  {
   "cell_type": "code",
   "execution_count": 171,
   "id": "c55baaca-cb29-4eb1-abda-9766c0bf469f",
   "metadata": {},
   "outputs": [
    {
     "data": {
      "text/plain": [
       "(34328, 7)"
      ]
     },
     "execution_count": 171,
     "metadata": {},
     "output_type": "execute_result"
    }
   ],
   "source": [
    "case_unmatched_44070 = case_unmatched[case_unmatched.CorpNo == 44070.0]\n",
    "case_unmatched_44070.shape"
   ]
  },
  {
   "cell_type": "markdown",
   "id": "bc498ea8-127b-4877-b73b-a528f575b44a",
   "metadata": {},
   "source": [
    "## Model Training"
   ]
  },
  {
   "cell_type": "code",
   "execution_count": 35,
   "id": "dfb132e9-2310-4fab-a5ec-4472e4a28b9f",
   "metadata": {},
   "outputs": [],
   "source": [
    "corp_list = [44070.0]"
   ]
  },
  {
   "cell_type": "code",
   "execution_count": 31,
   "id": "cc8521cb-0690-41f1-868a-f8c6647395a0",
   "metadata": {},
   "outputs": [
    {
     "name": "stdout",
     "output_type": "stream",
     "text": [
      "PyTorch Version:  2.0.0+cu118\n",
      "GPU  available (YES!)\n",
      "GPU name:  Tesla T4\n"
     ]
    }
   ],
   "source": [
    "import torch\n",
    "\n",
    "# Check PyTorch Version\n",
    "print(\"PyTorch Version: \", torch.__version__)\n",
    "\n",
    "# Check GPU Availability\n",
    "print(\"GPU \", \"available (YES!)\" if torch.cuda.is_available() else \"not available :(\")\n",
    "\n",
    "# Get GPU Name\n",
    "if torch.cuda.is_available():\n",
    "    print(\"GPU name: \", torch.cuda.get_device_name(0))"
   ]
  },
  {
   "cell_type": "code",
   "execution_count": 46,
   "id": "fe7025a6-79e3-40eb-a8a3-662969ca8844",
   "metadata": {},
   "outputs": [
    {
     "name": "stdout",
     "output_type": "stream",
     "text": [
      "The accuracy of recommendation for district 45671 is 0.7137777668834635\n",
      "Confusion matrix is [[523483 209388]\n",
      " [   793    664]]\n",
      "Classification report:               precision    recall  f1-score   support\n",
      "\n",
      "           0       1.00      0.71      0.83    732871\n",
      "           1       0.00      0.46      0.01      1457\n",
      "\n",
      "    accuracy                           0.71    734328\n",
      "   macro avg       0.50      0.59      0.42    734328\n",
      "weighted avg       1.00      0.71      0.83    734328\n",
      "\n",
      "CPU times: user 7h 18min 54s, sys: 2min 11s, total: 7h 21min 5s\n",
      "Wall time: 7h 17min 57s\n"
     ]
    }
   ],
   "source": [
    "%%time\n",
    "acc_xgb, conf_mat_xgb, class_report_xgb, XGB = xgboost_performance(template_train,template_matched,case_train,case_test,45671)\n"
   ]
  },
  {
   "cell_type": "code",
   "execution_count": 75,
   "id": "1031c4f9-aa30-4f1c-96cd-9cb8e1942394",
   "metadata": {},
   "outputs": [
    {
     "data": {
      "text/html": [
       "<div>\n",
       "<style scoped>\n",
       "    .dataframe tbody tr th:only-of-type {\n",
       "        vertical-align: middle;\n",
       "    }\n",
       "\n",
       "    .dataframe tbody tr th {\n",
       "        vertical-align: top;\n",
       "    }\n",
       "\n",
       "    .dataframe thead th {\n",
       "        text-align: right;\n",
       "    }\n",
       "</style>\n",
       "<table border=\"1\" class=\"dataframe\">\n",
       "  <thead>\n",
       "    <tr style=\"text-align: right;\">\n",
       "      <th></th>\n",
       "      <th>CaseID</th>\n",
       "      <th>CorpNo</th>\n",
       "      <th>cleaned_description</th>\n",
       "      <th>TemplateId</th>\n",
       "      <th>cleaned_message</th>\n",
       "      <th>qa_embeddings</th>\n",
       "      <th>qq_embeddings</th>\n",
       "    </tr>\n",
       "  </thead>\n",
       "  <tbody>\n",
       "    <tr>\n",
       "      <th>2</th>\n",
       "      <td>725114.0</td>\n",
       "      <td>44070.0</td>\n",
       "      <td>Hi,The dining plan that my son wanted to enrol...</td>\n",
       "      <td>1241.0</td>\n",
       "      <td>Candi-I found Will Eichstaedt to be a freshman...</td>\n",
       "      <td>[0.013114568, -0.40650102, -0.070455566, 0.207...</td>\n",
       "      <td>[-0.0005268336, 0.020311702, 0.018932767, -0.0...</td>\n",
       "    </tr>\n",
       "  </tbody>\n",
       "</table>\n",
       "</div>"
      ],
      "text/plain": [
       "     CaseID   CorpNo                                cleaned_description  \\\n",
       "2  725114.0  44070.0  Hi,The dining plan that my son wanted to enrol...   \n",
       "\n",
       "   TemplateId                                    cleaned_message  \\\n",
       "2      1241.0  Candi-I found Will Eichstaedt to be a freshman...   \n",
       "\n",
       "                                       qa_embeddings  \\\n",
       "2  [0.013114568, -0.40650102, -0.070455566, 0.207...   \n",
       "\n",
       "                                       qq_embeddings  \n",
       "2  [-0.0005268336, 0.020311702, 0.018932767, -0.0...  "
      ]
     },
     "execution_count": 75,
     "metadata": {},
     "output_type": "execute_result"
    }
   ],
   "source": [
    "case_matched[case_matched['CorpNo'] == 44070].head(1)"
   ]
  },
  {
   "cell_type": "markdown",
   "id": "520c0e37-1d68-4c38-b7d7-9ab899fa800c",
   "metadata": {},
   "source": [
    "#### MLP"
   ]
  },
  {
   "cell_type": "code",
   "execution_count": null,
   "id": "ac0bd4f3-9adc-4cb2-8f8f-6bb6aeb58a33",
   "metadata": {},
   "outputs": [],
   "source": []
  },
  {
   "cell_type": "code",
   "execution_count": null,
   "id": "ebf21859-f24d-4683-8d58-0ff6d65487c5",
   "metadata": {},
   "outputs": [],
   "source": []
  },
  {
   "cell_type": "markdown",
   "id": "27074b25-997a-4b70-a9a5-12e4ea4dbd13",
   "metadata": {},
   "source": [
    "## Model Validation"
   ]
  },
  {
   "cell_type": "code",
   "execution_count": 124,
   "id": "7aa27cc0-cedf-4c85-b01e-a741d0438a96",
   "metadata": {},
   "outputs": [],
   "source": [
    "def collaborative_filtering_test(templates,cases,case_test,Corp):\n",
    "    temp = templates[templates.MainCorpNo == Corp].reset_index(drop = True)\n",
    "    case = cases[cases.CorpNo == Corp].reset_index(drop = True)\n",
    "    n = len(temp)\n",
    "    m = len(case)\n",
    "    p = len(case_test)\n",
    "    \n",
    "    mat = [[0 for _ in range(n)] for __ in range(p)]\n",
    "    \n",
    "    temp_list = list(temp.TemplateId)\n",
    "    \n",
    "    df = pd.DataFrame( mat, columns = temp_list)\n",
    "    \n",
    "    for i in range(p):\n",
    "        similarities = []\n",
    "        for j in range(m):\n",
    "            similarity = np.dot(case.qq_embeddings[i],case.qq_embeddings[j].T).item()\n",
    "            similarities.append((j,similarity))\n",
    "        similarities.sort(key = lambda X:X[1],reverse = True)\n",
    "        similarities = similarities[:10]\n",
    "        for pair in similarities:\n",
    "            if not np.isnan(case.TemplateId[pair[0]]):\n",
    "                df.loc[i,case.TemplateId[pair[0]]] += pair[1]\n",
    "    \n",
    "    \n",
    "    return df"
   ]
  },
  {
   "cell_type": "code",
   "execution_count": 125,
   "id": "d820e250-8e0c-40ee-b812-2d2bba97236d",
   "metadata": {},
   "outputs": [],
   "source": [
    "def popularity_test(templates,cases,case_test,Corp):\n",
    "    temp = templates[templates.MainCorpNo == Corp].reset_index(drop = True)\n",
    "    case = cases[cases.CorpNo == Corp].reset_index(drop = True)\n",
    "    n = len(temp)\n",
    "    m = len(case)\n",
    "    p = len(case_test)\n",
    "    \n",
    "    mat = [[0 for _ in range(n)] for __ in range(p)]\n",
    "    \n",
    "    temp_list = list(temp.TemplateId)\n",
    "    \n",
    "    df = pd.DataFrame( mat, columns = temp_list)\n",
    "    \n",
    "    freq_count = cases.TemplateId.value_counts()\n",
    "    \n",
    "    for i in range(p):\n",
    "        for template in temp_list:\n",
    "            if template in freq_count.keys():\n",
    "                df.loc[i,template] = freq_count[template]\n",
    "    return df "
   ]
  },
  {
   "cell_type": "code",
   "execution_count": 126,
   "id": "09b8aab6-868e-4e73-9bfb-cbc4190d6d4a",
   "metadata": {},
   "outputs": [],
   "source": [
    "def compute_similarity_matrix_test(templates, case_test, Corp):\n",
    "\n",
    "    temp = templates[templates.MainCorpNo == Corp].reset_index(drop = True)\n",
    "    # case_test['qa_embeddings'] = case_test.cleaned_message.apply(lambda X: model.encode(X))\n",
    "    \n",
    "    n = len(temp)\n",
    "    m = len(case_test)\n",
    "    \n",
    "    mat = [[0 for _ in range(n)] for __ in range(m)]\n",
    "    \n",
    "    temp_list = list(temp.TemplateId)\n",
    "    \n",
    "    similarity_matrix = pd.DataFrame( mat, columns = temp_list)\n",
    "    for case_id, case_embedding in zip(case_test.index, case_test['qa_embeddings']):\n",
    "        for template_id, template_embedding in zip(temp['TemplateId'], temp['embeddings']):\n",
    "            similarity = np.dot(case_embedding, template_embedding.T).item()\n",
    "            similarity_matrix.loc[case_id, template_id] = similarity\n",
    "    return similarity_matrix"
   ]
  },
  {
   "cell_type": "code",
   "execution_count": 127,
   "id": "23ebf3cf-ac34-4860-a4ff-235d6b1896c3",
   "metadata": {},
   "outputs": [],
   "source": [
    "def classification_df_test(templates,cases,case_test,Corp):\n",
    "    temp = templates[templates.MainCorpNo == Corp].reset_index(drop = True)\n",
    "    case = cases[cases.CorpNo == Corp].reset_index(drop = True)\n",
    "    \n",
    "    similarity_df = compute_similarity_matrix_test(temp, case_test, Corp)\n",
    "    collaborative_df = collaborative_filtering_test(temp,case,case_test,Corp)\n",
    "    popularity_df = popularity_test(temp,case,case_test,Corp)\n",
    "    \n",
    "    n = len(temp)\n",
    "    m = len(case_test)\n",
    "    temp_list = list(temp.TemplateId)\n",
    "    \n",
    "    mat = [[0 for _ in range(4)] for __ in range(m*n)]\n",
    "    \n",
    "    df = pd.DataFrame(mat,columns = ['similarity_score','collaborative_score','popularity_score','match'])\n",
    "    \n",
    "    cnt = 0\n",
    "    \n",
    "    for i in range(m):\n",
    "        for temp in temp_list:\n",
    "            df.loc[cnt,'similarity_score'] = similarity_df.loc[i,temp]\n",
    "            df.loc[cnt,'collaborative_score'] = collaborative_df.loc[i,temp]\n",
    "            df.loc[cnt,'popularity_score'] = popularity_df.loc[i,temp]\n",
    "            if (not np.isnan(case.TemplateId[i])) and case.TemplateId[i] == temp:\n",
    "                df.loc[cnt,'match'] = 1\n",
    "            cnt += 1\n",
    "    return df"
   ]
  },
  {
   "cell_type": "code",
   "execution_count": 128,
   "id": "52cd9479-934f-4c10-a51f-dcde03e8dad9",
   "metadata": {},
   "outputs": [],
   "source": [
    "def show_result(templates,cases,case_test,Corp, model):\n",
    "    temp = templates[templates.MainCorpNo == Corp].reset_index(drop = True)\n",
    "    res_df = classification_df_test(templates,cases,case_test,Corp)\n",
    "    X = res_df[['similarity_score','collaborative_score','popularity_score']]\n",
    "    Y = res_df['match']\n",
    "    \n",
    "    model_logistic = model\n",
    "    \n",
    "    m = len(case_test)\n",
    "    n = len(temp)\n",
    "    temp_list = list(temp.TemplateId)\n",
    "    \n",
    "    probabilities = model_logistic.predict_proba(X)\n",
    "    \n",
    "    for i in range(m-1):\n",
    "        if not np.isnan(case_test.loc[i,'TemplateId']):\n",
    "            print('The true template for this case is',case_test.loc[i,'TemplateId'])\n",
    "        cnt = 0\n",
    "        print('The message for this case is '+ case_test.loc[i, 'cleaned_message'])\n",
    "        prob_list = []\n",
    "        for j in range(n*i,n*i+n):\n",
    "            prob_list.append([probabilities[j][1],cnt])\n",
    "            cnt += 1\n",
    "        sorted_list = sorted(prob_list,key = lambda X:X[0],reverse =True)\n",
    "        if n >=5:\n",
    "            rec_list = sorted_list[:5]\n",
    "        else:\n",
    "            rec_list = sorted_list\n",
    "        \n",
    "        print('Recommended templates are:')\n",
    "        for j in range(len(rec_list)):\n",
    "            if rec_list[j][0]>=0.5:\n",
    "                print('Template id :' , temp_list[rec_list[j][1]])\n",
    "                print('Message body of this template is :', temp.loc[rec_list[j][1],'cleaned_MessageBody'])\n",
    "        print()"
   ]
  },
  {
   "cell_type": "code",
   "execution_count": 130,
   "id": "318feebf-ca5c-4b5b-8929-1f72ae0652dc",
   "metadata": {},
   "outputs": [],
   "source": [
    "def XGB_SHOW(templates,cases,case_test,Corp, model):\n",
    "    temp = templates[templates.MainCorpNo == Corp].reset_index(drop = True)\n",
    "    res_df = classification_df_test(templates,cases,case_test,Corp)\n",
    "    X = res_df[['similarity_score','collaborative_score','popularity_score']]\n",
    "    Y = res_df['match']\n",
    "    \n",
    "    model_xgb = model\n",
    "    \n",
    "    m = len(case_test)\n",
    "    n = len(temp)\n",
    "    temp_list = list(temp.TemplateId)\n",
    "\n",
    "    probabilities = model_xgb.predict_proba(X)\n",
    "    \n",
    "    \n",
    "    for i in range(m-1):\n",
    "        if not np.isnan(case_test.loc[i,'TemplateId']):\n",
    "            print('The true template for this case is: ',case_test.loc[i,'TemplateId'])\n",
    "            print()\n",
    "        cnt = 0\n",
    "        print('The description for this case is: ', case_test.loc[i,'cleaned_description'])\n",
    "        print()\n",
    "        print('The message for this case is '+ case_test.loc[i, 'cleaned_message'])\n",
    "        prob_list = []\n",
    "        for j in range(n*i,n*i+n):\n",
    "            prob_list.append([probabilities[j][1],cnt])\n",
    "            cnt += 1\n",
    "        sorted_list = sorted(prob_list,key = lambda X:X[0],reverse =True)\n",
    "        if n >=5:\n",
    "            rec_list = sorted_list[:5]\n",
    "        else:\n",
    "            rec_list = sorted_list\n",
    "        print()\n",
    "        print('Recommended templates are:')\n",
    "        for j in range(len(rec_list)):\n",
    "            if rec_list[j][0]>=0.5:\n",
    "                print('Template id :' , temp_list[rec_list[j][1]])\n",
    "                print('Message body of this template is :', temp.loc[rec_list[j][1],'cleaned_MessageBody'])\n",
    "        print()"
   ]
  },
  {
   "cell_type": "markdown",
   "id": "7c18d4f1-c934-4991-a702-81150f059d1f",
   "metadata": {
    "tags": []
   },
   "source": [
    "#### matched test"
   ]
  },
  {
   "cell_type": "code",
   "execution_count": 41,
   "id": "fdba1234-70e1-4a48-bfdc-7f2cb984aebc",
   "metadata": {},
   "outputs": [],
   "source": [
    "#XGB_SHOW(template_matched, case_matched, case_test_44070, 44070, XGB)"
   ]
  },
  {
   "cell_type": "code",
   "execution_count": 131,
   "id": "ffa85412-90c9-4163-86fd-11e7fa468894",
   "metadata": {},
   "outputs": [],
   "source": [
    "import joblib\n",
    "xgb = joblib.load('xgb_general_model.joblib')"
   ]
  },
  {
   "cell_type": "code",
   "execution_count": 58,
   "id": "b601bd27-b926-4e6e-af61-3a1bab738a7f",
   "metadata": {},
   "outputs": [
    {
     "data": {
      "text/html": [
       "<div>\n",
       "<style scoped>\n",
       "    .dataframe tbody tr th:only-of-type {\n",
       "        vertical-align: middle;\n",
       "    }\n",
       "\n",
       "    .dataframe tbody tr th {\n",
       "        vertical-align: top;\n",
       "    }\n",
       "\n",
       "    .dataframe thead th {\n",
       "        text-align: right;\n",
       "    }\n",
       "</style>\n",
       "<table border=\"1\" class=\"dataframe\">\n",
       "  <thead>\n",
       "    <tr style=\"text-align: right;\">\n",
       "      <th></th>\n",
       "      <th>CaseID</th>\n",
       "      <th>CorpNo</th>\n",
       "      <th>cleaned_description</th>\n",
       "      <th>TemplateId</th>\n",
       "      <th>cleaned_message</th>\n",
       "      <th>qa_embeddings</th>\n",
       "      <th>qq_embeddings</th>\n",
       "    </tr>\n",
       "  </thead>\n",
       "  <tbody>\n",
       "    <tr>\n",
       "      <th>0</th>\n",
       "      <td>725114.0</td>\n",
       "      <td>44070.0</td>\n",
       "      <td>Hi,The dining plan that my son wanted to enrol...</td>\n",
       "      <td>1241.0</td>\n",
       "      <td>Candi-I found Will Eichstaedt to be a freshman...</td>\n",
       "      <td>[0.013114568, -0.40650102, -0.070455566, 0.207...</td>\n",
       "      <td>[-0.0005268336, 0.020311702, 0.018932767, -0.0...</td>\n",
       "    </tr>\n",
       "  </tbody>\n",
       "</table>\n",
       "</div>"
      ],
      "text/plain": [
       "     CaseID   CorpNo                                cleaned_description  \\\n",
       "0  725114.0  44070.0  Hi,The dining plan that my son wanted to enrol...   \n",
       "\n",
       "   TemplateId                                    cleaned_message  \\\n",
       "0      1241.0  Candi-I found Will Eichstaedt to be a freshman...   \n",
       "\n",
       "                                       qa_embeddings  \\\n",
       "0  [0.013114568, -0.40650102, -0.070455566, 0.207...   \n",
       "\n",
       "                                       qq_embeddings  \n",
       "0  [-0.0005268336, 0.020311702, 0.018932767, -0.0...  "
      ]
     },
     "execution_count": 58,
     "metadata": {},
     "output_type": "execute_result"
    }
   ],
   "source": [
    "case_test.head(1)"
   ]
  },
  {
   "cell_type": "code",
   "execution_count": 150,
   "id": "230d7780-4df3-45aa-a808-3920675d222a",
   "metadata": {},
   "outputs": [],
   "source": [
    "case_train_44070= case_train[case_train['CorpNo'] == 44070]"
   ]
  },
  {
   "cell_type": "code",
   "execution_count": 162,
   "id": "dd794d54-2e7f-49ab-a2d6-467ffd2ce086",
   "metadata": {},
   "outputs": [
    {
     "data": {
      "text/plain": [
       "\"You've just received your first Splash Card and now you're official! Know that we're always here for you. You can find out about Splash Cards, dining, service/repair requests, parking, shuttles and more on our website, website. J.C. Paciera Tulane University Campus Services \""
      ]
     },
     "execution_count": 162,
     "metadata": {},
     "output_type": "execute_result"
    }
   ],
   "source": [
    "case_train_44070['cleaned_message'].iloc[0]"
   ]
  },
  {
   "cell_type": "code",
   "execution_count": 163,
   "id": "f0bf3d08-9b6e-49b9-a361-32e64aabf7b9",
   "metadata": {},
   "outputs": [
    {
     "data": {
      "text/html": [
       "<div>\n",
       "<style scoped>\n",
       "    .dataframe tbody tr th:only-of-type {\n",
       "        vertical-align: middle;\n",
       "    }\n",
       "\n",
       "    .dataframe tbody tr th {\n",
       "        vertical-align: top;\n",
       "    }\n",
       "\n",
       "    .dataframe thead th {\n",
       "        text-align: right;\n",
       "    }\n",
       "</style>\n",
       "<table border=\"1\" class=\"dataframe\">\n",
       "  <thead>\n",
       "    <tr style=\"text-align: right;\">\n",
       "      <th></th>\n",
       "      <th>CaseID</th>\n",
       "      <th>CorpNo</th>\n",
       "      <th>cleaned_description</th>\n",
       "      <th>TemplateId</th>\n",
       "      <th>cleaned_message</th>\n",
       "      <th>qa_embeddings</th>\n",
       "      <th>qq_embeddings</th>\n",
       "    </tr>\n",
       "  </thead>\n",
       "  <tbody>\n",
       "    <tr>\n",
       "      <th>1582</th>\n",
       "      <td>826467.0</td>\n",
       "      <td>44070.0</td>\n",
       "      <td>Preferred first name: AllyStudent ID: 36100946...</td>\n",
       "      <td>1244.0</td>\n",
       "      <td>You've just received your first Splash Card an...</td>\n",
       "      <td>[-0.024660012, 0.0066581448, -0.28968897, -0.1...</td>\n",
       "      <td>[0.026709707, 0.074973024, -0.022041367, 0.024...</td>\n",
       "    </tr>\n",
       "    <tr>\n",
       "      <th>16334</th>\n",
       "      <td>1663263.0</td>\n",
       "      <td>44070.0</td>\n",
       "      <td>External Sender. Be aware of links, attachmen...</td>\n",
       "      <td>3699.0</td>\n",
       "      <td>We have processed your request. You will recei...</td>\n",
       "      <td>[0.05878132, 0.120848715, -0.13129868, 0.14687...</td>\n",
       "      <td>[0.0020468635, 0.062818274, -0.0073692505, 0.0...</td>\n",
       "    </tr>\n",
       "    <tr>\n",
       "      <th>2578</th>\n",
       "      <td>846089.0</td>\n",
       "      <td>44070.0</td>\n",
       "      <td>Preferred first name: FionaStudent ID: 4170082...</td>\n",
       "      <td>1242.0</td>\n",
       "      <td>Replacing your Splash Card is never fun, but I...</td>\n",
       "      <td>[-0.009737069, 0.038736753, -0.30248937, -0.12...</td>\n",
       "      <td>[0.030020628, 0.0827849, -0.029796092, 0.02042...</td>\n",
       "    </tr>\n",
       "    <tr>\n",
       "      <th>1648</th>\n",
       "      <td>826780.0</td>\n",
       "      <td>44070.0</td>\n",
       "      <td>Preferred first name: AnnaStudent ID: 64300275...</td>\n",
       "      <td>1238.0</td>\n",
       "      <td>Anna,I hope we were able to answer all of your...</td>\n",
       "      <td>[0.06652494, 0.055299245, -0.21983418, -0.1023...</td>\n",
       "      <td>[0.03236253, 0.076892324, -0.022873305, 0.0164...</td>\n",
       "    </tr>\n",
       "    <tr>\n",
       "      <th>31777</th>\n",
       "      <td>3539195.0</td>\n",
       "      <td>44070.0</td>\n",
       "      <td>Preferred first name: EmilyStudent ID: 9820065...</td>\n",
       "      <td>5887.0</td>\n",
       "      <td>Thank you for reaching out to us. Your request...</td>\n",
       "      <td>[0.08311005, -0.14021543, -0.2719212, -0.09266...</td>\n",
       "      <td>[0.0448784, 0.0528311, -0.025845824, 0.0149871...</td>\n",
       "    </tr>\n",
       "    <tr>\n",
       "      <th>1461</th>\n",
       "      <td>825836.0</td>\n",
       "      <td>44070.0</td>\n",
       "      <td>Preferred first name: CindyStudent ID: 7020098...</td>\n",
       "      <td>1244.0</td>\n",
       "      <td>You've just received your first Splash Card an...</td>\n",
       "      <td>[0.15432195, 0.08601062, -0.28310993, -0.14506...</td>\n",
       "      <td>[0.040771257, 0.08666819, -0.032497272, 0.0030...</td>\n",
       "    </tr>\n",
       "    <tr>\n",
       "      <th>33765</th>\n",
       "      <td>3688596.0</td>\n",
       "      <td>44070.0</td>\n",
       "      <td>Preferred first name: Student ID: 692007591Bui...</td>\n",
       "      <td>6866.0</td>\n",
       "      <td>Thank you for reaching out to us. Your request...</td>\n",
       "      <td>[-0.0074237385, -0.08530132, -0.24353506, -0.0...</td>\n",
       "      <td>[0.02532082, 0.0485581, -0.018456843, 0.038095...</td>\n",
       "    </tr>\n",
       "    <tr>\n",
       "      <th>1756</th>\n",
       "      <td>827959.0</td>\n",
       "      <td>44070.0</td>\n",
       "      <td>Preferred first name: GraceStudent ID: 7210062...</td>\n",
       "      <td>1244.0</td>\n",
       "      <td>You've just received your first Splash Card an...</td>\n",
       "      <td>[0.1331232, 0.07188691, -0.22165138, -0.100756...</td>\n",
       "      <td>[0.03335717, 0.07120075, -0.02222371, 0.032460...</td>\n",
       "    </tr>\n",
       "    <tr>\n",
       "      <th>35399</th>\n",
       "      <td>3890409.0</td>\n",
       "      <td>44070.0</td>\n",
       "      <td>Preferred first name: FanyuStudent ID: 6160087...</td>\n",
       "      <td>6866.0</td>\n",
       "      <td>Thank you for reaching out to us. Your request...</td>\n",
       "      <td>[0.19498648, -0.05748049, -0.22221345, -0.0294...</td>\n",
       "      <td>[0.055917647, 0.06294778, -0.024261052, 0.0393...</td>\n",
       "    </tr>\n",
       "    <tr>\n",
       "      <th>17763</th>\n",
       "      <td>1714119.0</td>\n",
       "      <td>44070.0</td>\n",
       "      <td>External Sender. Be aware of links, attachment...</td>\n",
       "      <td>3699.0</td>\n",
       "      <td>We have processed your request. You will recei...</td>\n",
       "      <td>[0.28523684, -0.1044273, -0.12594585, 0.191631...</td>\n",
       "      <td>[0.061587535, 0.023655597, -0.014516805, 0.069...</td>\n",
       "    </tr>\n",
       "  </tbody>\n",
       "</table>\n",
       "</div>"
      ],
      "text/plain": [
       "          CaseID   CorpNo                                cleaned_description  \\\n",
       "1582    826467.0  44070.0  Preferred first name: AllyStudent ID: 36100946...   \n",
       "16334  1663263.0  44070.0   External Sender. Be aware of links, attachmen...   \n",
       "2578    846089.0  44070.0  Preferred first name: FionaStudent ID: 4170082...   \n",
       "1648    826780.0  44070.0  Preferred first name: AnnaStudent ID: 64300275...   \n",
       "31777  3539195.0  44070.0  Preferred first name: EmilyStudent ID: 9820065...   \n",
       "1461    825836.0  44070.0  Preferred first name: CindyStudent ID: 7020098...   \n",
       "33765  3688596.0  44070.0  Preferred first name: Student ID: 692007591Bui...   \n",
       "1756    827959.0  44070.0  Preferred first name: GraceStudent ID: 7210062...   \n",
       "35399  3890409.0  44070.0  Preferred first name: FanyuStudent ID: 6160087...   \n",
       "17763  1714119.0  44070.0  External Sender. Be aware of links, attachment...   \n",
       "\n",
       "       TemplateId                                    cleaned_message  \\\n",
       "1582       1244.0  You've just received your first Splash Card an...   \n",
       "16334      3699.0  We have processed your request. You will recei...   \n",
       "2578       1242.0  Replacing your Splash Card is never fun, but I...   \n",
       "1648       1238.0  Anna,I hope we were able to answer all of your...   \n",
       "31777      5887.0  Thank you for reaching out to us. Your request...   \n",
       "1461       1244.0  You've just received your first Splash Card an...   \n",
       "33765      6866.0  Thank you for reaching out to us. Your request...   \n",
       "1756       1244.0  You've just received your first Splash Card an...   \n",
       "35399      6866.0  Thank you for reaching out to us. Your request...   \n",
       "17763      3699.0  We have processed your request. You will recei...   \n",
       "\n",
       "                                           qa_embeddings  \\\n",
       "1582   [-0.024660012, 0.0066581448, -0.28968897, -0.1...   \n",
       "16334  [0.05878132, 0.120848715, -0.13129868, 0.14687...   \n",
       "2578   [-0.009737069, 0.038736753, -0.30248937, -0.12...   \n",
       "1648   [0.06652494, 0.055299245, -0.21983418, -0.1023...   \n",
       "31777  [0.08311005, -0.14021543, -0.2719212, -0.09266...   \n",
       "1461   [0.15432195, 0.08601062, -0.28310993, -0.14506...   \n",
       "33765  [-0.0074237385, -0.08530132, -0.24353506, -0.0...   \n",
       "1756   [0.1331232, 0.07188691, -0.22165138, -0.100756...   \n",
       "35399  [0.19498648, -0.05748049, -0.22221345, -0.0294...   \n",
       "17763  [0.28523684, -0.1044273, -0.12594585, 0.191631...   \n",
       "\n",
       "                                           qq_embeddings  \n",
       "1582   [0.026709707, 0.074973024, -0.022041367, 0.024...  \n",
       "16334  [0.0020468635, 0.062818274, -0.0073692505, 0.0...  \n",
       "2578   [0.030020628, 0.0827849, -0.029796092, 0.02042...  \n",
       "1648   [0.03236253, 0.076892324, -0.022873305, 0.0164...  \n",
       "31777  [0.0448784, 0.0528311, -0.025845824, 0.0149871...  \n",
       "1461   [0.040771257, 0.08666819, -0.032497272, 0.0030...  \n",
       "33765  [0.02532082, 0.0485581, -0.018456843, 0.038095...  \n",
       "1756   [0.03335717, 0.07120075, -0.02222371, 0.032460...  \n",
       "35399  [0.055917647, 0.06294778, -0.024261052, 0.0393...  \n",
       "17763  [0.061587535, 0.023655597, -0.014516805, 0.069...  "
      ]
     },
     "execution_count": 163,
     "metadata": {},
     "output_type": "execute_result"
    }
   ],
   "source": [
    "case_train_44070.sample(10)"
   ]
  },
  {
   "cell_type": "code",
   "execution_count": 151,
   "id": "6b81e146-97da-4af9-860a-6ecc0c3deade",
   "metadata": {},
   "outputs": [
    {
     "ename": "ValueError",
     "evalue": "Cannot take a larger sample than population when 'replace=False'",
     "output_type": "error",
     "traceback": [
      "\u001b[0;31m---------------------------------------------------------------------------\u001b[0m",
      "\u001b[0;31mValueError\u001b[0m                                Traceback (most recent call last)",
      "Cell \u001b[0;32mIn[151], line 1\u001b[0m\n\u001b[0;32m----> 1\u001b[0m sampled_df \u001b[38;5;241m=\u001b[39m \u001b[43mcase_train_44070\u001b[49m\u001b[38;5;241;43m.\u001b[39;49m\u001b[43mdrop_duplicates\u001b[49m\u001b[43m(\u001b[49m\u001b[43msubset\u001b[49m\u001b[38;5;241;43m=\u001b[39;49m\u001b[38;5;124;43m'\u001b[39;49m\u001b[38;5;124;43mTemplateId\u001b[39;49m\u001b[38;5;124;43m'\u001b[39;49m\u001b[43m)\u001b[49m\u001b[38;5;241;43m.\u001b[39;49m\u001b[43msample\u001b[49m\u001b[43m(\u001b[49m\u001b[43mn\u001b[49m\u001b[38;5;241;43m=\u001b[39;49m\u001b[38;5;241;43m10\u001b[39;49m\u001b[43m)\u001b[49m\u001b[38;5;241m.\u001b[39mreset_index(drop \u001b[38;5;241m=\u001b[39m \u001b[38;5;28;01mTrue\u001b[39;00m)\n\u001b[1;32m      3\u001b[0m \u001b[38;5;28mprint\u001b[39m(\u001b[38;5;28mtype\u001b[39m(sampled_df))\n",
      "File \u001b[0;32m/opt/conda/lib/python3.10/site-packages/pandas/core/generic.py:5858\u001b[0m, in \u001b[0;36mNDFrame.sample\u001b[0;34m(self, n, frac, replace, weights, random_state, axis, ignore_index)\u001b[0m\n\u001b[1;32m   5855\u001b[0m \u001b[38;5;28;01mif\u001b[39;00m weights \u001b[38;5;129;01mis\u001b[39;00m \u001b[38;5;129;01mnot\u001b[39;00m \u001b[38;5;28;01mNone\u001b[39;00m:\n\u001b[1;32m   5856\u001b[0m     weights \u001b[38;5;241m=\u001b[39m sample\u001b[38;5;241m.\u001b[39mpreprocess_weights(\u001b[38;5;28mself\u001b[39m, weights, axis)\n\u001b[0;32m-> 5858\u001b[0m sampled_indices \u001b[38;5;241m=\u001b[39m \u001b[43msample\u001b[49m\u001b[38;5;241;43m.\u001b[39;49m\u001b[43msample\u001b[49m\u001b[43m(\u001b[49m\u001b[43mobj_len\u001b[49m\u001b[43m,\u001b[49m\u001b[43m \u001b[49m\u001b[43msize\u001b[49m\u001b[43m,\u001b[49m\u001b[43m \u001b[49m\u001b[43mreplace\u001b[49m\u001b[43m,\u001b[49m\u001b[43m \u001b[49m\u001b[43mweights\u001b[49m\u001b[43m,\u001b[49m\u001b[43m \u001b[49m\u001b[43mrs\u001b[49m\u001b[43m)\u001b[49m\n\u001b[1;32m   5859\u001b[0m result \u001b[38;5;241m=\u001b[39m \u001b[38;5;28mself\u001b[39m\u001b[38;5;241m.\u001b[39mtake(sampled_indices, axis\u001b[38;5;241m=\u001b[39maxis)\n\u001b[1;32m   5861\u001b[0m \u001b[38;5;28;01mif\u001b[39;00m ignore_index:\n",
      "File \u001b[0;32m/opt/conda/lib/python3.10/site-packages/pandas/core/sample.py:151\u001b[0m, in \u001b[0;36msample\u001b[0;34m(obj_len, size, replace, weights, random_state)\u001b[0m\n\u001b[1;32m    148\u001b[0m     \u001b[38;5;28;01melse\u001b[39;00m:\n\u001b[1;32m    149\u001b[0m         \u001b[38;5;28;01mraise\u001b[39;00m \u001b[38;5;167;01mValueError\u001b[39;00m(\u001b[38;5;124m\"\u001b[39m\u001b[38;5;124mInvalid weights: weights sum to zero\u001b[39m\u001b[38;5;124m\"\u001b[39m)\n\u001b[0;32m--> 151\u001b[0m \u001b[38;5;28;01mreturn\u001b[39;00m \u001b[43mrandom_state\u001b[49m\u001b[38;5;241;43m.\u001b[39;49m\u001b[43mchoice\u001b[49m\u001b[43m(\u001b[49m\u001b[43mobj_len\u001b[49m\u001b[43m,\u001b[49m\u001b[43m \u001b[49m\u001b[43msize\u001b[49m\u001b[38;5;241;43m=\u001b[39;49m\u001b[43msize\u001b[49m\u001b[43m,\u001b[49m\u001b[43m \u001b[49m\u001b[43mreplace\u001b[49m\u001b[38;5;241;43m=\u001b[39;49m\u001b[43mreplace\u001b[49m\u001b[43m,\u001b[49m\u001b[43m \u001b[49m\u001b[43mp\u001b[49m\u001b[38;5;241;43m=\u001b[39;49m\u001b[43mweights\u001b[49m\u001b[43m)\u001b[49m\u001b[38;5;241m.\u001b[39mastype(\n\u001b[1;32m    152\u001b[0m     np\u001b[38;5;241m.\u001b[39mintp, copy\u001b[38;5;241m=\u001b[39m\u001b[38;5;28;01mFalse\u001b[39;00m\n\u001b[1;32m    153\u001b[0m )\n",
      "File \u001b[0;32mmtrand.pyx:965\u001b[0m, in \u001b[0;36mnumpy.random.mtrand.RandomState.choice\u001b[0;34m()\u001b[0m\n",
      "\u001b[0;31mValueError\u001b[0m: Cannot take a larger sample than population when 'replace=False'"
     ]
    }
   ],
   "source": [
    "sampled_df = case_train_44070.drop_duplicates(subset='TemplateId').sample(n=10).reset_index(drop = True)\n",
    "\n",
    "print(type(sampled_df))"
   ]
  },
  {
   "cell_type": "code",
   "execution_count": 152,
   "id": "bfd0884e-0cb1-4832-ade3-64544200c091",
   "metadata": {},
   "outputs": [
    {
     "data": {
      "text/html": [
       "<div>\n",
       "<style scoped>\n",
       "    .dataframe tbody tr th:only-of-type {\n",
       "        vertical-align: middle;\n",
       "    }\n",
       "\n",
       "    .dataframe tbody tr th {\n",
       "        vertical-align: top;\n",
       "    }\n",
       "\n",
       "    .dataframe thead th {\n",
       "        text-align: right;\n",
       "    }\n",
       "</style>\n",
       "<table border=\"1\" class=\"dataframe\">\n",
       "  <thead>\n",
       "    <tr style=\"text-align: right;\">\n",
       "      <th></th>\n",
       "      <th>CaseID</th>\n",
       "      <th>CorpNo</th>\n",
       "      <th>cleaned_description</th>\n",
       "      <th>TemplateId</th>\n",
       "      <th>cleaned_message</th>\n",
       "      <th>qa_embeddings</th>\n",
       "      <th>qq_embeddings</th>\n",
       "    </tr>\n",
       "  </thead>\n",
       "  <tbody>\n",
       "    <tr>\n",
       "      <th>0</th>\n",
       "      <td>3547504.0</td>\n",
       "      <td>44070.0</td>\n",
       "      <td>External Sender. Be aware of links, attachment...</td>\n",
       "      <td>6708.0</td>\n",
       "      <td>Mr. Veal, thank you for sharing this informati...</td>\n",
       "      <td>[0.1725361, -0.45340288, -0.12364495, 0.497997...</td>\n",
       "      <td>[0.017161429, -0.00061248854, 0.00482166, 0.01...</td>\n",
       "    </tr>\n",
       "    <tr>\n",
       "      <th>1</th>\n",
       "      <td>861061.0</td>\n",
       "      <td>44070.0</td>\n",
       "      <td>Please see the attached files for bulletin po...</td>\n",
       "      <td>1544.0</td>\n",
       "      <td>Meredith-Here is the returned item.PSIf this i...</td>\n",
       "      <td>[0.28978765, 0.19522053, -0.27031404, -0.06790...</td>\n",
       "      <td>[0.046535607, 0.029665003, -0.019016046, -0.02...</td>\n",
       "    </tr>\n",
       "    <tr>\n",
       "      <th>2</th>\n",
       "      <td>802594.0</td>\n",
       "      <td>44070.0</td>\n",
       "      <td>Preferred first name: AlexanderStudent ID: 757...</td>\n",
       "      <td>1240.0</td>\n",
       "      <td>Thank you for purchasing your parking pass fro...</td>\n",
       "      <td>[-0.033015944, -0.010021959, -0.26270372, -0.1...</td>\n",
       "      <td>[0.0052503073, 0.07761569, -0.005307954, 0.018...</td>\n",
       "    </tr>\n",
       "    <tr>\n",
       "      <th>3</th>\n",
       "      <td>3431536.0</td>\n",
       "      <td>44070.0</td>\n",
       "      <td>Hello,I am trying to add Jacob and Caroline, c...</td>\n",
       "      <td>6370.0</td>\n",
       "      <td>Good Afternoon Dr. Fusco,Please have Caroline ...</td>\n",
       "      <td>[0.24274571, -0.06987252, -0.09810126, 0.25783...</td>\n",
       "      <td>[0.05732021, 0.005416873, 0.029247763, 0.03458...</td>\n",
       "    </tr>\n",
       "    <tr>\n",
       "      <th>4</th>\n",
       "      <td>2943582.0</td>\n",
       "      <td>44070.0</td>\n",
       "      <td>Preferred first name: DiegoStudent ID: 6900008...</td>\n",
       "      <td>5731.0</td>\n",
       "      <td>Thank you for reaching out to us. Your request...</td>\n",
       "      <td>[-0.1903193, 0.28985512, -0.22970034, -0.31545...</td>\n",
       "      <td>[0.012159014, 0.07850253, -0.020122932, -0.003...</td>\n",
       "    </tr>\n",
       "    <tr>\n",
       "      <th>5</th>\n",
       "      <td>729462.0</td>\n",
       "      <td>44070.0</td>\n",
       "      <td>From: Zion, Abigail M Sent: Monday, July 8, 2...</td>\n",
       "      <td>1236.0</td>\n",
       "      <td>Good morning Abigail,Please see attached websi...</td>\n",
       "      <td>[0.0013764423, -0.2987635, -0.1479643, 0.13562...</td>\n",
       "      <td>[0.032569185, 0.005998171, 0.011326579, 0.0203...</td>\n",
       "    </tr>\n",
       "    <tr>\n",
       "      <th>6</th>\n",
       "      <td>1163977.0</td>\n",
       "      <td>44070.0</td>\n",
       "      <td>Hello, During this time of quarantine, have t...</td>\n",
       "      <td>2194.0</td>\n",
       "      <td>We are thankful for your patience, and hope yo...</td>\n",
       "      <td>[0.20786773, 0.09958944, -0.20773877, 0.118577...</td>\n",
       "      <td>[0.01608505, 0.09157507, -0.012007482, 0.04348...</td>\n",
       "    </tr>\n",
       "    <tr>\n",
       "      <th>7</th>\n",
       "      <td>3087862.0</td>\n",
       "      <td>44070.0</td>\n",
       "      <td>Preferred first name: DavidStudent ID: 6600038...</td>\n",
       "      <td>5920.0</td>\n",
       "      <td>Thank you for reaching out, however we are una...</td>\n",
       "      <td>[-0.058427304, -0.042480763, -0.23311795, -0.0...</td>\n",
       "      <td>[0.020503402, 0.046240035, -0.022864243, 0.023...</td>\n",
       "    </tr>\n",
       "    <tr>\n",
       "      <th>8</th>\n",
       "      <td>3608763.0</td>\n",
       "      <td>44070.0</td>\n",
       "      <td>To whom it may concern,I am writing to see if ...</td>\n",
       "      <td>6546.0</td>\n",
       "      <td>Good Morning,Depending on the purpose of your ...</td>\n",
       "      <td>[0.11071318, 0.2979945, -0.1006366, -0.0918096...</td>\n",
       "      <td>[0.035488095, 0.008190261, 0.007380249, -0.033...</td>\n",
       "    </tr>\n",
       "    <tr>\n",
       "      <th>9</th>\n",
       "      <td>3107932.0</td>\n",
       "      <td>44070.0</td>\n",
       "      <td>Preferred first name: Student ID: 184003455Bui...</td>\n",
       "      <td>6161.0</td>\n",
       "      <td>Thank you for reaching out to us. Three swipes...</td>\n",
       "      <td>[-0.049000986, -0.17651719, -0.23717113, -0.02...</td>\n",
       "      <td>[0.031227551, 0.029107166, -0.018912284, 0.036...</td>\n",
       "    </tr>\n",
       "  </tbody>\n",
       "</table>\n",
       "</div>"
      ],
      "text/plain": [
       "      CaseID   CorpNo                                cleaned_description  \\\n",
       "0  3547504.0  44070.0  External Sender. Be aware of links, attachment...   \n",
       "1   861061.0  44070.0   Please see the attached files for bulletin po...   \n",
       "2   802594.0  44070.0  Preferred first name: AlexanderStudent ID: 757...   \n",
       "3  3431536.0  44070.0  Hello,I am trying to add Jacob and Caroline, c...   \n",
       "4  2943582.0  44070.0  Preferred first name: DiegoStudent ID: 6900008...   \n",
       "5   729462.0  44070.0   From: Zion, Abigail M Sent: Monday, July 8, 2...   \n",
       "6  1163977.0  44070.0   Hello, During this time of quarantine, have t...   \n",
       "7  3087862.0  44070.0  Preferred first name: DavidStudent ID: 6600038...   \n",
       "8  3608763.0  44070.0  To whom it may concern,I am writing to see if ...   \n",
       "9  3107932.0  44070.0  Preferred first name: Student ID: 184003455Bui...   \n",
       "\n",
       "   TemplateId                                    cleaned_message  \\\n",
       "0      6708.0  Mr. Veal, thank you for sharing this informati...   \n",
       "1      1544.0  Meredith-Here is the returned item.PSIf this i...   \n",
       "2      1240.0  Thank you for purchasing your parking pass fro...   \n",
       "3      6370.0  Good Afternoon Dr. Fusco,Please have Caroline ...   \n",
       "4      5731.0  Thank you for reaching out to us. Your request...   \n",
       "5      1236.0  Good morning Abigail,Please see attached websi...   \n",
       "6      2194.0  We are thankful for your patience, and hope yo...   \n",
       "7      5920.0  Thank you for reaching out, however we are una...   \n",
       "8      6546.0  Good Morning,Depending on the purpose of your ...   \n",
       "9      6161.0  Thank you for reaching out to us. Three swipes...   \n",
       "\n",
       "                                       qa_embeddings  \\\n",
       "0  [0.1725361, -0.45340288, -0.12364495, 0.497997...   \n",
       "1  [0.28978765, 0.19522053, -0.27031404, -0.06790...   \n",
       "2  [-0.033015944, -0.010021959, -0.26270372, -0.1...   \n",
       "3  [0.24274571, -0.06987252, -0.09810126, 0.25783...   \n",
       "4  [-0.1903193, 0.28985512, -0.22970034, -0.31545...   \n",
       "5  [0.0013764423, -0.2987635, -0.1479643, 0.13562...   \n",
       "6  [0.20786773, 0.09958944, -0.20773877, 0.118577...   \n",
       "7  [-0.058427304, -0.042480763, -0.23311795, -0.0...   \n",
       "8  [0.11071318, 0.2979945, -0.1006366, -0.0918096...   \n",
       "9  [-0.049000986, -0.17651719, -0.23717113, -0.02...   \n",
       "\n",
       "                                       qq_embeddings  \n",
       "0  [0.017161429, -0.00061248854, 0.00482166, 0.01...  \n",
       "1  [0.046535607, 0.029665003, -0.019016046, -0.02...  \n",
       "2  [0.0052503073, 0.07761569, -0.005307954, 0.018...  \n",
       "3  [0.05732021, 0.005416873, 0.029247763, 0.03458...  \n",
       "4  [0.012159014, 0.07850253, -0.020122932, -0.003...  \n",
       "5  [0.032569185, 0.005998171, 0.011326579, 0.0203...  \n",
       "6  [0.01608505, 0.09157507, -0.012007482, 0.04348...  \n",
       "7  [0.020503402, 0.046240035, -0.022864243, 0.023...  \n",
       "8  [0.035488095, 0.008190261, 0.007380249, -0.033...  \n",
       "9  [0.031227551, 0.029107166, -0.018912284, 0.036...  "
      ]
     },
     "execution_count": 152,
     "metadata": {},
     "output_type": "execute_result"
    }
   ],
   "source": [
    "sampled_df"
   ]
  },
  {
   "cell_type": "code",
   "execution_count": 177,
   "id": "5ee3d616-99dc-47e2-a9f7-41ccd46b34e3",
   "metadata": {},
   "outputs": [],
   "source": [
    "#XGB_SHOW(template_matched,case_matched,sampled_df,44070,xgb)"
   ]
  },
  {
   "cell_type": "code",
   "execution_count": 178,
   "id": "7fdc4a97-e35a-4f10-817f-d7a892d7375e",
   "metadata": {},
   "outputs": [],
   "source": [
    "#sampled_df.head()"
   ]
  },
  {
   "cell_type": "code",
   "execution_count": 95,
   "id": "7e53f168-3962-4aaf-aa96-c2e371f9d3db",
   "metadata": {},
   "outputs": [
    {
     "data": {
      "text/plain": [
       "'We are in the process of developing guidelines for band and band camps. The band directors at your school will share this information with you after they get it. We are still offering marching band next year in the traditional and mySchoolOnline model. We will have some social distancing requirements, cleaning procedures and masks (when necessary) for all extra-curricular activities and will be sharing additional details and specific course information soon. Melissa Musselwhite Director Pasco County Schools '"
      ]
     },
     "execution_count": 95,
     "metadata": {},
     "output_type": "execute_result"
    }
   ],
   "source": [
    "comm[comm['CaseID'] == 1485587.0]['cleaned_message'].iloc[0]"
   ]
  },
  {
   "cell_type": "code",
   "execution_count": 98,
   "id": "ef3483d7-5b99-4059-a60b-84e750c6edc3",
   "metadata": {},
   "outputs": [
    {
     "data": {
      "text/plain": [
       "'We are in the process of developing guidelines for band and band camps. The band directors at your school will share this information with you after they get it. We are still offering marching band next year in the traditional and mySchoolOnline model. We will have some social distancing requirements, cleaning procedures and masks (when necessary) for all extra-curricular activities and will be sharing additional details and specific course information soon.'"
      ]
     },
     "execution_count": 98,
     "metadata": {},
     "output_type": "execute_result"
    }
   ],
   "source": [
    "templates[templates['TemplateId'] == 3030]['cleaned_MessageBody'].iloc[0]"
   ]
  },
  {
   "cell_type": "markdown",
   "id": "e030d7fc-dd7d-4689-9735-4bbe94b1400e",
   "metadata": {
    "tags": []
   },
   "source": [
    "#### Unmatched test"
   ]
  },
  {
   "cell_type": "code",
   "execution_count": 179,
   "id": "556bb99c-5e81-44ac-bb36-971525bf82be",
   "metadata": {},
   "outputs": [
    {
     "data": {
      "text/plain": [
       "(56830, 7)"
      ]
     },
     "execution_count": 179,
     "metadata": {},
     "output_type": "execute_result"
    }
   ],
   "source": [
    "case_unmatched_45671 = case_unmatched[case_unmatched.CorpNo == 45671.0]\n",
    "case_unmatched_45671.shape"
   ]
  },
  {
   "cell_type": "code",
   "execution_count": 180,
   "id": "5f72c789-b2a7-49c7-8474-65bd261e5a12",
   "metadata": {},
   "outputs": [
    {
     "data": {
      "text/html": [
       "<div>\n",
       "<style scoped>\n",
       "    .dataframe tbody tr th:only-of-type {\n",
       "        vertical-align: middle;\n",
       "    }\n",
       "\n",
       "    .dataframe tbody tr th {\n",
       "        vertical-align: top;\n",
       "    }\n",
       "\n",
       "    .dataframe thead th {\n",
       "        text-align: right;\n",
       "    }\n",
       "</style>\n",
       "<table border=\"1\" class=\"dataframe\">\n",
       "  <thead>\n",
       "    <tr style=\"text-align: right;\">\n",
       "      <th></th>\n",
       "      <th>CaseID</th>\n",
       "      <th>CorpNo</th>\n",
       "      <th>cleaned_description</th>\n",
       "      <th>TemplateId</th>\n",
       "      <th>cleaned_message</th>\n",
       "      <th>qa_embeddings</th>\n",
       "      <th>qq_embeddings</th>\n",
       "    </tr>\n",
       "  </thead>\n",
       "  <tbody>\n",
       "    <tr>\n",
       "      <th>44</th>\n",
       "      <td>725142.0</td>\n",
       "      <td>45671.0</td>\n",
       "      <td>Hi,We just received notification that our son,...</td>\n",
       "      <td>NaN</td>\n",
       "      <td>Good Morning Alice, I will answer your questio...</td>\n",
       "      <td>[0.3852101, -0.30660906, -0.20506588, 0.474652...</td>\n",
       "      <td>[0.04176847, -0.04396613, -0.015927736, 0.0357...</td>\n",
       "    </tr>\n",
       "    <tr>\n",
       "      <th>164</th>\n",
       "      <td>725428.0</td>\n",
       "      <td>45671.0</td>\n",
       "      <td>Hello,Allow me to introduce myself my name is ...</td>\n",
       "      <td>NaN</td>\n",
       "      <td>Hi Edgar,Thank you for reaching out to the Sup...</td>\n",
       "      <td>[0.01324001, 0.09639303, -0.19524464, 0.172282...</td>\n",
       "      <td>[3.7132206e-05, 0.058761757, -0.03216051, 0.04...</td>\n",
       "    </tr>\n",
       "    <tr>\n",
       "      <th>182</th>\n",
       "      <td>725479.0</td>\n",
       "      <td>45671.0</td>\n",
       "      <td>Hello,I have tried leaving messages and sent e...</td>\n",
       "      <td>NaN</td>\n",
       "      <td>Hello Ms. Small,Thank you for reaching out. So...</td>\n",
       "      <td>[-0.13388388, 0.1499397, -0.2746919, -0.036416...</td>\n",
       "      <td>[0.02632579, 0.0837156, -0.021776514, -0.04621...</td>\n",
       "    </tr>\n",
       "    <tr>\n",
       "      <th>281</th>\n",
       "      <td>725754.0</td>\n",
       "      <td>45671.0</td>\n",
       "      <td>I wanted to make you aware - though I hope you...</td>\n",
       "      <td>NaN</td>\n",
       "      <td>Thank you for contacting the Superintendent's ...</td>\n",
       "      <td>[0.107691124, 0.035338853, -0.20305988, 0.1992...</td>\n",
       "      <td>[0.04758859, 0.069294, 0.012852099, 0.03252831...</td>\n",
       "    </tr>\n",
       "    <tr>\n",
       "      <th>299</th>\n",
       "      <td>725791.0</td>\n",
       "      <td>45671.0</td>\n",
       "      <td>Hi,I have been trying to call enrollment regar...</td>\n",
       "      <td>NaN</td>\n",
       "      <td>Hello Nghia, I sent your email to Enrollment f...</td>\n",
       "      <td>[-0.1405944, -0.5490448, -0.24499018, 0.015286...</td>\n",
       "      <td>[-0.024651533, -0.066694155, 0.006801235, -0.0...</td>\n",
       "    </tr>\n",
       "  </tbody>\n",
       "</table>\n",
       "</div>"
      ],
      "text/plain": [
       "       CaseID   CorpNo                                cleaned_description  \\\n",
       "44   725142.0  45671.0  Hi,We just received notification that our son,...   \n",
       "164  725428.0  45671.0  Hello,Allow me to introduce myself my name is ...   \n",
       "182  725479.0  45671.0  Hello,I have tried leaving messages and sent e...   \n",
       "281  725754.0  45671.0  I wanted to make you aware - though I hope you...   \n",
       "299  725791.0  45671.0  Hi,I have been trying to call enrollment regar...   \n",
       "\n",
       "     TemplateId                                    cleaned_message  \\\n",
       "44          NaN  Good Morning Alice, I will answer your questio...   \n",
       "164         NaN  Hi Edgar,Thank you for reaching out to the Sup...   \n",
       "182         NaN  Hello Ms. Small,Thank you for reaching out. So...   \n",
       "281         NaN  Thank you for contacting the Superintendent's ...   \n",
       "299         NaN  Hello Nghia, I sent your email to Enrollment f...   \n",
       "\n",
       "                                         qa_embeddings  \\\n",
       "44   [0.3852101, -0.30660906, -0.20506588, 0.474652...   \n",
       "164  [0.01324001, 0.09639303, -0.19524464, 0.172282...   \n",
       "182  [-0.13388388, 0.1499397, -0.2746919, -0.036416...   \n",
       "281  [0.107691124, 0.035338853, -0.20305988, 0.1992...   \n",
       "299  [-0.1405944, -0.5490448, -0.24499018, 0.015286...   \n",
       "\n",
       "                                         qq_embeddings  \n",
       "44   [0.04176847, -0.04396613, -0.015927736, 0.0357...  \n",
       "164  [3.7132206e-05, 0.058761757, -0.03216051, 0.04...  \n",
       "182  [0.02632579, 0.0837156, -0.021776514, -0.04621...  \n",
       "281  [0.04758859, 0.069294, 0.012852099, 0.03252831...  \n",
       "299  [-0.024651533, -0.066694155, 0.006801235, -0.0...  "
      ]
     },
     "execution_count": 180,
     "metadata": {},
     "output_type": "execute_result"
    }
   ],
   "source": [
    "case_unmatched_45671.head()"
   ]
  },
  {
   "cell_type": "code",
   "execution_count": 181,
   "id": "c74b304a-623d-4260-b896-1c99ba7561ee",
   "metadata": {},
   "outputs": [],
   "source": [
    "sample = case_unmatched_45671.sample(10).reset_index(drop = True)"
   ]
  },
  {
   "cell_type": "code",
   "execution_count": 182,
   "id": "692f8e7a-6e3e-42b9-855f-8b61a3c13fbb",
   "metadata": {},
   "outputs": [
    {
     "name": "stdout",
     "output_type": "stream",
     "text": [
      "The description for this case is:   From: Menzel, Heather Sent: Tuesday, August 23, 2022 9:27 AMTo: Sheridan, Rebecca Z HR Re: Clock hours Hi Rebecca, I have forwarded your question to the SPS HR department who may be able to help you with your request. They may have more details about the process of requesting your transcripts as a former employee. Cheers, Heather Menzel (nee Murdoch)Professional Development Program SpecialistProfessional Growth & Educator Support WebsiteFrom: Sheridan, Rebecca Z \n",
      "\n",
      "The message for this case is Hi Rebecca,Attached is an official transcript of all your SPS clock hours that we have recorded.Thanks, Mary Swanson HR Analyst, Compensation Seattle Public Schools \n",
      "\n",
      "Recommended templates are:\n",
      "Template id : 5718\n",
      "Message body of this template is : Hello, Thank you for reaching out! This is SPS Customer Service. We wanted to let you know that we have received your message regarding your student's enrollment, and Admissions will be responding to you as soon as possible. We sincerely appreciate your patience. If you have questions that are not student-specific, you might find an answer on our Admissions Page. Thanks again.\n",
      "Template id : 3561\n",
      "Message body of this template is : Hi, Thank you so much for your patience, and please forgive the late response. My name is Adrian with SPS Customer Service--thank you so much for reaching out to Seattle Public Schools. We have received your message. I'd be happy to help.\n",
      "Template id : 1600\n",
      "Message body of this template is : Good, Thank you for contacting the Seattle Public Schools Customer Service Center!\n",
      "Template id : 1631\n",
      "Message body of this template is : Good Morning, My name is Adrian with SPS Customer Service--thank you so much for reaching out to Seattle Public Schools. I am sorry to hear that. I'd e happy to help.\n",
      "Template id : 5438\n",
      "Message body of this template is : Hello, Thank you for reaching out! This is SPS Customer Service. We wanted to let you know that we have received your message regarding your student's enrollment, and Admissions will be responding to you as soon as possible. We sincerely appreciate your patience this busy time of year! If you have questions that are not student-specific, you might find an answer on our Admissions Page. Thanks again.\n",
      "\n",
      "The description for this case is:  Hello me number I said this is a 5 I could even for my calling from your school up on me in a minute telephone a bit of a few to say no, this is sent in the ability to set up a firewall. Pedestrian. \n",
      "\n",
      "The message for this case is Hola Leticia. Gracias por tu mensaje. Ya te mando un correo electronico con instrucciones. --Carlos B.\n",
      "\n",
      "Recommended templates are:\n",
      "Template id : 1631\n",
      "Message body of this template is : Good Morning, My name is Adrian with SPS Customer Service--thank you so much for reaching out to Seattle Public Schools. I am sorry to hear that. I'd e happy to help.\n",
      "Template id : 5493\n",
      "Message body of this template is : Thank you for reaching out to Seattle Public Schools Customer Service! I have shared your message with our Source Support team, and you can expect to hear back as soon as possible. Thanks for your patience!\n",
      "Template id : 4086\n",
      "Message body of this template is : Hi, This is SPS Customer Service--thank you for reaching out!\n",
      "Template id : 6135\n",
      "Message body of this template is : Hello, Thank you for reaching out to Seattle Public Schools Customer Service! I have shared your message with our Source Support team, and you can expect to hear back as soon as possible. Thanks for your patience!\n",
      "Template id : 7140\n",
      "Message body of this template is : Hello, Thank you for reaching out to Seattle Public Schools Customer Service! I have shared your message with our Source Support team, and you can expect to hear back as soon as possible--they are very responsive and helpful. Thanks for your patience! For future reference, they can be engaged directly at or 206.252.0333. Enjoy your day! \n",
      "\n",
      "The description for this case is:  Please follow data driven recommendations to keep secondary school start times at 8:30am or later. \n",
      "\n",
      "The message for this case is Thank you for your feedback. We understand that this is a challenging proposal for many families. We are reviewing all comments and have updated our Bell Times webpage (\n",
      "\n",
      "Recommended templates are:\n",
      "Template id : 1631\n",
      "Message body of this template is : Good Morning, My name is Adrian with SPS Customer Service--thank you so much for reaching out to Seattle Public Schools. I am sorry to hear that. I'd e happy to help.\n",
      "Template id : 5493\n",
      "Message body of this template is : Thank you for reaching out to Seattle Public Schools Customer Service! I have shared your message with our Source Support team, and you can expect to hear back as soon as possible. Thanks for your patience!\n",
      "Template id : 4086\n",
      "Message body of this template is : Hi, This is SPS Customer Service--thank you for reaching out!\n",
      "Template id : 2525\n",
      "Message body of this template is :  Hello xxxxx Sorry to learn you are locked out. I'm CC'ing the inbox so they are aware and can support you with getting your password reset. You can follow up directly for further support. You can also reach the tech line at 206-252-0333. Tech Line, Please note contact info below for XXXX and their SPS email is XXXX Please open a ticket for XXXX\n",
      "Template id : 6135\n",
      "Message body of this template is : Hello, Thank you for reaching out to Seattle Public Schools Customer Service! I have shared your message with our Source Support team, and you can expect to hear back as soon as possible. Thanks for your patience!\n",
      "\n",
      "The description for this case is:  TRANSCRIBED AUTOMATICALLY FROM VOICE MAIL:My name's Olivia Bushay I live in Magnolia and I'm listening to Jason Moran song 7770 and he's talking about Rachel shrine at Catherine y. and pushing some kind of liberal agenda on kids at Bullying. Luckily my kids are in their thirty's I don't have to worry about my own kids being there but this is absolutely Apocracy and tax waste taxpayer money pushing this kind of bullshit with learning about their uprising I mean you guys need to get in control of your teachers in this curriculum about this bias that you're in job for these kids with I send my kids to private school because I took her. They didn't even know what cheap parent. Go day when my kids were going to enter school. I want to call back from somebody to explain what this Rachel Shrine is doing with these young kids minds besides just corrupting them into believing that you know all this rubbish when they should be learning math then and reading and you know Science and doing so doing normal school work instead of all this other bullshit that you guys are propagating. Anyway my phone number is I live in Magnolia for 40 years and my kids went to private school I didn't have to deal with all this crap that. \n",
      "\n",
      "The message for this case is Hello, Olivia, This is SPS. We received your Voice Mail. Thank you for your feedback about what you heard on the radio. We will definitely look into this.\n",
      "\n",
      "Recommended templates are:\n",
      "Template id : 1463\n",
      "Message body of this template is : Thank you for reaching out to the Seattle Public Schools Customer Service Dept. I would like to look into your inquiry but I need more info. Can you please clarify\n",
      "Template id : 3561\n",
      "Message body of this template is : Hi, Thank you so much for your patience, and please forgive the late response. My name is Adrian with SPS Customer Service--thank you so much for reaching out to Seattle Public Schools. We have received your message. I'd be happy to help.\n",
      "Template id : 5921\n",
      "Message body of this template is : Hello, Thank you for reaching out to Seattle Public Schools, and for thinking of us. I wanted to let you know that we have received your message, and you can expect to hear back from our Fixed Assets Manager as soon as possible. Thank you for you patience.\n",
      "Template id : 2602\n",
      "Message body of this template is : Good Morning, Thank you for reaching out to Seattle Public Schools Customer Service. We have received your message. That is very good feedback--thank you for taking the time to express it. I will share your concerns with decision-making administrators for consideration. Please let me know if I can assist you further, and thank you for your patience.\n",
      "Template id : 3655\n",
      "Message body of this template is : Thank you for contacting the Seattle Public Schools Customer Service Center! To change your address, please complete THIS FORM and submit it with address verification documents as detailed in the instructions. You can attach the documents in a reply to this message, or email them directly to . When the change is completed, you will be contacted by Admissions by email with your student's updated school assignment. (It can take a few business days this busy time of year for the change, so you might want to check our ONLINE ASSIGNMENT LOOK-UP TOOL to track the update). I hope this is helpful--please reach out if I can assist you further. Have a great day!\n",
      "\n",
      "The description for this case is:  Hello! I've decided to teach my children at home this year and understand that I need to file a \"declaration of intent.\" Is that something that you send and I sign, or do I create this document myself \n",
      "\n",
      "The message for this case is Ms. Andrews,Thank you for contacting the Superintendent's Office at Seattle Public Schools. Please complete the Intent to Provide Home-Based Instruction form - \n",
      "\n",
      "Recommended templates are:\n",
      "Template id : 5718\n",
      "Message body of this template is : Hello, Thank you for reaching out! This is SPS Customer Service. We wanted to let you know that we have received your message regarding your student's enrollment, and Admissions will be responding to you as soon as possible. We sincerely appreciate your patience. If you have questions that are not student-specific, you might find an answer on our Admissions Page. Thanks again.\n",
      "Template id : 1463\n",
      "Message body of this template is : Thank you for reaching out to the Seattle Public Schools Customer Service Dept. I would like to look into your inquiry but I need more info. Can you please clarify\n",
      "Template id : 5773\n",
      "Message body of this template is : Hello, This is SPS Customer Service. Thank you for reaching out. We have received your message, and we are working to connect it with the person or department that can help. Thanks for your patience.\n",
      "Template id : 5760\n",
      "Message body of this template is : Hello, Thank you for reaching out! This is SPS Customer Service. We wanted to let you know that we have received your message and Human Resources will be responding to you as soon as possible. We sincerely appreciate your patience.\n",
      "Template id : 6271\n",
      "Message body of this template is : Hello, This is SPS Customer Service. Thank you for reaching out. We have received your message, and we are working to connect it with the person or department that can help. Thanks for your patience.\n",
      "\n",
      "The description for this case is:  Hi,How do I access my paystub from my personal computerThank you for your time.Shirley Root \n",
      "\n",
      "The message for this case is Login in to our district website and at the bottom of the page click on Staff website, go to MYSPS then click on the blue tab Employee Manager /Self service , you could also email payroll to send you a copyPayroll Mailbox Monica Menchaca Absence Management and Substitute Services Administrator, Human Resources Seattle Public Schools \n",
      "\n",
      "Recommended templates are:\n",
      "Template id : 6271\n",
      "Message body of this template is : Hello, This is SPS Customer Service. Thank you for reaching out. We have received your message, and we are working to connect it with the person or department that can help. Thanks for your patience.\n",
      "Template id : 1463\n",
      "Message body of this template is : Thank you for reaching out to the Seattle Public Schools Customer Service Dept. I would like to look into your inquiry but I need more info. Can you please clarify\n",
      "Template id : 3561\n",
      "Message body of this template is : Hi, Thank you so much for your patience, and please forgive the late response. My name is Adrian with SPS Customer Service--thank you so much for reaching out to Seattle Public Schools. We have received your message. I'd be happy to help.\n",
      "Template id : 5718\n",
      "Message body of this template is : Hello, Thank you for reaching out! This is SPS Customer Service. We wanted to let you know that we have received your message regarding your student's enrollment, and Admissions will be responding to you as soon as possible. We sincerely appreciate your patience. If you have questions that are not student-specific, you might find an answer on our Admissions Page. Thanks again.\n",
      "\n",
      "The description for this case is:  Hello, I was wondering if you could confirm some information for me. I'm looking to start an online elementary education program and wanted to make sure that I will be able to student teach/observe in the future. Could you tell me if you have have had students from Western Governors University or Walden University work with Seattle Public schools Or get me in touch with someone who could tell me this information. Thank you in advance \n",
      "\n",
      "The message for this case is Closed out via phone conversation on Thursday, July 16.\n",
      "\n",
      "Recommended templates are:\n",
      "Template id : 5921\n",
      "Message body of this template is : Hello, Thank you for reaching out to Seattle Public Schools, and for thinking of us. I wanted to let you know that we have received your message, and you can expect to hear back from our Fixed Assets Manager as soon as possible. Thank you for you patience.\n",
      "Template id : 1463\n",
      "Message body of this template is : Thank you for reaching out to the Seattle Public Schools Customer Service Dept. I would like to look into your inquiry but I need more info. Can you please clarify\n",
      "Template id : 5773\n",
      "Message body of this template is : Hello, This is SPS Customer Service. Thank you for reaching out. We have received your message, and we are working to connect it with the person or department that can help. Thanks for your patience.\n",
      "Template id : 3974\n",
      "Message body of this template is : Thank you for contacting Seattle Public Schools Customer Service. Our registration system is entirely online now and it is fairly straightforward: it asks you to create a profile, and supply us with some basic supplementary documentation. We ask for: Photo ID or passport Two pieces of address verification (dated within the past eight weeks) These Work: current telephone, utility or cable bills; mortgage information; insurance documents; or documents from public agencies such as courts or the Department of Social and Health Services (DSHS). Lease or rental agreements can be used if you include the first page and the signature page These Do Not: Copies of envelopes, personal correspondence, magazines etc are not acceptable for address verification. Certificate of Immunization Status or Certificate of Immunization Exemption You can begin the process here: So I encourage you to gather your supporting documentation and visit our website--there is no deadline, but sooner is, of course, better than later. When you complete the online registration, it puts your student's information in a queue, and it still must be reviewed and assigned by an Admissions facilitator. Due to the busy time of year, that could take several business days--thank you for your patience! As soon as the assignment is complete, you will be notified through the email address we have on file for you, or by phone, immediately. You will be hearing from the school soon thereafter with welcome information and next steps. I also encourage you to create a Source Account as soon as the assignment is complete; that's where you can access class and teacher and grade report information, plus other resources: If your student is in need of a computer for remote learning, please contact your new principal (email is best, as we are working remotely). They can arrange pick up or delivery. You can find other technology resources, including free and reduced-price WiFi, here: And you can find Free and Reduced Price Lunch information here: I also encourage you to explore your new school's website about news and upcoming events. I hope this is helpful! Please let me know if I can clarify anything or assist you further. Welcome to Seattle Public Schools!\n",
      "Template id : 3220\n",
      "Message body of this template is : Good Morning, My name is Adrian with SPS Customer Service--thank you so much for reaching out to Seattle Public Schools and sharing your thoughts and concerns on the 2020/2021 school year. You make very good points, and I understand, and share, your concerns. I am sharing your message with our administration for consideration as they work to shape the 2020/2021 school year. (The final vote will be August 12.) Your feedback is very valuable and helpful, and I thank you again for taking the time to share it. Also, there will be a survey sent out to our families soon, and I encourage you to participate in that as well. All feedback from our families will be seriously considered. Thank you again, and please reach out if I can assist you further.\n",
      "\n",
      "The description for this case is:  My name is Daryl white. I'm calling regards to my son, the andre white trying to transfer him from Reagan beach High School to cleveland high School. I think he may be on the waiting list, but I need to see where he's at. On that waiting list ringer be to clement high School reading says being him, being transferred to cleveland is to gang this over to ringer beach High School. There's been multiple shooting and the last couple of weeks at school ended and extended and just got shot by, by the school. And so what my son about it could you please give me a call back at . My name is Tara white and my son name is B R Y. Thank you. \n",
      "\n",
      "The message for this case is Hello parent, Thanks for your message. I just called and left you a voice message with my phone number . Hope to hear back from you soon. Have a good day. SPS Admissions FengYan Tang\n",
      "\n",
      "Recommended templates are:\n",
      "Template id : 1463\n",
      "Message body of this template is : Thank you for reaching out to the Seattle Public Schools Customer Service Dept. I would like to look into your inquiry but I need more info. Can you please clarify\n",
      "Template id : 5718\n",
      "Message body of this template is : Hello, Thank you for reaching out! This is SPS Customer Service. We wanted to let you know that we have received your message regarding your student's enrollment, and Admissions will be responding to you as soon as possible. We sincerely appreciate your patience. If you have questions that are not student-specific, you might find an answer on our Admissions Page. Thanks again.\n",
      "Template id : 3220\n",
      "Message body of this template is : Good Morning, My name is Adrian with SPS Customer Service--thank you so much for reaching out to Seattle Public Schools and sharing your thoughts and concerns on the 2020/2021 school year. You make very good points, and I understand, and share, your concerns. I am sharing your message with our administration for consideration as they work to shape the 2020/2021 school year. (The final vote will be August 12.) Your feedback is very valuable and helpful, and I thank you again for taking the time to share it. Also, there will be a survey sent out to our families soon, and I encourage you to participate in that as well. All feedback from our families will be seriously considered. Thank you again, and please reach out if I can assist you further.\n",
      "Template id : 5438\n",
      "Message body of this template is : Hello, Thank you for reaching out! This is SPS Customer Service. We wanted to let you know that we have received your message regarding your student's enrollment, and Admissions will be responding to you as soon as possible. We sincerely appreciate your patience this busy time of year! If you have questions that are not student-specific, you might find an answer on our Admissions Page. Thanks again.\n",
      "Template id : 5576\n",
      "Message body of this template is : Thank you for reaching out to Seattle Public Schools. Our registration system is entirely online now and it is fairly straightforward: it asks you to create a profile, and supply us with some basic supplementary documentation. We ask for: Photo ID or passport Two pieces of address verification (dated within the past eight weeks) These Work: current telephone, utility or cable bills; mortgage information; insurance documents; or documents from public agencies such as courts or the Department of Social and Health Services (DSHS). Lease or rental agreements can be used if you include the first page and the signature page These Do Not: Copies of envelopes, personal correspondence, magazines etc are not acceptable for address verification. Certificate of Immunization Status or Certificate of Immunization Exemption You can begin the process here: So I encourage you to gather your supporting documentation and visit our website--there is no deadline, but sooner is, of course, better than later. When you complete the online registration, it puts your student's information in a queue, and it still must be reviewed and assigned by an Admissions facilitator. Due to the busy time of year, that could take several business days--thank you for your patience! As soon as the assignment is complete, you will be notified through the email address we have on file for you, or by phone, immediately. You will be hearing from the school soon thereafter with welcome information and next steps. I also encourage you to create a Source Account as soon as the assignment is complete; that's where you can access class and teacher and grade report information, plus other resources: And you can find Free and Reduced Price Lunch information here: I also encourage you to explore your new school's website about news and upcoming events. I hope this is helpful! Please let me know if I can clarify anything or assist you further. Welcome to Seattle Public Schools!\n",
      "\n",
      "The description for this case is:  My Name me a little poem number 20 sit on it so I thought. I could draw I to know because I want to go in my gym rent the school I move out come that good meeting number I. Thank you bye bye. \n",
      "\n",
      "The message for this case is Hello parent, Thanks for taking my call today. Let me know if have further questions. Take care.\n",
      "\n",
      "Recommended templates are:\n",
      "Template id : 5760\n",
      "Message body of this template is : Hello, Thank you for reaching out! This is SPS Customer Service. We wanted to let you know that we have received your message and Human Resources will be responding to you as soon as possible. We sincerely appreciate your patience.\n",
      "Template id : 3561\n",
      "Message body of this template is : Hi, Thank you so much for your patience, and please forgive the late response. My name is Adrian with SPS Customer Service--thank you so much for reaching out to Seattle Public Schools. We have received your message. I'd be happy to help.\n",
      "Template id : 1631\n",
      "Message body of this template is : Good Morning, My name is Adrian with SPS Customer Service--thank you so much for reaching out to Seattle Public Schools. I am sorry to hear that. I'd e happy to help.\n",
      "Template id : 1463\n",
      "Message body of this template is : Thank you for reaching out to the Seattle Public Schools Customer Service Dept. I would like to look into your inquiry but I need more info. Can you please clarify\n",
      "Template id : 6271\n",
      "Message body of this template is : Hello, This is SPS Customer Service. Thank you for reaching out. We have received your message, and we are working to connect it with the person or department that can help. Thanks for your patience.\n",
      "\n"
     ]
    }
   ],
   "source": [
    "XGB_SHOW(template_matched,case_matched,sample,45671,xgb)"
   ]
  },
  {
   "cell_type": "code",
   "execution_count": null,
   "id": "80c149a7-950e-4263-a6a9-fa7e01b2b44c",
   "metadata": {},
   "outputs": [],
   "source": [
    "#show_result(template_matched, case_matched,, 44070, best_LR_05)"
   ]
  },
  {
   "cell_type": "code",
   "execution_count": 32,
   "id": "3e0915a0-7ef1-48b0-a433-f119d000605a",
   "metadata": {},
   "outputs": [],
   "source": [
    "def load_model(filename):\n",
    "    return load(filename)"
   ]
  },
  {
   "cell_type": "code",
   "execution_count": 35,
   "id": "c644cde6-1eda-4147-88fc-c9e35ef08601",
   "metadata": {},
   "outputs": [],
   "source": [
    "best_LR_03 = load_model('best_logistic_model_44070.joblib')"
   ]
  },
  {
   "cell_type": "code",
   "execution_count": null,
   "id": "6355183f-9f3e-4bc5-92a3-b81a4af7282e",
   "metadata": {},
   "outputs": [],
   "source": [
    "model_general"
   ]
  },
  {
   "cell_type": "code",
   "execution_count": 69,
   "id": "553113f3-d566-4476-9301-efff338c87e8",
   "metadata": {},
   "outputs": [],
   "source": [
    "case_unmatched_44070_sample = case_unmatched_44070.head(5)"
   ]
  },
  {
   "cell_type": "code",
   "execution_count": 70,
   "id": "2635c500-481b-4657-b175-bd4f9b712e2a",
   "metadata": {},
   "outputs": [],
   "source": [
    "case_unmatched_44070_sample = case_unmatched_44070_sample.reset_index(drop = True)"
   ]
  },
  {
   "cell_type": "code",
   "execution_count": 16,
   "id": "3931d911-f604-4afa-9ce5-ddf814926094",
   "metadata": {},
   "outputs": [],
   "source": [
    "#XGB_SHOW(template_matched, case_matched, case_unmatched_44070_sample, 44070, XGB)"
   ]
  },
  {
   "cell_type": "code",
   "execution_count": 65,
   "id": "4aff4cf8-5d42-484c-82e4-368f5c38a3f9",
   "metadata": {},
   "outputs": [],
   "source": [
    "case_unmatched_44070_sample = case_unmatched_44070_sample.reset_index(drop = True)"
   ]
  },
  {
   "cell_type": "code",
   "execution_count": 17,
   "id": "a67518cb-a5c4-4975-b9c8-c7dcb1ee0c7d",
   "metadata": {},
   "outputs": [],
   "source": [
    "#show_result(template_unmatched, case_unmatched, case_unmatched_44070_sample, 44070, best_LR_03)"
   ]
  },
  {
   "cell_type": "code",
   "execution_count": null,
   "id": "dd751900-11ca-488f-bf80-26360d9cf3a9",
   "metadata": {},
   "outputs": [],
   "source": []
  }
 ],
 "metadata": {
  "environment": {
   "kernel": "python3",
   "name": "pytorch-gpu.2-0.m112",
   "type": "gcloud",
   "uri": "gcr.io/deeplearning-platform-release/pytorch-gpu.2-0:m112"
  },
  "kernelspec": {
   "display_name": "Python 3",
   "language": "python",
   "name": "python3"
  },
  "language_info": {
   "codemirror_mode": {
    "name": "ipython",
    "version": 3
   },
   "file_extension": ".py",
   "mimetype": "text/x-python",
   "name": "python",
   "nbconvert_exporter": "python",
   "pygments_lexer": "ipython3",
   "version": "3.10.10"
  }
 },
 "nbformat": 4,
 "nbformat_minor": 5
}
