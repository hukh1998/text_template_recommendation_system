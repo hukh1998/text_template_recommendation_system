{
 "cells": [
  {
   "cell_type": "code",
   "execution_count": 1,
   "metadata": {},
   "outputs": [],
   "source": [
    "import pandas as pd\n",
    "import matplotlib.pyplot as plt\n",
    "import seaborn as sns\n",
    "import numpy as np\n",
    "\n",
    "import warnings\n",
    "warnings.filterwarnings('ignore')"
   ]
  },
  {
   "cell_type": "code",
   "execution_count": 2,
   "metadata": {},
   "outputs": [
    {
     "name": "stdout",
     "output_type": "stream",
     "text": [
      "CaseDetails: (1699508, 5)\n",
      "Communications: (1462370, 5)\n",
      "Templates: (5971, 5)\n",
      "CPU times: user 10.3 s, sys: 804 ms, total: 11.1 s\n",
      "Wall time: 11.5 s\n"
     ]
    }
   ],
   "source": [
    "%%time\n",
    "case = pd.read_csv('case_clean.csv')\n",
    "comm = pd.read_csv('comm_clean.csv')\n",
    "template = pd.read_csv('template_clean.csv')\n",
    "\n",
    "print(\"CaseDetails:\", case.shape)\n",
    "print(\"Communications:\", comm.shape)\n",
    "print(\"Templates:\", template.shape)"
   ]
  },
  {
   "cell_type": "code",
   "execution_count": 3,
   "metadata": {},
   "outputs": [],
   "source": [
    "# %%time\n",
    "# case_full = pd.read_csv('case.csv')\n",
    "# comm_full = pd.read_csv('communication.csv')\n",
    "# template_full = pd.read_csv('template.csv')\n",
    "\n",
    "# print(\"CaseDetails:\", case_full.shape)\n",
    "# print(\"Communications:\", comm_full.shape)\n",
    "# print(\"Templates:\", template_full.shape)"
   ]
  },
  {
   "cell_type": "code",
   "execution_count": 4,
   "metadata": {},
   "outputs": [
    {
     "data": {
      "text/html": [
       "<div>\n",
       "<style scoped>\n",
       "    .dataframe tbody tr th:only-of-type {\n",
       "        vertical-align: middle;\n",
       "    }\n",
       "\n",
       "    .dataframe tbody tr th {\n",
       "        vertical-align: top;\n",
       "    }\n",
       "\n",
       "    .dataframe thead th {\n",
       "        text-align: right;\n",
       "    }\n",
       "</style>\n",
       "<table border=\"1\" class=\"dataframe\">\n",
       "  <thead>\n",
       "    <tr style=\"text-align: right;\">\n",
       "      <th></th>\n",
       "      <th>Unnamed: 0</th>\n",
       "      <th>CorpNo</th>\n",
       "      <th>CaseID</th>\n",
       "      <th>cleaned_title</th>\n",
       "      <th>cleaned_description</th>\n",
       "    </tr>\n",
       "  </thead>\n",
       "  <tbody>\n",
       "    <tr>\n",
       "      <th>0</th>\n",
       "      <td>0</td>\n",
       "      <td>11918</td>\n",
       "      <td>3202532</td>\n",
       "      <td>Phone Call From</td>\n",
       "      <td>Hello, this is the same Thing. Why, why Why Is...</td>\n",
       "    </tr>\n",
       "  </tbody>\n",
       "</table>\n",
       "</div>"
      ],
      "text/plain": [
       "   Unnamed: 0  CorpNo   CaseID     cleaned_title   \n",
       "0           0   11918  3202532  Phone Call From   \\\n",
       "\n",
       "                                 cleaned_description  \n",
       "0  Hello, this is the same Thing. Why, why Why Is...  "
      ]
     },
     "execution_count": 4,
     "metadata": {},
     "output_type": "execute_result"
    }
   ],
   "source": [
    "case.head(1)"
   ]
  },
  {
   "cell_type": "code",
   "execution_count": 5,
   "metadata": {},
   "outputs": [
    {
     "data": {
      "text/html": [
       "<div>\n",
       "<style scoped>\n",
       "    .dataframe tbody tr th:only-of-type {\n",
       "        vertical-align: middle;\n",
       "    }\n",
       "\n",
       "    .dataframe tbody tr th {\n",
       "        vertical-align: top;\n",
       "    }\n",
       "\n",
       "    .dataframe thead th {\n",
       "        text-align: right;\n",
       "    }\n",
       "</style>\n",
       "<table border=\"1\" class=\"dataframe\">\n",
       "  <thead>\n",
       "    <tr style=\"text-align: right;\">\n",
       "      <th></th>\n",
       "      <th>Unnamed: 0</th>\n",
       "      <th>CaseID</th>\n",
       "      <th>CaseCommunicationId</th>\n",
       "      <th>TemplateId</th>\n",
       "      <th>cleaned_message</th>\n",
       "    </tr>\n",
       "  </thead>\n",
       "  <tbody>\n",
       "    <tr>\n",
       "      <th>0</th>\n",
       "      <td>2113601</td>\n",
       "      <td>724987.0</td>\n",
       "      <td>741900.0</td>\n",
       "      <td>NaN</td>\n",
       "      <td>Hi Janet. Please go to our district website De...</td>\n",
       "    </tr>\n",
       "  </tbody>\n",
       "</table>\n",
       "</div>"
      ],
      "text/plain": [
       "   Unnamed: 0    CaseID  CaseCommunicationId  TemplateId   \n",
       "0     2113601  724987.0             741900.0         NaN  \\\n",
       "\n",
       "                                     cleaned_message  \n",
       "0  Hi Janet. Please go to our district website De...  "
      ]
     },
     "execution_count": 5,
     "metadata": {},
     "output_type": "execute_result"
    }
   ],
   "source": [
    "comm.head(1)"
   ]
  },
  {
   "cell_type": "code",
   "execution_count": 6,
   "metadata": {},
   "outputs": [
    {
     "data": {
      "text/html": [
       "<div>\n",
       "<style scoped>\n",
       "    .dataframe tbody tr th:only-of-type {\n",
       "        vertical-align: middle;\n",
       "    }\n",
       "\n",
       "    .dataframe tbody tr th {\n",
       "        vertical-align: top;\n",
       "    }\n",
       "\n",
       "    .dataframe thead th {\n",
       "        text-align: right;\n",
       "    }\n",
       "</style>\n",
       "<table border=\"1\" class=\"dataframe\">\n",
       "  <thead>\n",
       "    <tr style=\"text-align: right;\">\n",
       "      <th></th>\n",
       "      <th>Unnamed: 0</th>\n",
       "      <th>TemplateId</th>\n",
       "      <th>Name</th>\n",
       "      <th>MainCorpNo</th>\n",
       "      <th>cleaned_MessageBody</th>\n",
       "    </tr>\n",
       "  </thead>\n",
       "  <tbody>\n",
       "    <tr>\n",
       "      <th>0</th>\n",
       "      <td>0</td>\n",
       "      <td>1</td>\n",
       "      <td>title</td>\n",
       "      <td>11918</td>\n",
       "      <td>[[Click here]]Login into account hello whats u...</td>\n",
       "    </tr>\n",
       "  </tbody>\n",
       "</table>\n",
       "</div>"
      ],
      "text/plain": [
       "   Unnamed: 0  TemplateId    Name  MainCorpNo   \n",
       "0           0           1  title        11918  \\\n",
       "\n",
       "                                 cleaned_MessageBody  \n",
       "0  [[Click here]]Login into account hello whats u...  "
      ]
     },
     "execution_count": 6,
     "metadata": {},
     "output_type": "execute_result"
    }
   ],
   "source": [
    "template.head(1)"
   ]
  },
  {
   "cell_type": "markdown",
   "metadata": {},
   "source": [
    "### # of cases solved with templates"
   ]
  },
  {
   "cell_type": "code",
   "execution_count": 7,
   "metadata": {},
   "outputs": [
    {
     "name": "stdout",
     "output_type": "stream",
     "text": [
      "(57214, 6)\n"
     ]
    }
   ],
   "source": [
    "matched_df = case.merge(comm, on = ['CaseID'], how='inner').merge(template, on=['TemplateId'], how='inner')\n",
    "matched_df = matched_df[['CorpNo', 'CaseID', 'cleaned_description', 'TemplateId', 'cleaned_message', 'cleaned_MessageBody']]\n",
    "matched_df.to_csv('full_df_w_templates.csv', index=False)\n",
    "print(matched_df.shape)"
   ]
  },
  {
   "cell_type": "code",
   "execution_count": 8,
   "metadata": {},
   "outputs": [
    {
     "data": {
      "text/plain": [
       "(57214, 6)"
      ]
     },
     "execution_count": 8,
     "metadata": {},
     "output_type": "execute_result"
    }
   ],
   "source": [
    "cleaned_df = pd.read_csv(\"full_df_w_templates.csv\")\n",
    "cleaned_df.shape"
   ]
  },
  {
   "cell_type": "code",
   "execution_count": 9,
   "metadata": {},
   "outputs": [
    {
     "data": {
      "text/plain": [
       "0.0336650371754649"
      ]
     },
     "execution_count": 9,
     "metadata": {},
     "output_type": "execute_result"
    }
   ],
   "source": [
    "cleaned_df.shape[0]/case.shape[0]"
   ]
  },
  {
   "cell_type": "markdown",
   "metadata": {},
   "source": [
    "### Template Distribution"
   ]
  },
  {
   "cell_type": "code",
   "execution_count": 10,
   "metadata": {},
   "outputs": [
    {
     "data": {
      "text/html": [
       "<div>\n",
       "<style scoped>\n",
       "    .dataframe tbody tr th:only-of-type {\n",
       "        vertical-align: middle;\n",
       "    }\n",
       "\n",
       "    .dataframe tbody tr th {\n",
       "        vertical-align: top;\n",
       "    }\n",
       "\n",
       "    .dataframe thead th {\n",
       "        text-align: right;\n",
       "    }\n",
       "</style>\n",
       "<table border=\"1\" class=\"dataframe\">\n",
       "  <thead>\n",
       "    <tr style=\"text-align: right;\">\n",
       "      <th></th>\n",
       "      <th>TemplateId</th>\n",
       "    </tr>\n",
       "    <tr>\n",
       "      <th>MainCorpNo</th>\n",
       "      <th></th>\n",
       "    </tr>\n",
       "  </thead>\n",
       "  <tbody>\n",
       "    <tr>\n",
       "      <th>45671</th>\n",
       "      <td>504</td>\n",
       "    </tr>\n",
       "    <tr>\n",
       "      <th>46543</th>\n",
       "      <td>450</td>\n",
       "    </tr>\n",
       "    <tr>\n",
       "      <th>46769</th>\n",
       "      <td>428</td>\n",
       "    </tr>\n",
       "    <tr>\n",
       "      <th>50566</th>\n",
       "      <td>278</td>\n",
       "    </tr>\n",
       "    <tr>\n",
       "      <th>30930</th>\n",
       "      <td>259</td>\n",
       "    </tr>\n",
       "  </tbody>\n",
       "</table>\n",
       "</div>"
      ],
      "text/plain": [
       "            TemplateId\n",
       "MainCorpNo            \n",
       "45671              504\n",
       "46543              450\n",
       "46769              428\n",
       "50566              278\n",
       "30930              259"
      ]
     },
     "execution_count": 10,
     "metadata": {},
     "output_type": "execute_result"
    }
   ],
   "source": [
    "# check total number of templates contained in each school district\n",
    "template_num = pd.DataFrame(template.groupby('MainCorpNo')['TemplateId'].nunique()).sort_values(by='TemplateId', ascending=False)\n",
    "template_num.head()"
   ]
  },
  {
   "cell_type": "code",
   "execution_count": 11,
   "metadata": {},
   "outputs": [
    {
     "data": {
      "image/png": "[encoded data removed]",
      "text/plain": [
       "<Figure size 640x480 with 1 Axes>"
      ]
     },
     "metadata": {},
     "output_type": "display_data"
    }
   ],
   "source": [
    "# check the distribution of templates across all school district\n",
    "sns.kdeplot(template_num['TemplateId'])\n",
    "\n",
    "mean = np.mean(template_num['TemplateId'])\n",
    "median = np.median(template_num['TemplateId'])\n",
    "\n",
    "# Add vertical lines for mean and median\n",
    "plt.axvline(mean, color='red', linestyle='dashed', label=f'Mean: {mean:.2f}')\n",
    "plt.axvline(median, color='green', linestyle='dashed', label=f'Median: {median:.2f}')\n",
    "\n",
    "plt.title('Template Distribution Across School Districts')\n",
    "plt.xlabel('Template')\n",
    "# Add legend\n",
    "plt.legend()\n",
    "plt.show()"
   ]
  },
  {
   "cell_type": "code",
   "execution_count": 12,
   "metadata": {},
   "outputs": [
    {
     "data": {
      "text/html": [
       "<div>\n",
       "<style scoped>\n",
       "    .dataframe tbody tr th:only-of-type {\n",
       "        vertical-align: middle;\n",
       "    }\n",
       "\n",
       "    .dataframe tbody tr th {\n",
       "        vertical-align: top;\n",
       "    }\n",
       "\n",
       "    .dataframe thead th {\n",
       "        text-align: right;\n",
       "    }\n",
       "</style>\n",
       "<table border=\"1\" class=\"dataframe\">\n",
       "  <thead>\n",
       "    <tr style=\"text-align: right;\">\n",
       "      <th></th>\n",
       "      <th>TemplateId</th>\n",
       "    </tr>\n",
       "  </thead>\n",
       "  <tbody>\n",
       "    <tr>\n",
       "      <th>count</th>\n",
       "      <td>179.000000</td>\n",
       "    </tr>\n",
       "    <tr>\n",
       "      <th>mean</th>\n",
       "      <td>33.357542</td>\n",
       "    </tr>\n",
       "    <tr>\n",
       "      <th>std</th>\n",
       "      <td>72.668059</td>\n",
       "    </tr>\n",
       "    <tr>\n",
       "      <th>min</th>\n",
       "      <td>1.000000</td>\n",
       "    </tr>\n",
       "    <tr>\n",
       "      <th>25%</th>\n",
       "      <td>4.000000</td>\n",
       "    </tr>\n",
       "    <tr>\n",
       "      <th>50%</th>\n",
       "      <td>7.000000</td>\n",
       "    </tr>\n",
       "    <tr>\n",
       "      <th>75%</th>\n",
       "      <td>27.500000</td>\n",
       "    </tr>\n",
       "    <tr>\n",
       "      <th>max</th>\n",
       "      <td>504.000000</td>\n",
       "    </tr>\n",
       "  </tbody>\n",
       "</table>\n",
       "</div>"
      ],
      "text/plain": [
       "       TemplateId\n",
       "count  179.000000\n",
       "mean    33.357542\n",
       "std     72.668059\n",
       "min      1.000000\n",
       "25%      4.000000\n",
       "50%      7.000000\n",
       "75%     27.500000\n",
       "max    504.000000"
      ]
     },
     "execution_count": 12,
     "metadata": {},
     "output_type": "execute_result"
    }
   ],
   "source": [
    "template_num.describe()"
   ]
  },
  {
   "cell_type": "markdown",
   "metadata": {},
   "source": [
    "### Case Distribution"
   ]
  },
  {
   "cell_type": "code",
   "execution_count": 13,
   "metadata": {},
   "outputs": [
    {
     "data": {
      "text/html": [
       "<div>\n",
       "<style scoped>\n",
       "    .dataframe tbody tr th:only-of-type {\n",
       "        vertical-align: middle;\n",
       "    }\n",
       "\n",
       "    .dataframe tbody tr th {\n",
       "        vertical-align: top;\n",
       "    }\n",
       "\n",
       "    .dataframe thead th {\n",
       "        text-align: right;\n",
       "    }\n",
       "</style>\n",
       "<table border=\"1\" class=\"dataframe\">\n",
       "  <thead>\n",
       "    <tr style=\"text-align: right;\">\n",
       "      <th></th>\n",
       "      <th>CaseID</th>\n",
       "    </tr>\n",
       "    <tr>\n",
       "      <th>CorpNo</th>\n",
       "      <th></th>\n",
       "    </tr>\n",
       "  </thead>\n",
       "  <tbody>\n",
       "    <tr>\n",
       "      <th>50566</th>\n",
       "      <td>180353</td>\n",
       "    </tr>\n",
       "    <tr>\n",
       "      <th>46769</th>\n",
       "      <td>103294</td>\n",
       "    </tr>\n",
       "    <tr>\n",
       "      <th>24936</th>\n",
       "      <td>76042</td>\n",
       "    </tr>\n",
       "    <tr>\n",
       "      <th>45671</th>\n",
       "      <td>72443</td>\n",
       "    </tr>\n",
       "    <tr>\n",
       "      <th>32236</th>\n",
       "      <td>58529</td>\n",
       "    </tr>\n",
       "  </tbody>\n",
       "</table>\n",
       "</div>"
      ],
      "text/plain": [
       "        CaseID\n",
       "CorpNo        \n",
       "50566   180353\n",
       "46769   103294\n",
       "24936    76042\n",
       "45671    72443\n",
       "32236    58529"
      ]
     },
     "execution_count": 13,
     "metadata": {},
     "output_type": "execute_result"
    }
   ],
   "source": [
    "# check total number of templates contained in each school district\n",
    "case_num = pd.DataFrame(case.groupby('CorpNo')['CaseID'].nunique()).sort_values(by='CaseID', ascending=False)\n",
    "case_num.head()"
   ]
  },
  {
   "cell_type": "code",
   "execution_count": 14,
   "metadata": {},
   "outputs": [
    {
     "data": {
      "image/png": "[encoded data removed]",
      "text/plain": [
       "<Figure size 640x480 with 1 Axes>"
      ]
     },
     "metadata": {},
     "output_type": "display_data"
    }
   ],
   "source": [
    "# check the distribution of case across all school district\n",
    "sns.kdeplot(case_num['CaseID'])\n",
    "\n",
    "mean = np.mean(case_num['CaseID'])\n",
    "median = np.median(case_num['CaseID'])\n",
    "\n",
    "# Add vertical lines for mean and median\n",
    "plt.axvline(mean, color='red', linestyle='dashed', label=f'Mean: {mean:.2f}')\n",
    "plt.axvline(median, color='green', linestyle='dashed', label=f'Median: {median:.2f}')\n",
    "\n",
    "plt.title('Case Distribution Across School Districts')\n",
    "plt.xlabel('Case')\n",
    "# Add legend\n",
    "plt.legend()\n",
    "plt.show()"
   ]
  },
  {
   "cell_type": "markdown",
   "metadata": {},
   "source": [
    "### Communication Distribution"
   ]
  },
  {
   "cell_type": "code",
   "execution_count": 14,
   "metadata": {},
   "outputs": [
    {
     "name": "stdout",
     "output_type": "stream",
     "text": [
      "(1462370, 9)\n"
     ]
    },
    {
     "data": {
      "text/html": [
       "<div>\n",
       "<style scoped>\n",
       "    .dataframe tbody tr th:only-of-type {\n",
       "        vertical-align: middle;\n",
       "    }\n",
       "\n",
       "    .dataframe tbody tr th {\n",
       "        vertical-align: top;\n",
       "    }\n",
       "\n",
       "    .dataframe thead th {\n",
       "        text-align: right;\n",
       "    }\n",
       "</style>\n",
       "<table border=\"1\" class=\"dataframe\">\n",
       "  <thead>\n",
       "    <tr style=\"text-align: right;\">\n",
       "      <th></th>\n",
       "      <th>Unnamed: 0_x</th>\n",
       "      <th>CaseID</th>\n",
       "      <th>CaseCommunicationId</th>\n",
       "      <th>TemplateId</th>\n",
       "      <th>cleaned_message</th>\n",
       "      <th>Unnamed: 0_y</th>\n",
       "      <th>CorpNo</th>\n",
       "      <th>cleaned_title</th>\n",
       "      <th>cleaned_description</th>\n",
       "    </tr>\n",
       "  </thead>\n",
       "  <tbody>\n",
       "    <tr>\n",
       "      <th>0</th>\n",
       "      <td>2113601</td>\n",
       "      <td>724987.0</td>\n",
       "      <td>741900.0</td>\n",
       "      <td>NaN</td>\n",
       "      <td>Hi Janet. Please go to our district website De...</td>\n",
       "      <td>1569663.0</td>\n",
       "      <td>31460.0</td>\n",
       "      <td>Out of state student</td>\n",
       "      <td>Hi, my name is Janet and my family and I will ...</td>\n",
       "    </tr>\n",
       "    <tr>\n",
       "      <th>1</th>\n",
       "      <td>2106764</td>\n",
       "      <td>724988.0</td>\n",
       "      <td>741335.0</td>\n",
       "      <td>NaN</td>\n",
       "      <td>The office is open and you can come by and reg...</td>\n",
       "      <td>1460322.0</td>\n",
       "      <td>12313.0</td>\n",
       "      <td>Enrollment</td>\n",
       "      <td>How can I enroll my child into Saddleback this...</td>\n",
       "    </tr>\n",
       "    <tr>\n",
       "      <th>2</th>\n",
       "      <td>2113600</td>\n",
       "      <td>724989.0</td>\n",
       "      <td>741516.0</td>\n",
       "      <td>NaN</td>\n",
       "      <td>Good morning,Thank you for contacting us and w...</td>\n",
       "      <td>1526604.0</td>\n",
       "      <td>19106.0</td>\n",
       "      <td>New Students</td>\n",
       "      <td>Hi, My family and I will be moving to Lincoln ...</td>\n",
       "    </tr>\n",
       "    <tr>\n",
       "      <th>3</th>\n",
       "      <td>2113604</td>\n",
       "      <td>724993.0</td>\n",
       "      <td>741998.0</td>\n",
       "      <td>NaN</td>\n",
       "      <td>Good morning,According to our records, the ema...</td>\n",
       "      <td>1691903.0</td>\n",
       "      <td>46543.0</td>\n",
       "      <td>sign in</td>\n",
       "      <td>we are attempting to do the annual data update...</td>\n",
       "    </tr>\n",
       "    <tr>\n",
       "      <th>4</th>\n",
       "      <td>2113606</td>\n",
       "      <td>724998.0</td>\n",
       "      <td>742580.0</td>\n",
       "      <td>NaN</td>\n",
       "      <td>Hi Lynniessa - sounds great. A 1-year old woul...</td>\n",
       "      <td>1509022.0</td>\n",
       "      <td>14434.0</td>\n",
       "      <td>About your swim classes</td>\n",
       "      <td>I have a 1 yr old that I would love to bring h...</td>\n",
       "    </tr>\n",
       "  </tbody>\n",
       "</table>\n",
       "</div>"
      ],
      "text/plain": [
       "   Unnamed: 0_x    CaseID  CaseCommunicationId  TemplateId   \n",
       "0       2113601  724987.0             741900.0         NaN  \\\n",
       "1       2106764  724988.0             741335.0         NaN   \n",
       "2       2113600  724989.0             741516.0         NaN   \n",
       "3       2113604  724993.0             741998.0         NaN   \n",
       "4       2113606  724998.0             742580.0         NaN   \n",
       "\n",
       "                                     cleaned_message  Unnamed: 0_y   CorpNo   \n",
       "0  Hi Janet. Please go to our district website De...     1569663.0  31460.0  \\\n",
       "1  The office is open and you can come by and reg...     1460322.0  12313.0   \n",
       "2  Good morning,Thank you for contacting us and w...     1526604.0  19106.0   \n",
       "3  Good morning,According to our records, the ema...     1691903.0  46543.0   \n",
       "4  Hi Lynniessa - sounds great. A 1-year old woul...     1509022.0  14434.0   \n",
       "\n",
       "             cleaned_title                                cleaned_description  \n",
       "0     Out of state student  Hi, my name is Janet and my family and I will ...  \n",
       "1               Enrollment  How can I enroll my child into Saddleback this...  \n",
       "2             New Students  Hi, My family and I will be moving to Lincoln ...  \n",
       "3                  sign in  we are attempting to do the annual data update...  \n",
       "4  About your swim classes  I have a 1 yr old that I would love to bring h...  "
      ]
     },
     "execution_count": 14,
     "metadata": {},
     "output_type": "execute_result"
    }
   ],
   "source": [
    "merged = comm.merge(case, on='CaseID', how='left')\n",
    "print(merged.shape)\n",
    "merged.head()"
   ]
  },
  {
   "cell_type": "code",
   "execution_count": 15,
   "metadata": {},
   "outputs": [
    {
     "data": {
      "text/html": [
       "<div>\n",
       "<style scoped>\n",
       "    .dataframe tbody tr th:only-of-type {\n",
       "        vertical-align: middle;\n",
       "    }\n",
       "\n",
       "    .dataframe tbody tr th {\n",
       "        vertical-align: top;\n",
       "    }\n",
       "\n",
       "    .dataframe thead th {\n",
       "        text-align: right;\n",
       "    }\n",
       "</style>\n",
       "<table border=\"1\" class=\"dataframe\">\n",
       "  <thead>\n",
       "    <tr style=\"text-align: right;\">\n",
       "      <th></th>\n",
       "      <th>CaseCommunicationId</th>\n",
       "    </tr>\n",
       "    <tr>\n",
       "      <th>CorpNo</th>\n",
       "      <th></th>\n",
       "    </tr>\n",
       "  </thead>\n",
       "  <tbody>\n",
       "    <tr>\n",
       "      <th>50566.0</th>\n",
       "      <td>126484</td>\n",
       "    </tr>\n",
       "    <tr>\n",
       "      <th>46769.0</th>\n",
       "      <td>86890</td>\n",
       "    </tr>\n",
       "    <tr>\n",
       "      <th>45671.0</th>\n",
       "      <td>60704</td>\n",
       "    </tr>\n",
       "    <tr>\n",
       "      <th>24936.0</th>\n",
       "      <td>44934</td>\n",
       "    </tr>\n",
       "    <tr>\n",
       "      <th>32114.0</th>\n",
       "      <td>39486</td>\n",
       "    </tr>\n",
       "  </tbody>\n",
       "</table>\n",
       "</div>"
      ],
      "text/plain": [
       "         CaseCommunicationId\n",
       "CorpNo                      \n",
       "50566.0               126484\n",
       "46769.0                86890\n",
       "45671.0                60704\n",
       "24936.0                44934\n",
       "32114.0                39486"
      ]
     },
     "execution_count": 15,
     "metadata": {},
     "output_type": "execute_result"
    }
   ],
   "source": [
    "# check total number of communications contained in each school district\n",
    "comm_num = pd.DataFrame(merged.groupby('CorpNo')['CaseCommunicationId'].nunique()).sort_values(by='CaseCommunicationId', ascending=False)\n",
    "comm_num.head()"
   ]
  },
  {
   "cell_type": "code",
   "execution_count": 16,
   "metadata": {},
   "outputs": [
    {
     "data": {
      "image/png": "[encoded data removed]",
      "text/plain": [
       "<Figure size 640x480 with 1 Axes>"
      ]
     },
     "metadata": {},
     "output_type": "display_data"
    }
   ],
   "source": [
    "# check the distribution of case across all school district\n",
    "sns.kdeplot(comm_num['CaseCommunicationId'])\n",
    "\n",
    "mean = np.mean(comm_num['CaseCommunicationId'])\n",
    "median = np.median(comm_num['CaseCommunicationId'])\n",
    "\n",
    "# Add vertical lines for mean and median\n",
    "plt.axvline(mean, color='red', linestyle='dashed', label=f'Mean: {mean:.2f}')\n",
    "plt.axvline(median, color='green', linestyle='dashed', label=f'Median: {median:.2f}')\n",
    "\n",
    "plt.title('Communication Distribution Across School Districts')\n",
    "plt.xlabel('Communication')\n",
    "# Add legend\n",
    "plt.legend()\n",
    "plt.show()"
   ]
  },
  {
   "cell_type": "code",
   "execution_count": 17,
   "metadata": {},
   "outputs": [
    {
     "data": {
      "text/html": [
       "<div>\n",
       "<style scoped>\n",
       "    .dataframe tbody tr th:only-of-type {\n",
       "        vertical-align: middle;\n",
       "    }\n",
       "\n",
       "    .dataframe tbody tr th {\n",
       "        vertical-align: top;\n",
       "    }\n",
       "\n",
       "    .dataframe thead th {\n",
       "        text-align: right;\n",
       "    }\n",
       "</style>\n",
       "<table border=\"1\" class=\"dataframe\">\n",
       "  <thead>\n",
       "    <tr style=\"text-align: right;\">\n",
       "      <th></th>\n",
       "      <th>Unnamed: 0</th>\n",
       "      <th>CaseID</th>\n",
       "      <th>CaseCommunicationId</th>\n",
       "      <th>TemplateId</th>\n",
       "      <th>cleaned_message</th>\n",
       "    </tr>\n",
       "  </thead>\n",
       "  <tbody>\n",
       "    <tr>\n",
       "      <th>0</th>\n",
       "      <td>2113601</td>\n",
       "      <td>724987.0</td>\n",
       "      <td>741900.0</td>\n",
       "      <td>NaN</td>\n",
       "      <td>Hi Janet. Please go to our district website De...</td>\n",
       "    </tr>\n",
       "    <tr>\n",
       "      <th>1</th>\n",
       "      <td>2106764</td>\n",
       "      <td>724988.0</td>\n",
       "      <td>741335.0</td>\n",
       "      <td>NaN</td>\n",
       "      <td>The office is open and you can come by and reg...</td>\n",
       "    </tr>\n",
       "    <tr>\n",
       "      <th>2</th>\n",
       "      <td>2113600</td>\n",
       "      <td>724989.0</td>\n",
       "      <td>741516.0</td>\n",
       "      <td>NaN</td>\n",
       "      <td>Good morning,Thank you for contacting us and w...</td>\n",
       "    </tr>\n",
       "    <tr>\n",
       "      <th>3</th>\n",
       "      <td>2113604</td>\n",
       "      <td>724993.0</td>\n",
       "      <td>741998.0</td>\n",
       "      <td>NaN</td>\n",
       "      <td>Good morning,According to our records, the ema...</td>\n",
       "    </tr>\n",
       "    <tr>\n",
       "      <th>4</th>\n",
       "      <td>2113606</td>\n",
       "      <td>724998.0</td>\n",
       "      <td>742580.0</td>\n",
       "      <td>NaN</td>\n",
       "      <td>Hi Lynniessa - sounds great. A 1-year old woul...</td>\n",
       "    </tr>\n",
       "  </tbody>\n",
       "</table>\n",
       "</div>"
      ],
      "text/plain": [
       "   Unnamed: 0    CaseID  CaseCommunicationId  TemplateId   \n",
       "0     2113601  724987.0             741900.0         NaN  \\\n",
       "1     2106764  724988.0             741335.0         NaN   \n",
       "2     2113600  724989.0             741516.0         NaN   \n",
       "3     2113604  724993.0             741998.0         NaN   \n",
       "4     2113606  724998.0             742580.0         NaN   \n",
       "\n",
       "                                     cleaned_message  \n",
       "0  Hi Janet. Please go to our district website De...  \n",
       "1  The office is open and you can come by and reg...  \n",
       "2  Good morning,Thank you for contacting us and w...  \n",
       "3  Good morning,According to our records, the ema...  \n",
       "4  Hi Lynniessa - sounds great. A 1-year old woul...  "
      ]
     },
     "execution_count": 17,
     "metadata": {},
     "output_type": "execute_result"
    }
   ],
   "source": [
    "comm.head()"
   ]
  },
  {
   "cell_type": "markdown",
   "metadata": {},
   "source": [
    "### Communication w/ templates"
   ]
  },
  {
   "cell_type": "code",
   "execution_count": 18,
   "metadata": {},
   "outputs": [
    {
     "data": {
      "text/html": [
       "<div>\n",
       "<style scoped>\n",
       "    .dataframe tbody tr th:only-of-type {\n",
       "        vertical-align: middle;\n",
       "    }\n",
       "\n",
       "    .dataframe tbody tr th {\n",
       "        vertical-align: top;\n",
       "    }\n",
       "\n",
       "    .dataframe thead th {\n",
       "        text-align: right;\n",
       "    }\n",
       "</style>\n",
       "<table border=\"1\" class=\"dataframe\">\n",
       "  <thead>\n",
       "    <tr style=\"text-align: right;\">\n",
       "      <th></th>\n",
       "      <th>CorpNo</th>\n",
       "      <th>CaseID</th>\n",
       "      <th>cleaned_description</th>\n",
       "      <th>TemplateId</th>\n",
       "      <th>cleaned_message</th>\n",
       "      <th>cleaned_MessageBody</th>\n",
       "    </tr>\n",
       "  </thead>\n",
       "  <tbody>\n",
       "    <tr>\n",
       "      <th>0</th>\n",
       "      <td>31460</td>\n",
       "      <td>2214871</td>\n",
       "      <td>Parker Wix's chromebook will not turn on witho...</td>\n",
       "      <td>900.0</td>\n",
       "      <td>Jaclyn Nicole Wix If you submit a work order t...</td>\n",
       "      <td>[[Customer’s Name]] If you submit a work order...</td>\n",
       "    </tr>\n",
       "    <tr>\n",
       "      <th>1</th>\n",
       "      <td>31460</td>\n",
       "      <td>1613367</td>\n",
       "      <td>My microphone is not working and I have allowe...</td>\n",
       "      <td>900.0</td>\n",
       "      <td>Rachel, If you submit a work order to the tech...</td>\n",
       "      <td>[[Customer’s Name]] If you submit a work order...</td>\n",
       "    </tr>\n",
       "    <tr>\n",
       "      <th>2</th>\n",
       "      <td>31460</td>\n",
       "      <td>1673400</td>\n",
       "      <td>Can I have someone put the google drive link o...</td>\n",
       "      <td>900.0</td>\n",
       "      <td>Debbie BradleyYou can try to log in your Googl...</td>\n",
       "      <td>[[Customer’s Name]] If you submit a work order...</td>\n",
       "    </tr>\n",
       "    <tr>\n",
       "      <th>3</th>\n",
       "      <td>31460</td>\n",
       "      <td>1737761</td>\n",
       "      <td>My projector keeps shutting off, it doesn't sa...</td>\n",
       "      <td>900.0</td>\n",
       "      <td>Karlee Sikes If you submit a work order to the...</td>\n",
       "      <td>[[Customer’s Name]] If you submit a work order...</td>\n",
       "    </tr>\n",
       "    <tr>\n",
       "      <th>4</th>\n",
       "      <td>31460</td>\n",
       "      <td>1757270</td>\n",
       "      <td>I can't figure out how to work the Document Ca...</td>\n",
       "      <td>900.0</td>\n",
       "      <td>Alexandra (Allie) Foshee If you submit a work ...</td>\n",
       "      <td>[[Customer’s Name]] If you submit a work order...</td>\n",
       "    </tr>\n",
       "  </tbody>\n",
       "</table>\n",
       "</div>"
      ],
      "text/plain": [
       "   CorpNo   CaseID                                cleaned_description   \n",
       "0   31460  2214871  Parker Wix's chromebook will not turn on witho...  \\\n",
       "1   31460  1613367  My microphone is not working and I have allowe...   \n",
       "2   31460  1673400  Can I have someone put the google drive link o...   \n",
       "3   31460  1737761  My projector keeps shutting off, it doesn't sa...   \n",
       "4   31460  1757270  I can't figure out how to work the Document Ca...   \n",
       "\n",
       "   TemplateId                                    cleaned_message   \n",
       "0       900.0  Jaclyn Nicole Wix If you submit a work order t...  \\\n",
       "1       900.0  Rachel, If you submit a work order to the tech...   \n",
       "2       900.0  Debbie BradleyYou can try to log in your Googl...   \n",
       "3       900.0  Karlee Sikes If you submit a work order to the...   \n",
       "4       900.0  Alexandra (Allie) Foshee If you submit a work ...   \n",
       "\n",
       "                                 cleaned_MessageBody  \n",
       "0  [[Customer’s Name]] If you submit a work order...  \n",
       "1  [[Customer’s Name]] If you submit a work order...  \n",
       "2  [[Customer’s Name]] If you submit a work order...  \n",
       "3  [[Customer’s Name]] If you submit a work order...  \n",
       "4  [[Customer’s Name]] If you submit a work order...  "
      ]
     },
     "execution_count": 18,
     "metadata": {},
     "output_type": "execute_result"
    }
   ],
   "source": [
    "cleaned_df.head()"
   ]
  },
  {
   "cell_type": "code",
   "execution_count": null,
   "metadata": {},
   "outputs": [],
   "source": [
    "# check total number of communications that used templates contained in each school district\n",
    "df_num = pd.DataFrame(cleaned_df.groupby('CorpNo')['CaseCommunicationId'].nunique()).sort_values(by='CaseCommunicationId', ascending=False)\n",
    "df_num.head()"
   ]
  },
  {
   "cell_type": "code",
   "execution_count": 33,
   "metadata": {},
   "outputs": [
    {
     "data": {
      "image/png": "[encoded data removed]",
      "text/plain": [
       "<Figure size 640x480 with 1 Axes>"
      ]
     },
     "metadata": {},
     "output_type": "display_data"
    }
   ],
   "source": [
    "# check the distribution of matched templates across all school district\n",
    "sns.kdeplot(df_num['CaseCommunicationId'])\n",
    "\n",
    "mean = np.mean(df_num['CaseCommunicationId'])\n",
    "median = np.median(df_num['CaseCommunicationId'])\n",
    "\n",
    "# Add vertical lines for mean and median\n",
    "plt.axvline(mean, color='red', linestyle='dashed', label=f'Mean: {mean:.2f}')\n",
    "plt.axvline(median, color='green', linestyle='dashed', label=f'Median: {median:.2f}')\n",
    "\n",
    "plt.title('Distribution of Communications Using Templates Across School Districts')\n",
    "plt.xlabel('Communication')\n",
    "# Add legend\n",
    "plt.legend()\n",
    "plt.show()"
   ]
  },
  {
   "cell_type": "code",
   "execution_count": 29,
   "metadata": {},
   "outputs": [
    {
     "data": {
      "text/html": [
       "<div>\n",
       "<style scoped>\n",
       "    .dataframe tbody tr th:only-of-type {\n",
       "        vertical-align: middle;\n",
       "    }\n",
       "\n",
       "    .dataframe tbody tr th {\n",
       "        vertical-align: top;\n",
       "    }\n",
       "\n",
       "    .dataframe thead th {\n",
       "        text-align: right;\n",
       "    }\n",
       "</style>\n",
       "<table border=\"1\" class=\"dataframe\">\n",
       "  <thead>\n",
       "    <tr style=\"text-align: right;\">\n",
       "      <th></th>\n",
       "      <th>CorpNo</th>\n",
       "      <th>CaseID</th>\n",
       "      <th>cleaned_title</th>\n",
       "      <th>cleaned_description</th>\n",
       "      <th>CaseCommunicationId</th>\n",
       "      <th>TemplateId</th>\n",
       "      <th>cleaned_message</th>\n",
       "      <th>Name</th>\n",
       "      <th>cleaned_MessageBody</th>\n",
       "    </tr>\n",
       "    <tr>\n",
       "      <th>MainCorpNo</th>\n",
       "      <th></th>\n",
       "      <th></th>\n",
       "      <th></th>\n",
       "      <th></th>\n",
       "      <th></th>\n",
       "      <th></th>\n",
       "      <th></th>\n",
       "      <th></th>\n",
       "      <th></th>\n",
       "    </tr>\n",
       "  </thead>\n",
       "  <tbody>\n",
       "    <tr>\n",
       "      <th>50566</th>\n",
       "      <td>11031</td>\n",
       "      <td>11031</td>\n",
       "      <td>11026</td>\n",
       "      <td>11031</td>\n",
       "      <td>11031</td>\n",
       "      <td>11031</td>\n",
       "      <td>11031</td>\n",
       "      <td>11031</td>\n",
       "      <td>11031</td>\n",
       "    </tr>\n",
       "    <tr>\n",
       "      <th>44070</th>\n",
       "      <td>4810</td>\n",
       "      <td>4810</td>\n",
       "      <td>4799</td>\n",
       "      <td>4810</td>\n",
       "      <td>4810</td>\n",
       "      <td>4810</td>\n",
       "      <td>4810</td>\n",
       "      <td>4810</td>\n",
       "      <td>4810</td>\n",
       "    </tr>\n",
       "    <tr>\n",
       "      <th>48928</th>\n",
       "      <td>4591</td>\n",
       "      <td>4591</td>\n",
       "      <td>4508</td>\n",
       "      <td>4591</td>\n",
       "      <td>4591</td>\n",
       "      <td>4591</td>\n",
       "      <td>4591</td>\n",
       "      <td>4591</td>\n",
       "      <td>4591</td>\n",
       "    </tr>\n",
       "    <tr>\n",
       "      <th>45671</th>\n",
       "      <td>4216</td>\n",
       "      <td>4216</td>\n",
       "      <td>4210</td>\n",
       "      <td>4216</td>\n",
       "      <td>4216</td>\n",
       "      <td>4216</td>\n",
       "      <td>4216</td>\n",
       "      <td>4216</td>\n",
       "      <td>4216</td>\n",
       "    </tr>\n",
       "    <tr>\n",
       "      <th>30930</th>\n",
       "      <td>4152</td>\n",
       "      <td>4152</td>\n",
       "      <td>4145</td>\n",
       "      <td>4152</td>\n",
       "      <td>4152</td>\n",
       "      <td>4152</td>\n",
       "      <td>4152</td>\n",
       "      <td>4152</td>\n",
       "      <td>4152</td>\n",
       "    </tr>\n",
       "    <tr>\n",
       "      <th>46769</th>\n",
       "      <td>3936</td>\n",
       "      <td>3936</td>\n",
       "      <td>3936</td>\n",
       "      <td>3936</td>\n",
       "      <td>3936</td>\n",
       "      <td>3936</td>\n",
       "      <td>3936</td>\n",
       "      <td>3936</td>\n",
       "      <td>3936</td>\n",
       "    </tr>\n",
       "    <tr>\n",
       "      <th>32236</th>\n",
       "      <td>3840</td>\n",
       "      <td>3840</td>\n",
       "      <td>3839</td>\n",
       "      <td>3840</td>\n",
       "      <td>3840</td>\n",
       "      <td>3840</td>\n",
       "      <td>3840</td>\n",
       "      <td>3840</td>\n",
       "      <td>3840</td>\n",
       "    </tr>\n",
       "    <tr>\n",
       "      <th>44884</th>\n",
       "      <td>2542</td>\n",
       "      <td>2542</td>\n",
       "      <td>2540</td>\n",
       "      <td>2542</td>\n",
       "      <td>2542</td>\n",
       "      <td>2542</td>\n",
       "      <td>2542</td>\n",
       "      <td>2542</td>\n",
       "      <td>2542</td>\n",
       "    </tr>\n",
       "    <tr>\n",
       "      <th>25077</th>\n",
       "      <td>2478</td>\n",
       "      <td>2478</td>\n",
       "      <td>2478</td>\n",
       "      <td>2478</td>\n",
       "      <td>2478</td>\n",
       "      <td>2478</td>\n",
       "      <td>2478</td>\n",
       "      <td>2478</td>\n",
       "      <td>2478</td>\n",
       "    </tr>\n",
       "    <tr>\n",
       "      <th>37475</th>\n",
       "      <td>1861</td>\n",
       "      <td>1861</td>\n",
       "      <td>1855</td>\n",
       "      <td>1861</td>\n",
       "      <td>1861</td>\n",
       "      <td>1861</td>\n",
       "      <td>1861</td>\n",
       "      <td>1861</td>\n",
       "      <td>1861</td>\n",
       "    </tr>\n",
       "  </tbody>\n",
       "</table>\n",
       "</div>"
      ],
      "text/plain": [
       "            CorpNo  CaseID  cleaned_title  cleaned_description   \n",
       "MainCorpNo                                                       \n",
       "50566        11031   11031          11026                11031  \\\n",
       "44070         4810    4810           4799                 4810   \n",
       "48928         4591    4591           4508                 4591   \n",
       "45671         4216    4216           4210                 4216   \n",
       "30930         4152    4152           4145                 4152   \n",
       "46769         3936    3936           3936                 3936   \n",
       "32236         3840    3840           3839                 3840   \n",
       "44884         2542    2542           2540                 2542   \n",
       "25077         2478    2478           2478                 2478   \n",
       "37475         1861    1861           1855                 1861   \n",
       "\n",
       "            CaseCommunicationId  TemplateId  cleaned_message   Name   \n",
       "MainCorpNo                                                            \n",
       "50566                     11031       11031            11031  11031  \\\n",
       "44070                      4810        4810             4810   4810   \n",
       "48928                      4591        4591             4591   4591   \n",
       "45671                      4216        4216             4216   4216   \n",
       "30930                      4152        4152             4152   4152   \n",
       "46769                      3936        3936             3936   3936   \n",
       "32236                      3840        3840             3840   3840   \n",
       "44884                      2542        2542             2542   2542   \n",
       "25077                      2478        2478             2478   2478   \n",
       "37475                      1861        1861             1861   1861   \n",
       "\n",
       "            cleaned_MessageBody  \n",
       "MainCorpNo                       \n",
       "50566                     11031  \n",
       "44070                      4810  \n",
       "48928                      4591  \n",
       "45671                      4216  \n",
       "30930                      4152  \n",
       "46769                      3936  \n",
       "32236                      3840  \n",
       "44884                      2542  \n",
       "25077                      2478  \n",
       "37475                      1861  "
      ]
     },
     "execution_count": 29,
     "metadata": {},
     "output_type": "execute_result"
    }
   ],
   "source": [
    "cleaned_df.groupby('MainCorpNo').count().sort_values(by='CaseID', ascending=False).head(10)"
   ]
  },
  {
   "cell_type": "code",
   "execution_count": 30,
   "metadata": {},
   "outputs": [
    {
     "data": {
      "text/plain": [
       "CaseID\n",
       "3023972.0    161\n",
       "3329528.0     85\n",
       "3890068.0     74\n",
       "1856078.0     68\n",
       "1169293.0     65\n",
       "            ... \n",
       "2843246.0      1\n",
       "2843252.0      1\n",
       "2843253.0      1\n",
       "2843247.0      1\n",
       "1505145.0      1\n",
       "Name: count, Length: 1462370, dtype: int64"
      ]
     },
     "execution_count": 30,
     "metadata": {},
     "output_type": "execute_result"
    }
   ],
   "source": [
    "comm['CaseID'].value_counts()"
   ]
  },
  {
   "cell_type": "code",
   "execution_count": 31,
   "metadata": {},
   "outputs": [
    {
     "data": {
      "text/html": [
       "<div>\n",
       "<style scoped>\n",
       "    .dataframe tbody tr th:only-of-type {\n",
       "        vertical-align: middle;\n",
       "    }\n",
       "\n",
       "    .dataframe tbody tr th {\n",
       "        vertical-align: top;\n",
       "    }\n",
       "\n",
       "    .dataframe thead th {\n",
       "        text-align: right;\n",
       "    }\n",
       "</style>\n",
       "<table border=\"1\" class=\"dataframe\">\n",
       "  <thead>\n",
       "    <tr style=\"text-align: right;\">\n",
       "      <th></th>\n",
       "      <th>Unnamed: 0</th>\n",
       "      <th>CaseID</th>\n",
       "      <th>CaseCommunicationId</th>\n",
       "      <th>TemplateId</th>\n",
       "      <th>cleaned_message</th>\n",
       "    </tr>\n",
       "  </thead>\n",
       "  <tbody>\n",
       "    <tr>\n",
       "      <th>1198095</th>\n",
       "      <td>1198095</td>\n",
       "      <td>3023972.0</td>\n",
       "      <td>3578288.0</td>\n",
       "      <td>NaN</td>\n",
       "      <td>Orlando Lapaz Customer Engagement Specialist ...</td>\n",
       "    </tr>\n",
       "    <tr>\n",
       "      <th>1198096</th>\n",
       "      <td>1198096</td>\n",
       "      <td>3023972.0</td>\n",
       "      <td>3570170.0</td>\n",
       "      <td>NaN</td>\n",
       "      <td>Email address not associated with this Dialogu...</td>\n",
       "    </tr>\n",
       "    <tr>\n",
       "      <th>1198097</th>\n",
       "      <td>1198097</td>\n",
       "      <td>3023972.0</td>\n",
       "      <td>3570171.0</td>\n",
       "      <td>NaN</td>\n",
       "      <td>Email address not associated with this Dialogu...</td>\n",
       "    </tr>\n",
       "    <tr>\n",
       "      <th>1198104</th>\n",
       "      <td>1198104</td>\n",
       "      <td>3023972.0</td>\n",
       "      <td>3570172.0</td>\n",
       "      <td>NaN</td>\n",
       "      <td>Email address not associated with this Dialogu...</td>\n",
       "    </tr>\n",
       "    <tr>\n",
       "      <th>1198105</th>\n",
       "      <td>1198105</td>\n",
       "      <td>3023972.0</td>\n",
       "      <td>3570173.0</td>\n",
       "      <td>NaN</td>\n",
       "      <td>Email address not associated with this Dialogu...</td>\n",
       "    </tr>\n",
       "    <tr>\n",
       "      <th>...</th>\n",
       "      <td>...</td>\n",
       "      <td>...</td>\n",
       "      <td>...</td>\n",
       "      <td>...</td>\n",
       "      <td>...</td>\n",
       "    </tr>\n",
       "    <tr>\n",
       "      <th>1198348</th>\n",
       "      <td>1198348</td>\n",
       "      <td>3023972.0</td>\n",
       "      <td>3595989.0</td>\n",
       "      <td>NaN</td>\n",
       "      <td>Email address not associated with this Dialogu...</td>\n",
       "    </tr>\n",
       "    <tr>\n",
       "      <th>1198349</th>\n",
       "      <td>1198349</td>\n",
       "      <td>3023972.0</td>\n",
       "      <td>3595994.0</td>\n",
       "      <td>NaN</td>\n",
       "      <td>Email address not associated with this Dialogu...</td>\n",
       "    </tr>\n",
       "    <tr>\n",
       "      <th>1198350</th>\n",
       "      <td>1198350</td>\n",
       "      <td>3023972.0</td>\n",
       "      <td>3595995.0</td>\n",
       "      <td>NaN</td>\n",
       "      <td>Email address not associated with this Dialogu...</td>\n",
       "    </tr>\n",
       "    <tr>\n",
       "      <th>1198351</th>\n",
       "      <td>1198351</td>\n",
       "      <td>3023972.0</td>\n",
       "      <td>3595996.0</td>\n",
       "      <td>NaN</td>\n",
       "      <td>Email address not associated with this Dialogu...</td>\n",
       "    </tr>\n",
       "    <tr>\n",
       "      <th>1198352</th>\n",
       "      <td>1198352</td>\n",
       "      <td>3023972.0</td>\n",
       "      <td>3595997.0</td>\n",
       "      <td>NaN</td>\n",
       "      <td>Email address not associated with this Dialogu...</td>\n",
       "    </tr>\n",
       "  </tbody>\n",
       "</table>\n",
       "<p>161 rows × 5 columns</p>\n",
       "</div>"
      ],
      "text/plain": [
       "         Unnamed: 0     CaseID  CaseCommunicationId  TemplateId   \n",
       "1198095     1198095  3023972.0            3578288.0         NaN  \\\n",
       "1198096     1198096  3023972.0            3570170.0         NaN   \n",
       "1198097     1198097  3023972.0            3570171.0         NaN   \n",
       "1198104     1198104  3023972.0            3570172.0         NaN   \n",
       "1198105     1198105  3023972.0            3570173.0         NaN   \n",
       "...             ...        ...                  ...         ...   \n",
       "1198348     1198348  3023972.0            3595989.0         NaN   \n",
       "1198349     1198349  3023972.0            3595994.0         NaN   \n",
       "1198350     1198350  3023972.0            3595995.0         NaN   \n",
       "1198351     1198351  3023972.0            3595996.0         NaN   \n",
       "1198352     1198352  3023972.0            3595997.0         NaN   \n",
       "\n",
       "                                           cleaned_message  \n",
       "1198095   Orlando Lapaz Customer Engagement Specialist ...  \n",
       "1198096  Email address not associated with this Dialogu...  \n",
       "1198097  Email address not associated with this Dialogu...  \n",
       "1198104  Email address not associated with this Dialogu...  \n",
       "1198105  Email address not associated with this Dialogu...  \n",
       "...                                                    ...  \n",
       "1198348  Email address not associated with this Dialogu...  \n",
       "1198349  Email address not associated with this Dialogu...  \n",
       "1198350  Email address not associated with this Dialogu...  \n",
       "1198351  Email address not associated with this Dialogu...  \n",
       "1198352  Email address not associated with this Dialogu...  \n",
       "\n",
       "[161 rows x 5 columns]"
      ]
     },
     "execution_count": 31,
     "metadata": {},
     "output_type": "execute_result"
    }
   ],
   "source": [
    "comm[comm['CaseID'] == 3023972.0]"
   ]
  },
  {
   "cell_type": "code",
   "execution_count": 26,
   "metadata": {},
   "outputs": [
    {
     "data": {
      "text/html": [
       "<div>\n",
       "<style scoped>\n",
       "    .dataframe tbody tr th:only-of-type {\n",
       "        vertical-align: middle;\n",
       "    }\n",
       "\n",
       "    .dataframe tbody tr th {\n",
       "        vertical-align: top;\n",
       "    }\n",
       "\n",
       "    .dataframe thead th {\n",
       "        text-align: right;\n",
       "    }\n",
       "</style>\n",
       "<table border=\"1\" class=\"dataframe\">\n",
       "  <thead>\n",
       "    <tr style=\"text-align: right;\">\n",
       "      <th></th>\n",
       "      <th>Unnamed: 0</th>\n",
       "      <th>CorpNo</th>\n",
       "      <th>CaseID</th>\n",
       "      <th>cleaned_title</th>\n",
       "      <th>cleaned_description</th>\n",
       "    </tr>\n",
       "  </thead>\n",
       "  <tbody>\n",
       "    <tr>\n",
       "      <th>961921</th>\n",
       "      <td>961959</td>\n",
       "      <td>69866</td>\n",
       "      <td>3023972</td>\n",
       "      <td>Email address not associated with this Dialogue.</td>\n",
       "      <td>Email address not associated with this Dialog...</td>\n",
       "    </tr>\n",
       "  </tbody>\n",
       "</table>\n",
       "</div>"
      ],
      "text/plain": [
       "        Unnamed: 0  CorpNo   CaseID   \n",
       "961921      961959   69866  3023972  \\\n",
       "\n",
       "                                           cleaned_title   \n",
       "961921  Email address not associated with this Dialogue.  \\\n",
       "\n",
       "                                      cleaned_description  \n",
       "961921   Email address not associated with this Dialog...  "
      ]
     },
     "execution_count": 26,
     "metadata": {},
     "output_type": "execute_result"
    }
   ],
   "source": [
    "case[case['CaseID'] == 3023972.0]"
   ]
  },
  {
   "cell_type": "code",
   "execution_count": 30,
   "metadata": {},
   "outputs": [
    {
     "name": "stdout",
     "output_type": "stream",
     "text": [
      "Greetings, We have not yet received a response to our request for additional information in order to fully answer your inquiry. Accordingly, we are closing this dialogue. If you still need assistance, please don't hesitate to open a new Let's Talk Dialogue from our website or contact the Office of Student Assignment & Records at (404) 802-2233. Thank you again for reaching out to the APS Office of Student Assignment & Records! Kind Regards,\n"
     ]
    }
   ],
   "source": [
    "print(template[template['TemplateId'] == 1597].cleaned_MessageBody.values[0])"
   ]
  },
  {
   "cell_type": "markdown",
   "metadata": {},
   "source": [
    "### template utilization within top5 districts (have the most number of cases)"
   ]
  },
  {
   "cell_type": "code",
   "execution_count": 15,
   "metadata": {},
   "outputs": [
    {
     "data": {
      "text/html": [
       "<div>\n",
       "<style scoped>\n",
       "    .dataframe tbody tr th:only-of-type {\n",
       "        vertical-align: middle;\n",
       "    }\n",
       "\n",
       "    .dataframe tbody tr th {\n",
       "        vertical-align: top;\n",
       "    }\n",
       "\n",
       "    .dataframe thead th {\n",
       "        text-align: right;\n",
       "    }\n",
       "</style>\n",
       "<table border=\"1\" class=\"dataframe\">\n",
       "  <thead>\n",
       "    <tr style=\"text-align: right;\">\n",
       "      <th></th>\n",
       "      <th>CaseID</th>\n",
       "    </tr>\n",
       "    <tr>\n",
       "      <th>CorpNo</th>\n",
       "      <th></th>\n",
       "    </tr>\n",
       "  </thead>\n",
       "  <tbody>\n",
       "    <tr>\n",
       "      <th>50566</th>\n",
       "      <td>180353</td>\n",
       "    </tr>\n",
       "    <tr>\n",
       "      <th>46769</th>\n",
       "      <td>103294</td>\n",
       "    </tr>\n",
       "    <tr>\n",
       "      <th>24936</th>\n",
       "      <td>76042</td>\n",
       "    </tr>\n",
       "    <tr>\n",
       "      <th>45671</th>\n",
       "      <td>72443</td>\n",
       "    </tr>\n",
       "    <tr>\n",
       "      <th>32236</th>\n",
       "      <td>58529</td>\n",
       "    </tr>\n",
       "  </tbody>\n",
       "</table>\n",
       "</div>"
      ],
      "text/plain": [
       "        CaseID\n",
       "CorpNo        \n",
       "50566   180353\n",
       "46769   103294\n",
       "24936    76042\n",
       "45671    72443\n",
       "32236    58529"
      ]
     },
     "execution_count": 15,
     "metadata": {},
     "output_type": "execute_result"
    }
   ],
   "source": [
    "case_num.head()"
   ]
  },
  {
   "cell_type": "code",
   "execution_count": 16,
   "metadata": {},
   "outputs": [
    {
     "data": {
      "text/html": [
       "<div>\n",
       "<style scoped>\n",
       "    .dataframe tbody tr th:only-of-type {\n",
       "        vertical-align: middle;\n",
       "    }\n",
       "\n",
       "    .dataframe tbody tr th {\n",
       "        vertical-align: top;\n",
       "    }\n",
       "\n",
       "    .dataframe thead th {\n",
       "        text-align: right;\n",
       "    }\n",
       "</style>\n",
       "<table border=\"1\" class=\"dataframe\">\n",
       "  <thead>\n",
       "    <tr style=\"text-align: right;\">\n",
       "      <th></th>\n",
       "      <th>CorpNo</th>\n",
       "      <th>CaseID</th>\n",
       "      <th>cleaned_description</th>\n",
       "      <th>TemplateId</th>\n",
       "      <th>cleaned_message</th>\n",
       "      <th>cleaned_MessageBody</th>\n",
       "    </tr>\n",
       "  </thead>\n",
       "  <tbody>\n",
       "    <tr>\n",
       "      <th>0</th>\n",
       "      <td>31460</td>\n",
       "      <td>2214871</td>\n",
       "      <td>Parker Wix's chromebook will not turn on witho...</td>\n",
       "      <td>900.0</td>\n",
       "      <td>Jaclyn Nicole Wix If you submit a work order t...</td>\n",
       "      <td>[[Customer’s Name]] If you submit a work order...</td>\n",
       "    </tr>\n",
       "    <tr>\n",
       "      <th>1</th>\n",
       "      <td>31460</td>\n",
       "      <td>1613367</td>\n",
       "      <td>My microphone is not working and I have allowe...</td>\n",
       "      <td>900.0</td>\n",
       "      <td>Rachel, If you submit a work order to the tech...</td>\n",
       "      <td>[[Customer’s Name]] If you submit a work order...</td>\n",
       "    </tr>\n",
       "    <tr>\n",
       "      <th>2</th>\n",
       "      <td>31460</td>\n",
       "      <td>1673400</td>\n",
       "      <td>Can I have someone put the google drive link o...</td>\n",
       "      <td>900.0</td>\n",
       "      <td>Debbie BradleyYou can try to log in your Googl...</td>\n",
       "      <td>[[Customer’s Name]] If you submit a work order...</td>\n",
       "    </tr>\n",
       "    <tr>\n",
       "      <th>3</th>\n",
       "      <td>31460</td>\n",
       "      <td>1737761</td>\n",
       "      <td>My projector keeps shutting off, it doesn't sa...</td>\n",
       "      <td>900.0</td>\n",
       "      <td>Karlee Sikes If you submit a work order to the...</td>\n",
       "      <td>[[Customer’s Name]] If you submit a work order...</td>\n",
       "    </tr>\n",
       "    <tr>\n",
       "      <th>4</th>\n",
       "      <td>31460</td>\n",
       "      <td>1757270</td>\n",
       "      <td>I can't figure out how to work the Document Ca...</td>\n",
       "      <td>900.0</td>\n",
       "      <td>Alexandra (Allie) Foshee If you submit a work ...</td>\n",
       "      <td>[[Customer’s Name]] If you submit a work order...</td>\n",
       "    </tr>\n",
       "  </tbody>\n",
       "</table>\n",
       "</div>"
      ],
      "text/plain": [
       "   CorpNo   CaseID                                cleaned_description   \n",
       "0   31460  2214871  Parker Wix's chromebook will not turn on witho...  \\\n",
       "1   31460  1613367  My microphone is not working and I have allowe...   \n",
       "2   31460  1673400  Can I have someone put the google drive link o...   \n",
       "3   31460  1737761  My projector keeps shutting off, it doesn't sa...   \n",
       "4   31460  1757270  I can't figure out how to work the Document Ca...   \n",
       "\n",
       "   TemplateId                                    cleaned_message   \n",
       "0       900.0  Jaclyn Nicole Wix If you submit a work order t...  \\\n",
       "1       900.0  Rachel, If you submit a work order to the tech...   \n",
       "2       900.0  Debbie BradleyYou can try to log in your Googl...   \n",
       "3       900.0  Karlee Sikes If you submit a work order to the...   \n",
       "4       900.0  Alexandra (Allie) Foshee If you submit a work ...   \n",
       "\n",
       "                                 cleaned_MessageBody  \n",
       "0  [[Customer’s Name]] If you submit a work order...  \n",
       "1  [[Customer’s Name]] If you submit a work order...  \n",
       "2  [[Customer’s Name]] If you submit a work order...  \n",
       "3  [[Customer’s Name]] If you submit a work order...  \n",
       "4  [[Customer’s Name]] If you submit a work order...  "
      ]
     },
     "execution_count": 16,
     "metadata": {},
     "output_type": "execute_result"
    }
   ],
   "source": [
    "matched_df.head()"
   ]
  },
  {
   "cell_type": "code",
   "execution_count": 17,
   "metadata": {},
   "outputs": [
    {
     "data": {
      "text/html": [
       "<div>\n",
       "<style scoped>\n",
       "    .dataframe tbody tr th:only-of-type {\n",
       "        vertical-align: middle;\n",
       "    }\n",
       "\n",
       "    .dataframe tbody tr th {\n",
       "        vertical-align: top;\n",
       "    }\n",
       "\n",
       "    .dataframe thead th {\n",
       "        text-align: right;\n",
       "    }\n",
       "</style>\n",
       "<table border=\"1\" class=\"dataframe\">\n",
       "  <thead>\n",
       "    <tr style=\"text-align: right;\">\n",
       "      <th></th>\n",
       "      <th>CaseID</th>\n",
       "    </tr>\n",
       "    <tr>\n",
       "      <th>CorpNo</th>\n",
       "      <th></th>\n",
       "    </tr>\n",
       "  </thead>\n",
       "  <tbody>\n",
       "    <tr>\n",
       "      <th>50566</th>\n",
       "      <td>10017</td>\n",
       "    </tr>\n",
       "    <tr>\n",
       "      <th>44070</th>\n",
       "      <td>4410</td>\n",
       "    </tr>\n",
       "    <tr>\n",
       "      <th>45671</th>\n",
       "      <td>3874</td>\n",
       "    </tr>\n",
       "    <tr>\n",
       "      <th>46769</th>\n",
       "      <td>3475</td>\n",
       "    </tr>\n",
       "    <tr>\n",
       "      <th>48928</th>\n",
       "      <td>3398</td>\n",
       "    </tr>\n",
       "  </tbody>\n",
       "</table>\n",
       "</div>"
      ],
      "text/plain": [
       "        CaseID\n",
       "CorpNo        \n",
       "50566    10017\n",
       "44070     4410\n",
       "45671     3874\n",
       "46769     3475\n",
       "48928     3398"
      ]
     },
     "execution_count": 17,
     "metadata": {},
     "output_type": "execute_result"
    }
   ],
   "source": [
    "matched_num = pd.DataFrame(matched_df.groupby('CorpNo')['CaseID'].nunique()).sort_values(by='CaseID', ascending=False)\n",
    "matched_num.head()"
   ]
  },
  {
   "cell_type": "code",
   "execution_count": 18,
   "metadata": {},
   "outputs": [
    {
     "data": {
      "text/html": [
       "<div>\n",
       "<style scoped>\n",
       "    .dataframe tbody tr th:only-of-type {\n",
       "        vertical-align: middle;\n",
       "    }\n",
       "\n",
       "    .dataframe tbody tr th {\n",
       "        vertical-align: top;\n",
       "    }\n",
       "\n",
       "    .dataframe thead th {\n",
       "        text-align: right;\n",
       "    }\n",
       "</style>\n",
       "<table border=\"1\" class=\"dataframe\">\n",
       "  <thead>\n",
       "    <tr style=\"text-align: right;\">\n",
       "      <th></th>\n",
       "      <th>Case_num</th>\n",
       "      <th>Matched_num</th>\n",
       "      <th>percentage</th>\n",
       "    </tr>\n",
       "    <tr>\n",
       "      <th>CorpNo</th>\n",
       "      <th></th>\n",
       "      <th></th>\n",
       "      <th></th>\n",
       "    </tr>\n",
       "  </thead>\n",
       "  <tbody>\n",
       "    <tr>\n",
       "      <th>50566</th>\n",
       "      <td>180353</td>\n",
       "      <td>10017.0</td>\n",
       "      <td>0.055541</td>\n",
       "    </tr>\n",
       "    <tr>\n",
       "      <th>46769</th>\n",
       "      <td>103294</td>\n",
       "      <td>3475.0</td>\n",
       "      <td>0.033642</td>\n",
       "    </tr>\n",
       "    <tr>\n",
       "      <th>24936</th>\n",
       "      <td>76042</td>\n",
       "      <td>157.0</td>\n",
       "      <td>0.002065</td>\n",
       "    </tr>\n",
       "    <tr>\n",
       "      <th>45671</th>\n",
       "      <td>72443</td>\n",
       "      <td>3874.0</td>\n",
       "      <td>0.053477</td>\n",
       "    </tr>\n",
       "    <tr>\n",
       "      <th>32236</th>\n",
       "      <td>58529</td>\n",
       "      <td>2898.0</td>\n",
       "      <td>0.049514</td>\n",
       "    </tr>\n",
       "  </tbody>\n",
       "</table>\n",
       "</div>"
      ],
      "text/plain": [
       "        Case_num  Matched_num  percentage\n",
       "CorpNo                                   \n",
       "50566     180353      10017.0    0.055541\n",
       "46769     103294       3475.0    0.033642\n",
       "24936      76042        157.0    0.002065\n",
       "45671      72443       3874.0    0.053477\n",
       "32236      58529       2898.0    0.049514"
      ]
     },
     "execution_count": 18,
     "metadata": {},
     "output_type": "execute_result"
    }
   ],
   "source": [
    "dist = case_num.merge(matched_num, on =['CorpNo'], how = 'left')\n",
    "dist.columns = ['Case_num', 'Matched_num']\n",
    "dist['percentage'] = dist['Matched_num']/dist['Case_num']\n",
    "dist.sort_values(by='Case_num', ascending=False).head(5)"
   ]
  },
  {
   "cell_type": "code",
   "execution_count": 19,
   "metadata": {},
   "outputs": [
    {
     "data": {
      "text/plain": [
       "0.03758431089776722"
      ]
     },
     "execution_count": 19,
     "metadata": {},
     "output_type": "execute_result"
    }
   ],
   "source": [
    "dist.sort_values(by='Case_num', ascending=False).head(10)['percentage'].values.mean()"
   ]
  },
  {
   "cell_type": "code",
   "execution_count": 22,
   "metadata": {},
   "outputs": [],
   "source": [
    "top5 = dist.sort_values(by='Case_num', ascending=False).head(5).reset_index()"
   ]
  },
  {
   "cell_type": "code",
   "execution_count": 25,
   "metadata": {},
   "outputs": [
    {
     "data": {
      "image/png": "[encoded data removed]",
      "text/plain": [
       "<Figure size 640x480 with 2 Axes>"
      ]
     },
     "metadata": {},
     "output_type": "display_data"
    }
   ],
   "source": [
    "import matplotlib.pyplot as plt\n",
    "import numpy as np\n",
    "\n",
    "# Sample data\n",
    "x = np.arange(1, 6)  # Common y-axis values (e.g., categories)\n",
    "y1 = [180353, 103294, 76042, 72443, 58529]  # Data for the first x-axis\n",
    "y2 = [0.055, 0.033, 0.002, 0.053, 0.049]  # Data for the second x-axis\n",
    "\n",
    "fig, ax1 = plt.subplots()\n",
    "\n",
    "# First bar chart\n",
    "ax1.bar(x - 0.2, y1, width=0.4, label='# of Cases', color='#d9d9d9')\n",
    "\n",
    "# Setting up the second y-axis\n",
    "ax2 = ax1.twinx()\n",
    "ax2.bar(x + 0.2, y2, width=0.4, label='Template Utilization Rate', color='#e52c4c')\n",
    "\n",
    "\n",
    "custom_labels = ['50566', '46769', '24936', '45671', '32236']  # Replace with your desired labels\n",
    "plt.xticks(x, custom_labels)\n",
    "\n",
    "# Setting the y-axis limits\n",
    "ax1.set_ylim(0, 200000)  # Set y1-axis limits\n",
    "ax2.set_ylim(0, 0.2)  # Optionally set y2-axis limits if needed\n",
    "\n",
    "# Adjusting tick size (optional)\n",
    "ax1.tick_params(axis='y', labelsize='large')\n",
    "ax2.tick_params(axis='y', labelsize='large')\n",
    "ax1.tick_params(axis='x', labelsize='large')\n",
    "\n",
    "# Labels and title\n",
    "ax1.set_xlabel('District Code')\n",
    "ax1.set_ylabel('Number of Cases Received')\n",
    "ax2.set_ylabel('Template Utilizatoin Rate')\n",
    "\n",
    "\n",
    "# Adding a legend\n",
    "ax1.legend(loc='upper left')\n",
    "ax2.legend(loc='upper right')\n",
    "\n",
    "# Show the plot\n",
    "plt.title('Template Utilization Rate for Top 5 School Districts')\n",
    "plt.show()\n"
   ]
  },
  {
   "cell_type": "markdown",
   "metadata": {},
   "source": [
    "### pie"
   ]
  },
  {
   "cell_type": "code",
   "execution_count": 20,
   "metadata": {},
   "outputs": [
    {
     "data": {
      "image/png": "[encoded data removed]",
      "text/plain": [
       "<Figure size 640x480 with 1 Axes>"
      ]
     },
     "metadata": {},
     "output_type": "display_data"
    }
   ],
   "source": [
    "import matplotlib.pyplot as plt\n",
    "\n",
    "# Data to plot\n",
    "labels = ['# of Cases Solved with Templates','# of Cases Solved w/o Templates']\n",
    "sizes = [cleaned_df.shape[0], case.shape[0]-cleaned_df.shape[0]]\n",
    "colors = ['#e52c4c', '#efefef']\n",
    "explode = (0.5, 0)  # explode 1st slice (Python)\n",
    "\n",
    "# Plot\n",
    "plt.pie(sizes, explode=explode, labels=labels, colors=colors,\n",
    "autopct='%1.1f%%', shadow=True, startangle=140)\n",
    "\n",
    "plt.axis('equal')  # Equal aspect ratio ensures that pie is drawn as a circle.\n",
    "plt.show()"
   ]
  },
  {
   "cell_type": "code",
   "execution_count": 5,
   "metadata": {},
   "outputs": [
    {
     "data": {
      "image/png": "[encoded data removed]",
      "text/plain": [
       "<Figure size 640x480 with 1 Axes>"
      ]
     },
     "metadata": {},
     "output_type": "display_data"
    }
   ],
   "source": [
    "import matplotlib.pyplot as plt\n",
    "\n",
    "# Data to plot\n",
    "labels = 'Python', 'C++', 'Ruby', 'Java'\n",
    "sizes = [215, 130, 245, 210]\n",
    "colors = ['gold', 'yellowgreen', 'lightcoral', 'lightskyblue']\n",
    "explode = (0.1, 0, 0, 0)  # explode 1st slice (Python)\n",
    "\n",
    "# Plot\n",
    "plt.pie(sizes, explode=explode, labels=labels, colors=colors,\n",
    "autopct='%1.1f%%', shadow=True, startangle=140)\n",
    "\n",
    "plt.axis('equal')  # Equal aspect ratio ensures that pie is drawn as a circle.\n",
    "plt.show()\n"
   ]
  },
  {
   "cell_type": "markdown",
   "metadata": {},
   "source": [
    "### Get case info"
   ]
  },
  {
   "cell_type": "code",
   "execution_count": 7,
   "metadata": {},
   "outputs": [
    {
     "data": {
      "text/plain": [
       "(6484, 6)"
      ]
     },
     "execution_count": 7,
     "metadata": {},
     "output_type": "execute_result"
    }
   ],
   "source": [
    "district = 55041\n",
    "case_sample = case[case['CorpNo'] == district]\n",
    "template_sample = template[template['MainCorpNo'] == district]\n",
    "samples = case_sample.merge(comm, on=['CaseID'], how='inner').merge(template_sample, on='TemplateId', how='left')\n",
    "samples = samples[['CorpNo', 'CaseID', 'cleaned_description', 'TemplateId', 'cleaned_message', 'cleaned_MessageBody']]\n",
    "samples.shape"
   ]
  },
  {
   "cell_type": "code",
   "execution_count": 8,
   "metadata": {},
   "outputs": [],
   "source": [
    "matched = samples.dropna()\n",
    "unmatched = samples[samples['TemplateId'].isna()]"
   ]
  },
  {
   "cell_type": "markdown",
   "metadata": {},
   "source": [
    "#### Samples with matched templates"
   ]
  },
  {
   "cell_type": "markdown",
   "metadata": {},
   "source": []
  },
  {
   "cell_type": "code",
   "execution_count": 9,
   "metadata": {},
   "outputs": [
    {
     "name": "stdout",
     "output_type": "stream",
     "text": [
      "case #: 3560736\n",
      "Message: \n",
      " i cant login into my ccisd accountI'm a tutor i want to put my work hours \n",
      "template #: 2943.0\n",
      "Template used: \n",
      "Employees may reset their password by visiting my.ccisd.us. If you continue to have difficulty, please contact or 878-3911. Thank you!\n",
      "\n",
      "case #: 3647113\n",
      "Message: \n",
      " Hi, I am trying to complete the guest educator o line requirements, but I forgot my password as I have not substituted for a year. Very respectively,Marlin Remigio \n",
      "template #: 2943.0\n",
      "Template used: \n",
      "Employees may reset their password by visiting my.ccisd.us. If you continue to have difficulty, please contact or 878-3911. Thank you!\n",
      "\n",
      "case #: 3761934\n",
      "Message: \n",
      " My name is Shea Hernandez, I am the principal at Kolda. I do not have access to outlook at work. It states I do not have a license and the repair attempt was unsuccessful. I have access on my phone and school laptop at home. Can someone help provide access so I can work today and tomorrow on campus Thank you. \n",
      "template #: 2943.0\n",
      "Template used: \n",
      "Employees may reset their password by visiting my.ccisd.us. If you continue to have difficulty, please contact or 878-3911. Thank you!\n",
      "\n",
      "case #: 3887381\n",
      "Message: \n",
      " Hi, my name is Erika Moreno and I forgot my CCISD password. My username is enmoreno. \n",
      "template #: 2943.0\n",
      "Template used: \n",
      "Employees may reset their password by visiting my.ccisd.us. If you continue to have difficulty, please contact or 878-3911. Thank you!\n",
      "\n",
      "case #: 2630404\n",
      "Message: \n",
      " Thank you for taking time out of your busy schedule to read this letter from a concerned parent. I understand that you have to make difficult decisions everyday regarding the safety of thousands of children entrusted to your district’s care. I know these decisions are difficult to make, so I hope that this letter will help encourage you to make a better choice for the children of CCISD. My child is a first grader, and is currently not eligible for the vaccine. He wears his mask to school everyday, but I fear this protection will not be enough with classrooms being full this year and not every student being required to wear a mask. I feel that he needs to be in a classroom with other students to help facilitate his social and emotional development, but I am extremely concerned for his health.I urge you to use your leadership role to protect those students who are immunocompromised or ineligible for the vaccine. With the number of Covid cases increasing in the Coastal Bend and the number of available healthcare workers and hospital beds being limited, my concern is growing. Driscoll Children's hospital is reporting a higher number of cases of children being admitted with not only COVID, but also RSV. These are two highly contagious upper respiratory infections whose transmission could be limited with the implementation of a face mask mandate.  The CDC recommendations are clear that the use of masks helps reduce the transmission of COVID 19. This is a simple solution to help keep students safe and in the classroom this year. While it is not foolproof, it is one of the few options that we have until we reach herd immunity as a community. Since the vaccine is not available to students under 12 and there is no vaccine requirement currently in place, face mask requirements seem to be the only option available for protection. Please, stand with the administrators of Dallas ISD, Houston ISD, Austin ISD, San Antonio ISD, and many others across Texas in mandating masks for your school district. Please make a more responsible choice for the health and safety of the children you are responsible for protecting. I urge you to listen to experts in the field of medicine, science, and epidemiology, not politicians, when making decisions about the health and safety of our children.Thank you again for your time and consideration. Autumn Burkett \n",
      "template #: 5332.0\n",
      "Template used: \n",
      "Good Morning, Corpus Christi ISD is aware that the order issued Sunday evening by the Nueces County Health Authority has been put on hold. The district has returned to its previous guidance: masks are highly encouraged on all properties. CCISD thanks students, staff and families for their patience and support, and asks everyone to continue doing their part to prevent the spread of COVID-19. Thank you.\n",
      "\n",
      "case #: 2653046\n",
      "Message: \n",
      " I am asking you to keep the optional masks directive in place. Do not give in to the illegal order by our County Judge.Please listen to the voice of reason and science regarding not mandating masks. Let’s defend the mental and emotional and physical health of our children. The basis for requiring masks is unscientific and does not consider the negative impact or real case/death statistics. It is based on reliance on ineffective means for protection. All of this impacts the short-term and long-term welfare of our children.I am asking you to keep the wise and prudent directive of masks being OPTIONAL in place. This allows freedom for those who need or want to wear masks may do so by their choice.Here are some well-documented research studies that support conservative restrictions for our school environment for your information. Centers for Disease Control and Prevention:Between Jan. 22 and May 30, the Centers for Disease Control and Prevention recorded only 13 deaths in children ages 0 to 9, out of more than 20,000 confirmed cases, and 33 deaths among those ages 10 to 19, out of more than 49,000 cases. That works out to a case fatality rate of around 0.06% to 0.07%. The evidence is very consistent that children are at extremely low risk of becoming seriously ill or dying from COVID-19.World Health Organization:“Facemasks are not required, as no evidence is available on its usefulness to protect non-sick persons.” The author goes on to explain a myriad physiological dangers associated with mask wearing: In addition to hypoxia and hypercapnia, breathing through facemask residues bacterial and germs components on the inner and outside layer of the facemask. These toxic components are repeatedly rebreathed back into the body, causing self-contamination. Breathing through facemasks also increases temperature and humidity in the space between the mouth and the mask, resulting in a release of toxic particles from the mask’s materials. A systematic literature review estimated that aerosol contamination levels of facemasks including 13 to 202,549 different viruses. Rebreathing contaminated air with high bacterial and toxic particle concentrations along with low O2 and high CO2 levels continuously challenge the body homeostasis, causing self-toxicity and immunosuppression. And some psychological harms of masks:As described earlier, wearing facemasks causing hypoxic and hypercapnic state that constantly challenges the normal homeostasis, and activates “fight or flight” stress response, an important survival mechanism in the human body. The acute stress response includes activation of nervous, endocrine, cardiovascular, and the immune systems. These include activation of the limbic part of the brain, release stress hormones (adrenalin, neuro-adrenalin and cortisol), changes in blood flow distribution (vasodilation of peripheral blood vessels and vasoconstriction of visceral blood vessels) and activation of the immune system response (secretion of macrophages and natural killer cells). Encountering people who wear facemasks activates innate stress-fear emotion, which is fundamental to all humans in danger or life threatening situations, such as death or unknown, unpredictable outcome. While acute stress response (seconds to minutes) is an adaptive reaction to challenges and part of the survival mechanism, chronic and prolonged state of stress-fear is maladaptive and has detrimental effects on physical and mental health. The repeatedly or continuously activated stress-fear response causes the body to operate on survival mode, having sustained increase in blood pressure, pro-inflammatory state and immunosuppression. And the conclusion: The existing scientific evidences challenge the safety and efficacy of wearing facemask as preventive intervention for COVID-19. The data suggest that both medical and non-medical facemasks are ineffective to block human-to-human transmission of viral and infectious disease such as SARS-CoV-2 and COVID-19, supporting against the usage of facemasks. Wearing facemasks has been demonstrated to have substantial adverse physiological and psychological effects. These include hypoxia, hypercapnia, shortness of breath, increased acidity and toxicity, activation of fear and stress response, rise in stress hormones, immunosuppression, fatigue, headaches, decline in cognitive performance, predisposition for viral and infectious illnesses, chronic stress, anxiety and depression. Long-term consequences of wearing facemasks can cause health deterioration, developing and progression of chronic diseases and premature death. Governments, policy makers and health organizations should utilize proper and scientific evidence-based approach with respect to wearing facemasks, when the latter is considered as preventive intervention for public health.This article represents a new challenge to the pro-masking position. It argues that masks are not merely a “talisman,” as the Journal of the American Medical Association said in April 2020 (before the authors were forced to retract three months later). The situation is far worse: masks are not just useless, but actively damaging to individual health and social well-being. Delta VariantThere’s a current study out of England, from Public Health England.Out of 92,000 vaccinated patients ZERO died from delta variant. Out of 52,000 unvaccinated only 6 died. That works out to .08%. Less than the flu. That’s under age 50. Over age 50, it was about half as many people died as were dying last year. So the delta variant is more transmissible but less deadly.Please DO NOT mandate masks for our school systems! \n",
      "template #: 5337.0\n",
      "Template used: \n",
      "We appreciate your taking the time to share your thoughts regarding the 2021-2022 school year. We are taking all input into consideration as we work to create a learning environment that best meets the needs of our students. We will continue to share information throughout the year. At this stage, while we may not be able to answer all questions individually, your input is still appreciated. Thank you!\n",
      "\n",
      "case #: 2659802\n",
      "Message: \n",
      " HelloNow that CCISD can implement a mask mandate to save lives it is not Is this true I read this in the Caller Times on August 20 ( />If it is true....What are the exact reasons that CCISD is not implementing a mask order Does the staff actually think they know better than the Health Directors, doctors and the CDC. What are the credentials of those making this decisionAppaling choice-if true. Our children should be protected as should the staff and our medical professionals that are dealing with an outbreak that was avoidable- masks will help limit the transmision.Please explain this decision.Thank you.Deidre Williams \n",
      "template #: 5337.0\n",
      "Template used: \n",
      "We appreciate your taking the time to share your thoughts regarding the 2021-2022 school year. We are taking all input into consideration as we work to create a learning environment that best meets the needs of our students. We will continue to share information throughout the year. At this stage, while we may not be able to answer all questions individually, your input is still appreciated. Thank you!\n",
      "\n",
      "case #: 2674154\n",
      "Message: \n",
      " HelloThank you for mandating a mask mandate to protect our children, staff and hospital staff during this challenging time. This is a big step toward improving protocols that will benefit the entire community. Applause.How will CISD handle the children that \"opt\" out. They are likely the same children that already dont wear masks.Will they have their own classrooms If not there is no point of the mask mandate.Thanks for letting us know how that will be handled. Desk shields do not have the protective capacity of masks. Or we would not need a mask mandate....Please find a solution that does not let the non masked children transmit illness to those following the rules.Just like no smoking....COVID is the smoke....Thank you.Please announce the solution to the public.Deidre \n",
      "template #: 5337.0\n",
      "Template used: \n",
      "We appreciate your taking the time to share your thoughts regarding the 2021-2022 school year. We are taking all input into consideration as we work to create a learning environment that best meets the needs of our students. We will continue to share information throughout the year. At this stage, while we may not be able to answer all questions individually, your input is still appreciated. Thank you!\n",
      "\n",
      "case #: 2674023\n",
      "Message: \n",
      " What is the point in making parents opt OUTI thought we were already doing that not sending our children to school maskedWhy does anyone need a consent form to opt iut of not suffocating their childOn Tue, Aug 24, 2021, 5:32 PM Communications \n",
      "template #: 5337.0\n",
      "Template used: \n",
      "We appreciate your taking the time to share your thoughts regarding the 2021-2022 school year. We are taking all input into consideration as we work to create a learning environment that best meets the needs of our students. We will continue to share information throughout the year. At this stage, while we may not be able to answer all questions individually, your input is still appreciated. Thank you!\n",
      "\n",
      "case #: 2674155\n",
      "Message: \n",
      " That goes against Gov Abbott schoolchildren will not face mask requirements as they return to school.“Kids will not be forced by government or by schools to wear masks in school,” Abbott said. “They can by parental choice wear a mask, but there will be no government mandate requiring masks.”On Tue, Aug 24, 2021, 5:32 PM Communications \n",
      "template #: 5337.0\n",
      "Template used: \n",
      "We appreciate your taking the time to share your thoughts regarding the 2021-2022 school year. We are taking all input into consideration as we work to create a learning environment that best meets the needs of our students. We will continue to share information throughout the year. At this stage, while we may not be able to answer all questions individually, your input is still appreciated. Thank you!\n",
      "\n"
     ]
    }
   ],
   "source": [
    "for i in range(10):\n",
    "    \n",
    "    print(f'case #: {matched.CaseID.values[i]}')\n",
    "    print(f'Message: \\n {matched.cleaned_description.values[i]}') \n",
    "    print(f'template #: {matched.TemplateId.values[i]}')\n",
    "    print(f'Template used: \\n{matched.cleaned_MessageBody.values[i]}\\n')\n",
    "    "
   ]
  },
  {
   "cell_type": "code",
   "execution_count": 10,
   "metadata": {},
   "outputs": [
    {
     "name": "stdout",
     "output_type": "stream",
     "text": [
      "Hello, Thank you for reaching out! This is SPS Customer Service. We wanted to let you know that we have received your message and Human Resources will be responding to you as soon as possible. We sincerely appreciate your patience.\n"
     ]
    }
   ],
   "source": [
    "print(template[template['TemplateId'] == 5760].cleaned_MessageBody.values[0])"
   ]
  },
  {
   "cell_type": "markdown",
   "metadata": {},
   "source": [
    "#### unmatched samples"
   ]
  },
  {
   "cell_type": "code",
   "execution_count": 11,
   "metadata": {},
   "outputs": [
    {
     "name": "stdout",
     "output_type": "stream",
     "text": [
      "case #: 3204010\n",
      "Message: \n",
      " when will the school supply list be out \n",
      "Response made: Good morning, The school supply list will be made available online soon. It will be posted on our social media accounts and our website www.ccisd.us. Thank you! Alexandria Rodriguez Communications Specialist Corpus Christi Independent School District \n",
      "\n",
      "case #: 3204026\n",
      "Message: \n",
      " Is summer school closed Monday and Tuesday \n",
      "Response made: That is correct. Second session begins July 6. Thank you.\n",
      "\n",
      "case #: 3204214\n",
      "Message: \n",
      " Hello! I am interested in applying for the elementary art teaching position. It has been a while since I have been on this page and I now have a different email address. I can not remember my old email or password! I need help!  Thank you! \n",
      "Response made: Sent from my iPhone> On Jul 2, 2022, at 7:21 PM, Corpus Christi Independent School District wrote:> > > Thank you! I will be awaiting your reply upon your return. > > > Thank you for Contacting Corpus Christi Independent School District. District offices and campuses are closed for summer break and will reopen Tuesday, July 5. We look forward to helping you upon our return. Thank you.> > > YOUR ORIGINAL MESSAGE> KS> Krystle Smith />> Jul 2, 7:21pm> Hello! I am interested in applying for the elementary art teaching position. It has been a while since I have been on this page and I now have a different email address. I can not remember my old email or password! I need help!  Thank you!> Dialogue-Id:CKXD8R9FLT:Dialogue-Id> POWERED BY\n",
      "\n",
      "case #: 3204260\n",
      "Message: \n",
      " I was wondering if kolda does half day for kindergarten. I am planning on homeschooling my child. However, I would like for him to experience what elementary has to offer. I believe he could benefit from experiencing both. The only question is, does kolda offer a half day for kindergarten and if not, are there any elementary schools that do \n",
      "Response made: Hello, CCISD does not offer half day kindergarten. Please contact the school for more information about the kindergarten program at Kolda.361--878-2980Thank you,Zonia Zonia Lopez Director of Special Programs Corpus Christi Independent School District \n",
      "\n",
      "case #: 3235238\n",
      "Message: \n",
      " Good Morning. My son will turn 4 year on August 1st. He is in potty training but still uses diaper. Also, he doesn't speak nor understand very well English. Our family first language is Spanish. If he wants something he just says that one word. He doesn't communicate with frases or sentences. What concerns me the most is that he is a very loud kid, I mean when he cries he screams very loud. And also he he doesn't stays in one place he is always moving and playing around. I try and I am trying to teach him how to behave but my husband say that with me my son is CHIFLADO (don't know that word in English). Maybe he needs to be around other kids for him to learn. I was wondering if I can still register him for Pre-K or I wait till next school year Thanks in advance. \n",
      "Response made: Good afternoon,Thank you for reaching out. My name is Amy Lavigne and I can help you.Pre-K registration is still open and we would love to have your child in our program.The registration portal is online. You can register at enrollment.ccisd.us. In the portal, you will click New Student Registration, create an account if you do not have one, and add your student. There are two paths for eligibility. Through the application process we will see if you qualify for tuition assistance. If not, the tuition will be $468 a month. For your child, you will have to just show documentation of the services they are receiving. This is the required information for registration:Only a parent/guardian is allowed to register a student online in the Corpus Christi Independent School District.You will need a valid email account in order to register online.You will need to bring the following required documents to campus:For Pre-K eligibility requirements. Click link to find out more. Pre-K Qualification RequirementsBirth CertificateImmunization RecordsSocial Security CardProof of Residence (in-District) - Current Utility Bill (water, light, gas, rent receipt, lease agreement with guardian's name and address).Recent school records and/or report cardAn existing court order pertaining to the child (if applicable)Please let me know if I can assist you in any way in this process.\n",
      "\n",
      "case #: 3289874\n",
      "Message: \n",
      " Hello,I thought we had notified the proper channels, but I keep getting emails reminding me to register my sons for this upcoming school year. I just wanted to send this email to make sure you are aware that Noah and Lucas Fletcher will not be returning to CCISD this year. We have moved to Colorado, and they are already registered to attend Lewis Palmer Elementary School in Monument, CO.There is nowhere on the registration site to mark that they will not be returning, so I just keep getting the reminder emails.Please let me know if there is anything else I need to do.Thank you,Heather Fletcher \n",
      "Response made: Dear Mrs. Fletcher,Thank you very much for the information and have a wonderful time in your new home! Dr. Bissell#ASP.NET#_____________________ #ASP.NET# Kimberly Bissell#ASP.NET#Principal, Windsor Park Elementary School#ASP.NET#Corpus Christi Independent School District\n",
      "\n",
      "case #: 3320802\n",
      "Message: \n",
      " Good morning,Our company (Armstrong Lumber) has several boxes of hand sanitizer and we were wondering if you needed any for the upcoming school year. If so, please let me know what day next week would be good for a drop off. We can drop it off any day of the week between 8:00 am - 4:30 pm. We have been dropping off boxes throughout the surrounding area and still have plenty more to donate. Contact Stephanie at with your response.Thank you! \n",
      "Response made: Thank you so much. We appreciate the offer. At this time we have plenty of hand sanitizer and I would not have any place to store any additional supplies. Prudence Farrell Principal, Richard King High School Corpus Christi Independent School District \n",
      "\n",
      "case #: 3350530\n",
      "Message: \n",
      " where is dual program Spanish and English \n",
      "Response made: Hello, what grade are you looking to have your student start Casandra Lorentson Communications Specialist Corpus Christi Independent School District \n",
      "\n",
      "case #: 3369016\n",
      "Message: \n",
      " I would like my email removed from you system for Canvas notifications. My family and I have not been associated with CCISD since 2017. I cannot \"update settings\" with my log-in because I do not remember log in information, and there is no option to reset password. Please delete/unsubscribe me from all CCISD and Canvas communications. thank you, Nadia Kinsel \n",
      "Response made: Hello,Your request has been submitted to our Student Information Systems team. Someone should be reaching out to you soon.Thank you, Help Desk Technology Support Services Corpus Christi Independent School District \n",
      "\n",
      "case #: 3441131\n",
      "Message: \n",
      " Hello, my child attends Gloria Hicks Elementary school, I have been trying to speak to the principal with concerns that I have in regards to the after school program cub scouts. Instead of hearing mine and other parents concerns and answering our questions, she left the premises. While kids were still on campus involved in after school programs. While I was there waiting in the front to speak to Ms. Ortiz like she promised me, I was observing how the staff was doing safety wise. It was horrible, the front doors were left open, and I mean wide open. I witnessed 8 CCISD employees walk in and out of the front door without closing it and making sure it’s locked for the safety of our children. These doors were left wide open for 45 mins before the Cub Scout leader Carlos finally closed them. It is a very scary time to be a parent with a child in public schools right now especially after the Uvalde tragedy. This principal and these staff members are not thinking about the safety of our children. Instead the principal was hiding to avoid hearing parents concerns. This is an issue that I would expect to get handled and taken seriously. Leaving doors wide open is how Uvlade lost so many precious children and teachers. \n",
      "Response made: Ms. Perez,Thank you for taking the time to speak with me this afternoon. I will follow up the staff regarding this concern. Please contact me if you have any concerns in the future, my Assistant Principal and I are here to assist our parents in whatever they may need. My apologies for the all the miscommunication, as I was not on campus on Friday, but hopefully with us talking I was able to clarify any questions you may have had regarding the Scouts issue. Have a nice evening. Kathryn Ortiz Principal, Hicks Elementary School Corpus Christi Independent School District \n",
      "\n"
     ]
    }
   ],
   "source": [
    "for i in range(10):\n",
    "    \n",
    "    print(f'case #: {unmatched.CaseID.values[i]}')\n",
    "    print(f'Message: \\n {unmatched.cleaned_description.values[i]}') \n",
    "    print(f'Response made: {unmatched.cleaned_message.values[i]}\\n')"
   ]
  },
  {
   "cell_type": "code",
   "execution_count": null,
   "metadata": {},
   "outputs": [],
   "source": []
  }
 ],
 "metadata": {
  "kernelspec": {
   "display_name": "base",
   "language": "python",
   "name": "python3"
  },
  "language_info": {
   "codemirror_mode": {
    "name": "ipython",
    "version": 3
   },
   "file_extension": ".py",
   "mimetype": "text/x-python",
   "name": "python",
   "nbconvert_exporter": "python",
   "pygments_lexer": "ipython3",
   "version": "3.10.10"
  },
  "orig_nbformat": 4
 },
 "nbformat": 4,
 "nbformat_minor": 2
}
