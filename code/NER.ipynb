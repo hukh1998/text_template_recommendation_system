{
 "cells": [
  {
   "cell_type": "code",
   "execution_count": 1,
   "metadata": {},
   "outputs": [
    {
     "name": "stderr",
     "output_type": "stream",
     "text": [
      "/Library/Frameworks/Python.framework/Versions/3.9/lib/python3.9/site-packages/tqdm/auto.py:21: TqdmWarning: IProgress not found. Please update jupyter and ipywidgets. See https://ipywidgets.readthedocs.io/en/stable/user_install.html\n",
      "  from .autonotebook import tqdm as notebook_tqdm\n"
     ]
    }
   ],
   "source": [
    "# Load model directly\n",
    "from transformers import AutoTokenizer, AutoModelForTokenClassification\n",
    "import torch\n",
    "import pandas as pd \n"
   ]
  },
  {
   "cell_type": "code",
   "execution_count": 2,
   "metadata": {},
   "outputs": [
    {
     "data": {
      "text/html": [
       "<div>\n",
       "<style scoped>\n",
       "    .dataframe tbody tr th:only-of-type {\n",
       "        vertical-align: middle;\n",
       "    }\n",
       "\n",
       "    .dataframe tbody tr th {\n",
       "        vertical-align: top;\n",
       "    }\n",
       "\n",
       "    .dataframe thead th {\n",
       "        text-align: right;\n",
       "    }\n",
       "</style>\n",
       "<table border=\"1\" class=\"dataframe\">\n",
       "  <thead>\n",
       "    <tr style=\"text-align: right;\">\n",
       "      <th></th>\n",
       "      <th>CaseID</th>\n",
       "      <th>CorpNo</th>\n",
       "      <th>TemplateId</th>\n",
       "      <th>cleaned_message</th>\n",
       "      <th>cleaned_description</th>\n",
       "      <th>labels</th>\n",
       "    </tr>\n",
       "  </thead>\n",
       "  <tbody>\n",
       "    <tr>\n",
       "      <th>0</th>\n",
       "      <td>725075.0</td>\n",
       "      <td>47139.0</td>\n",
       "      <td>1213.0</td>\n",
       "      <td>Hello marchello minter, Thank you for taking t...</td>\n",
       "      <td>My name is marchello minter and I'm interested...</td>\n",
       "      <td>1</td>\n",
       "    </tr>\n",
       "    <tr>\n",
       "      <th>1</th>\n",
       "      <td>725100.0</td>\n",
       "      <td>41272.0</td>\n",
       "      <td>1083.0</td>\n",
       "      <td>Hello Carly,To prevent students from incidenta...</td>\n",
       "      <td>Request to join Classroom Teachers Group.</td>\n",
       "      <td>1</td>\n",
       "    </tr>\n",
       "  </tbody>\n",
       "</table>\n",
       "</div>"
      ],
      "text/plain": [
       "     CaseID   CorpNo  TemplateId  \\\n",
       "0  725075.0  47139.0      1213.0   \n",
       "1  725100.0  41272.0      1083.0   \n",
       "\n",
       "                                     cleaned_message  \\\n",
       "0  Hello marchello minter, Thank you for taking t...   \n",
       "1  Hello Carly,To prevent students from incidenta...   \n",
       "\n",
       "                                 cleaned_description  labels  \n",
       "0  My name is marchello minter and I'm interested...       1  \n",
       "1         Request to join Classroom Teachers Group.        1  "
      ]
     },
     "execution_count": 2,
     "metadata": {},
     "output_type": "execute_result"
    }
   ],
   "source": [
    "df = pd.read_csv('matched_df.csv')\n",
    "df.head(2)"
   ]
  },
  {
   "cell_type": "markdown",
   "metadata": {},
   "source": [
    "### dslim/bert-base-NER"
   ]
  },
  {
   "cell_type": "code",
   "execution_count": 1,
   "metadata": {},
   "outputs": [
    {
     "name": "stderr",
     "output_type": "stream",
     "text": [
      "Some weights of the model checkpoint at dbmdz/bert-large-cased-finetuned-conll03-english were not used when initializing BertForTokenClassification: ['bert.pooler.dense.bias', 'bert.pooler.dense.weight']\n",
      "- This IS expected if you are initializing BertForTokenClassification from the checkpoint of a model trained on another task or with another architecture (e.g. initializing a BertForSequenceClassification model from a BertForPreTraining model).\n",
      "- This IS NOT expected if you are initializing BertForTokenClassification from the checkpoint of a model that you expect to be exactly identical (initializing a BertForSequenceClassification model from a BertForSequenceClassification model).\n",
      "/Users/kaitonghu/miniconda3/lib/python3.10/site-packages/transformers/pipelines/token_classification.py:169: UserWarning: `grouped_entities` is deprecated and will be removed in version v5.0.0, defaulted to `aggregation_strategy=\"simple\"` instead.\n",
      "  warnings.warn(\n"
     ]
    },
    {
     "name": "stdout",
     "output_type": "stream",
     "text": [
      "Entity: NO, Type: ORG, Score: 0.5174\n",
      "Entity: Candi Eichstaedt, Type: PER, Score: 0.8367\n"
     ]
    }
   ],
   "source": [
    "from transformers import pipeline\n",
    "\n",
    "# Load the NER pipeline\n",
    "ner_pipeline = pipeline(\"ner\", model=\"dbmdz/bert-large-cased-finetuned-conll03-english\", grouped_entities=True)\n",
    "\n",
    "# Your text\n",
    "text = \"Hi,The dining plan that my son wanted to enroll in (TU7 plus wave and NOLA bucks) was not available when he tried to enroll. The deadline to submit dining plans for Fall 2019 was yesterday, so my son signed up TU15 which also included 10 extra meals (which he doesn't want). How does he go about changing the dining plan to what he actually wants Will the options change or does he need to send an email to you or go to your officepeace,Candi Eichstaedt\"\n",
    "\n",
    "# Perform NER\n",
    "ner_results = ner_pipeline(text)\n",
    "\n",
    "# Print the results\n",
    "for entity in ner_results:\n",
    "    print(f\"Entity: {entity['word']}, Type: {entity['entity_group']}, Score: {entity['score']:.4f}\")\n",
    "\n"
   ]
  },
  {
   "cell_type": "code",
   "execution_count": null,
   "metadata": {},
   "outputs": [],
   "source": []
  }
 ],
 "metadata": {
  "kernelspec": {
   "display_name": "base",
   "language": "python",
   "name": "python3"
  },
  "language_info": {
   "codemirror_mode": {
    "name": "ipython",
    "version": 3
   },
   "file_extension": ".py",
   "mimetype": "text/x-python",
   "name": "python",
   "nbconvert_exporter": "python",
   "pygments_lexer": "ipython3",
   "version": "3.10.10"
  }
 },
 "nbformat": 4,
 "nbformat_minor": 2
}
